{
 "cells": [
  {
   "cell_type": "code",
   "execution_count": 44,
   "metadata": {},
   "outputs": [],
   "source": [
    "import numpy as np \n",
    "import keras  \n",
    "from keras.datasets import mnist \n",
    "from keras.models import Model, Sequential\n",
    "from keras.layers import Dense, Input, Conv2D, MaxPooling2D, Dropout, Flatten \n",
    "from keras import backend as k\n",
    "from sklearn.metrics import confusion_matrix\n",
    "import matplotlib.pyplot as plt\n",
    "import pandas as pd\n",
    "import seaborn as sns"
   ]
  },
  {
   "cell_type": "markdown",
   "metadata": {},
   "source": [
    "## Reading MNIST data set"
   ]
  },
  {
   "cell_type": "code",
   "execution_count": 2,
   "metadata": {},
   "outputs": [],
   "source": [
    "(x_train, y_train), (x_test, y_test) = mnist.load_data() "
   ]
  },
  {
   "cell_type": "markdown",
   "metadata": {},
   "source": [
    "## Checking Data Format"
   ]
  },
  {
   "cell_type": "code",
   "execution_count": 3,
   "metadata": {},
   "outputs": [],
   "source": [
    "img_row, img_col= (28, 28)\n",
    "\n",
    "\"\"\"\n",
    "    img_row and img_col are image dimensions and in MNIST dataset it is 28 x 28\n",
    "\"\"\"\n",
    "\n",
    "\n",
    "# The ordering of the dimensions in input\n",
    "\n",
    "if k.image_data_format() == 'channels_first':\n",
    "        \n",
    "    \"\"\"  channel_first : corrspond to inputs with shapes (batch, channels, height, width)  \"\"\"\n",
    "\n",
    "    x_train = x_train.reshape(x_train.shape[0], 1, img_row, img_col) \n",
    "    x_test  = x_test.reshape(x_test.shape[0], 1, img_row, img_col) \n",
    "    np = (1, img_row, img_col) \n",
    "    \n",
    "\n",
    "else:\n",
    "\n",
    "    \"\"\"  channel_last :  corrspond to inputs with shapes (batch, height, width, channels) \"\"\"\n",
    "    \n",
    "    x_train = x_train.reshape(x_train.shape[0], img_row, img_col, 1) \n",
    "    x_test = x_test.reshape(x_test.shape[0], img_row, img_col, 1) \n",
    "    np = (img_row, img_col, 1) \n",
    "    \n",
    "\n",
    "    \n",
    "# Setting the float values so it is possible to get get decimal points after division\n",
    "\n",
    "x_train = x_train.astype('float32') \n",
    "x_test  = x_test.astype('float32') \n",
    "\n",
    "\n",
    "\n",
    "x_train /= 255    # Normalizing:The max RGB value is 255\n",
    "x_test  /= 255    # Normalizing:The max RGB value is 255\n",
    "\n",
    "#print('x_train shape:', x_train.shape)\n",
    "#print('Number of images in x_train', x_train.shape[0])\n",
    "#print('Number of images in x_test', x_test.shape[0])"
   ]
  },
  {
   "cell_type": "markdown",
   "metadata": {},
   "source": [
    "## One Hot Coding"
   ]
  },
  {
   "cell_type": "code",
   "execution_count": 4,
   "metadata": {},
   "outputs": [
    {
     "data": {
      "text/plain": [
       "'\\ny_train = keras.utils.to_categorical(y_train) \\ny_test = keras.utils.to_categorical(y_test) \\n'"
      ]
     },
     "execution_count": 4,
     "metadata": {},
     "output_type": "execute_result"
    }
   ],
   "source": [
    "\"\"\"\n",
    "Our model cannot work with categorical data directly. \n",
    "We need to use one hot encoding. \n",
    "In one hot encoding, the digits 0 \n",
    "through 9 are represented as \n",
    "a set of nine zeros and a single one. \n",
    "The digit is determined by the location \n",
    "of the number 1. For example, you’d \n",
    "represent a 3 as [0, 0, 0, 1, 0, 0, 0, 0, 0, 0].\n",
    "\"\"\"\n",
    "\n",
    "from keras.utils import to_categorical\n",
    "\n",
    "y_train = to_categorical(y_train)\n",
    "y_test = to_categorical(y_test)\n",
    "\n",
    "\"\"\"\n",
    "y_train = keras.utils.to_categorical(y_train) \n",
    "y_test = keras.utils.to_categorical(y_test) \n",
    "\"\"\""
   ]
  },
  {
   "cell_type": "markdown",
   "metadata": {},
   "source": [
    "## CNN Model : using \"Model\" from keras.models"
   ]
  },
  {
   "cell_type": "code",
   "execution_count": 5,
   "metadata": {
    "scrolled": false
   },
   "outputs": [
    {
     "name": "stdout",
     "output_type": "stream",
     "text": [
      "Epoch 1/10\n",
      "60000/60000 [==============================] - 90s 1ms/step - loss: 0.5052 - accuracy: 0.8484\n",
      "Epoch 2/10\n",
      "60000/60000 [==============================] - 87s 1ms/step - loss: 0.1907 - accuracy: 0.9462\n",
      "Epoch 3/10\n",
      "60000/60000 [==============================] - 86s 1ms/step - loss: 0.1247 - accuracy: 0.9656\n",
      "Epoch 4/10\n",
      "60000/60000 [==============================] - 86s 1ms/step - loss: 0.0866 - accuracy: 0.9765\n",
      "Epoch 5/10\n",
      "60000/60000 [==============================] - 85s 1ms/step - loss: 0.0633 - accuracy: 0.9833\n",
      "Epoch 6/10\n",
      "60000/60000 [==============================] - 84s 1ms/step - loss: 0.0484 - accuracy: 0.9871\n",
      "Epoch 7/10\n",
      "60000/60000 [==============================] - 84s 1ms/step - loss: 0.0374 - accuracy: 0.9906\n",
      "Epoch 8/10\n",
      "60000/60000 [==============================] - 85s 1ms/step - loss: 0.0293 - accuracy: 0.9929\n",
      "Epoch 9/10\n",
      "60000/60000 [==============================] - 83s 1ms/step - loss: 0.0223 - accuracy: 0.9952\n",
      "Epoch 10/10\n",
      "60000/60000 [==============================] - 84s 1ms/step - loss: 0.0170 - accuracy: 0.9972\n",
      "Epoch 1/10\n",
      "10000/10000 [==============================] - 14s 1ms/step - loss: 0.0424 - accuracy: 0.9858\n",
      "Epoch 2/10\n",
      "10000/10000 [==============================] - 14s 1ms/step - loss: 0.0199 - accuracy: 0.9959\n",
      "Epoch 3/10\n",
      "10000/10000 [==============================] - 14s 1ms/step - loss: 0.0125 - accuracy: 0.9984\n",
      "Epoch 4/10\n",
      "10000/10000 [==============================] - 14s 1ms/step - loss: 0.0077 - accuracy: 0.9992\n",
      "Epoch 5/10\n",
      "10000/10000 [==============================] - 14s 1ms/step - loss: 0.0062 - accuracy: 0.9998\n",
      "Epoch 6/10\n",
      "10000/10000 [==============================] - 14s 1ms/step - loss: 0.0051 - accuracy: 0.9998\n",
      "Epoch 7/10\n",
      "10000/10000 [==============================] - 14s 1ms/step - loss: 0.0045 - accuracy: 0.9999\n",
      "Epoch 8/10\n",
      "10000/10000 [==============================] - 14s 1ms/step - loss: 0.0040 - accuracy: 0.9999\n",
      "Epoch 9/10\n",
      "10000/10000 [==============================] - 14s 1ms/step - loss: 0.0037 - accuracy: 0.9999\n",
      "Epoch 10/10\n",
      "10000/10000 [==============================] - 14s 1ms/step - loss: 0.0033 - accuracy: 1.0000\n"
     ]
    }
   ],
   "source": [
    "#  Building CNN\n",
    "\n",
    "np     = Input(shape = np) \n",
    "layer1 = Conv2D(32, kernel_size=(3, 3), activation='relu')(np) \n",
    "\"\"\"\n",
    "layer1: Conv2d layer which convolves \n",
    "the image using 32 filters each of size (3*3)\n",
    "\"\"\"\n",
    "layer2 = Conv2D(64, (3, 3), activation='relu')(layer1)\n",
    "\"\"\"\n",
    "layer2: Conv2D layer which convolve \n",
    "the image and is using 64 filters each of size (3*3)\n",
    "\"\"\"\n",
    "\n",
    "#layer3 = MaxPooling2D(pool_size=(3, 3))(layer2)\n",
    "\"\"\"\n",
    "layer3: MaxPooling2D layer which picks \n",
    "the max value out of a matrix of size (3*3)\n",
    "\"\"\"\n",
    "#layer4 = Dropout(0.5)(layer3) \n",
    "\"\"\"\n",
    "layer4: shows Dropout at a rate of 0.5\n",
    "\"\"\"\n",
    "layer5 = Flatten()(layer2) \n",
    "\"\"\"\n",
    "layer5: flatten the output obtained from layer4 \n",
    "and this flatten output is passed to layer6\n",
    "\"\"\"\n",
    "layer6 = Dense(250, activation = 'sigmoid')(layer5) \n",
    "\"\"\"\n",
    "layer6: shows a hidden layer of neural network containng 250 neurons.\n",
    "\"\"\"\n",
    "layer7 = Dense(10, activation = 'softmax')(layer6) \n",
    "\"\"\"\n",
    "layer7: shows output layer having 10 neurons for 10 \n",
    "classes of output that is using the softmax function\n",
    "the final Dense layer must have 10 neurons since we \n",
    "have 10 number classes (0, 1, 2, …, 9)\n",
    "\"\"\"\n",
    "\n",
    "#  Compiling and Fitting\n",
    "\n",
    "model = Model([np], layer7) \n",
    "model.compile(optimizer=keras.optimizers.Adadelta(), \n",
    "              loss=keras.losses.categorical_crossentropy,\n",
    "              metrics=['accuracy']) \n",
    "fashion_train = model.fit(x = x_train, y = y_train, epochs=10, batch_size=500 ,verbose=1) \n",
    "fashion_test  = model.fit(x = x_test,  y = y_test,  epochs=10, batch_size=500 ,verbose=1)"
   ]
  },
  {
   "cell_type": "markdown",
   "metadata": {},
   "source": [
    "## Evalute Function"
   ]
  },
  {
   "cell_type": "code",
   "execution_count": 14,
   "metadata": {},
   "outputs": [
    {
     "name": "stdout",
     "output_type": "stream",
     "text": [
      "Test loss = 0.04625269673503935\n",
      "Test accuracy = 0.9846000075340271\n"
     ]
    }
   ],
   "source": [
    "test_loss, test_acc = model.evaluate(x_test, y_test, verbose=0) \n",
    "print('Test loss =', test_loss) \n",
    "print('Test accuracy =', test_acc) "
   ]
  },
  {
   "cell_type": "code",
   "execution_count": 28,
   "metadata": {},
   "outputs": [],
   "source": [
    "test_eval = model.evaluate(x_test, y_test, verbose=0)"
   ]
  },
  {
   "cell_type": "markdown",
   "metadata": {},
   "source": [
    "## Confusion Matrix"
   ]
  },
  {
   "cell_type": "code",
   "execution_count": 52,
   "metadata": {},
   "outputs": [
    {
     "name": "stdout",
     "output_type": "stream",
     "text": [
      "10\n"
     ]
    },
    {
     "data": {
      "text/html": [
       "<div>\n",
       "<style scoped>\n",
       "    .dataframe tbody tr th:only-of-type {\n",
       "        vertical-align: middle;\n",
       "    }\n",
       "\n",
       "    .dataframe tbody tr th {\n",
       "        vertical-align: top;\n",
       "    }\n",
       "\n",
       "    .dataframe thead th {\n",
       "        text-align: right;\n",
       "    }\n",
       "</style>\n",
       "<table border=\"1\" class=\"dataframe\">\n",
       "  <thead>\n",
       "    <tr style=\"text-align: right;\">\n",
       "      <th></th>\n",
       "      <th>0</th>\n",
       "      <th>1</th>\n",
       "      <th>2</th>\n",
       "      <th>3</th>\n",
       "      <th>4</th>\n",
       "      <th>5</th>\n",
       "      <th>6</th>\n",
       "      <th>7</th>\n",
       "      <th>8</th>\n",
       "      <th>9</th>\n",
       "    </tr>\n",
       "  </thead>\n",
       "  <tbody>\n",
       "    <tr>\n",
       "      <td>0</td>\n",
       "      <td>10</td>\n",
       "      <td>0</td>\n",
       "      <td>0</td>\n",
       "      <td>0</td>\n",
       "      <td>0</td>\n",
       "      <td>2</td>\n",
       "      <td>3</td>\n",
       "      <td>1</td>\n",
       "      <td>2</td>\n",
       "      <td>0</td>\n",
       "    </tr>\n",
       "    <tr>\n",
       "      <td>1</td>\n",
       "      <td>0</td>\n",
       "      <td>10</td>\n",
       "      <td>0</td>\n",
       "      <td>2</td>\n",
       "      <td>0</td>\n",
       "      <td>0</td>\n",
       "      <td>2</td>\n",
       "      <td>1</td>\n",
       "      <td>2</td>\n",
       "      <td>0</td>\n",
       "    </tr>\n",
       "    <tr>\n",
       "      <td>2</td>\n",
       "      <td>2</td>\n",
       "      <td>1</td>\n",
       "      <td>10</td>\n",
       "      <td>1</td>\n",
       "      <td>1</td>\n",
       "      <td>0</td>\n",
       "      <td>2</td>\n",
       "      <td>5</td>\n",
       "      <td>4</td>\n",
       "      <td>0</td>\n",
       "    </tr>\n",
       "    <tr>\n",
       "      <td>3</td>\n",
       "      <td>0</td>\n",
       "      <td>0</td>\n",
       "      <td>3</td>\n",
       "      <td>10</td>\n",
       "      <td>0</td>\n",
       "      <td>8</td>\n",
       "      <td>0</td>\n",
       "      <td>1</td>\n",
       "      <td>5</td>\n",
       "      <td>1</td>\n",
       "    </tr>\n",
       "    <tr>\n",
       "      <td>4</td>\n",
       "      <td>0</td>\n",
       "      <td>0</td>\n",
       "      <td>2</td>\n",
       "      <td>0</td>\n",
       "      <td>10</td>\n",
       "      <td>0</td>\n",
       "      <td>4</td>\n",
       "      <td>0</td>\n",
       "      <td>2</td>\n",
       "      <td>10</td>\n",
       "    </tr>\n",
       "    <tr>\n",
       "      <td>5</td>\n",
       "      <td>2</td>\n",
       "      <td>0</td>\n",
       "      <td>0</td>\n",
       "      <td>3</td>\n",
       "      <td>0</td>\n",
       "      <td>10</td>\n",
       "      <td>1</td>\n",
       "      <td>0</td>\n",
       "      <td>0</td>\n",
       "      <td>0</td>\n",
       "    </tr>\n",
       "    <tr>\n",
       "      <td>6</td>\n",
       "      <td>6</td>\n",
       "      <td>2</td>\n",
       "      <td>1</td>\n",
       "      <td>0</td>\n",
       "      <td>2</td>\n",
       "      <td>7</td>\n",
       "      <td>10</td>\n",
       "      <td>0</td>\n",
       "      <td>1</td>\n",
       "      <td>0</td>\n",
       "    </tr>\n",
       "    <tr>\n",
       "      <td>7</td>\n",
       "      <td>1</td>\n",
       "      <td>0</td>\n",
       "      <td>6</td>\n",
       "      <td>2</td>\n",
       "      <td>0</td>\n",
       "      <td>0</td>\n",
       "      <td>0</td>\n",
       "      <td>10</td>\n",
       "      <td>1</td>\n",
       "      <td>3</td>\n",
       "    </tr>\n",
       "    <tr>\n",
       "      <td>8</td>\n",
       "      <td>4</td>\n",
       "      <td>0</td>\n",
       "      <td>2</td>\n",
       "      <td>1</td>\n",
       "      <td>1</td>\n",
       "      <td>5</td>\n",
       "      <td>0</td>\n",
       "      <td>4</td>\n",
       "      <td>10</td>\n",
       "      <td>2</td>\n",
       "    </tr>\n",
       "    <tr>\n",
       "      <td>9</td>\n",
       "      <td>3</td>\n",
       "      <td>3</td>\n",
       "      <td>0</td>\n",
       "      <td>4</td>\n",
       "      <td>4</td>\n",
       "      <td>8</td>\n",
       "      <td>0</td>\n",
       "      <td>4</td>\n",
       "      <td>4</td>\n",
       "      <td>10</td>\n",
       "    </tr>\n",
       "  </tbody>\n",
       "</table>\n",
       "</div>"
      ],
      "text/plain": [
       "    0   1   2   3   4   5   6   7   8   9\n",
       "0  10   0   0   0   0   2   3   1   2   0\n",
       "1   0  10   0   2   0   0   2   1   2   0\n",
       "2   2   1  10   1   1   0   2   5   4   0\n",
       "3   0   0   3  10   0   8   0   1   5   1\n",
       "4   0   0   2   0  10   0   4   0   2  10\n",
       "5   2   0   0   3   0  10   1   0   0   0\n",
       "6   6   2   1   0   2   7  10   0   1   0\n",
       "7   1   0   6   2   0   0   0  10   1   3\n",
       "8   4   0   2   1   1   5   0   4  10   2\n",
       "9   3   3   0   4   4   8   0   4   4  10"
      ]
     },
     "metadata": {},
     "output_type": "display_data"
    },
    {
     "data": {
      "image/png": "[encoded data removed]",
      "text/plain": [
       "<Figure size 864x576 with 2 Axes>"
      ]
     },
     "metadata": {
      "needs_background": "light"
     },
     "output_type": "display_data"
    }
   ],
   "source": [
    "test_predict = model.predict(x_test)\n",
    "confusion = confusion_matrix(y_test, np.argmax(test_predict, axis= 1))\n",
    "df = pd.DataFrame(confusion)\n",
    "#print(df)\n",
    "\n",
    "np.fill_diagonal(df.values , 0)\n",
    "ultros = np.max(np.max(df))\n",
    "np.fill_diagonal(df.values,ultros)\n",
    "print(ultros)\n",
    "plt.figure(figsize = (12, 8))\n",
    "display(df)\n",
    "ax = sns.heatmap(df, annot = True, linewidths=0.5 , square = True, cmap = 'Blues_r')\n",
    "bottom,top = ax.get_ylim()\n",
    "ax.set_ylim(bottom + 0.5 , top - 0.5)\n",
    "plt.show()"
   ]
  },
  {
   "cell_type": "code",
   "execution_count": 8,
   "metadata": {},
   "outputs": [
    {
     "data": {
      "image/png": "[encoded data removed]",
      "text/plain": [
       "<Figure size 432x288 with 1 Axes>"
      ]
     },
     "metadata": {
      "needs_background": "light"
     },
     "output_type": "display_data"
    },
    {
     "data": {
      "image/png": "[encoded data removed]",
      "text/plain": [
       "<Figure size 432x288 with 1 Axes>"
      ]
     },
     "metadata": {
      "needs_background": "light"
     },
     "output_type": "display_data"
    }
   ],
   "source": [
    "accuracy = fashion_train.history['accuracy']\n",
    "val_accuracy = fashion_test.history['accuracy']\n",
    "loss = fashion_train.history['loss']\n",
    "val_loss = fashion_test.history['loss']\n",
    "epochs = range(len(accuracy))\n",
    "plt.plot(epochs, accuracy, 'ro', label='Training accuracy')\n",
    "plt.plot(epochs, val_accuracy, 'b', label='Test accuracy')\n",
    "plt.title('Training and Test accuracy')\n",
    "plt.legend()\n",
    "\n",
    "plt.figure()\n",
    "plt.plot(epochs, loss, 'ro', label='Training loss')\n",
    "plt.plot(epochs, val_loss, 'b', label='Test loss')\n",
    "plt.title('Training and Test loss')\n",
    "plt.legend()\n",
    "plt.show()"
   ]
  },
  {
   "cell_type": "markdown",
   "metadata": {},
   "source": [
    "## Making an Individual Prediction"
   ]
  },
  {
   "cell_type": "code",
   "execution_count": 9,
   "metadata": {},
   "outputs": [
    {
     "name": "stdout",
     "output_type": "stream",
     "text": [
      "3\n"
     ]
    },
    {
     "data": {
      "image/png": "[encoded data removed]",
      "text/plain": [
       "<Figure size 432x288 with 1 Axes>"
      ]
     },
     "metadata": {
      "needs_background": "light"
     },
     "output_type": "display_data"
    }
   ],
   "source": [
    "image_index = 3456\n",
    "plt.imshow(x_test[image_index].reshape(28, 28),cmap='Greys')\n",
    "pred = model.predict(x_test[image_index].reshape(1, img_row, img_col, 1))\n",
    "print(pred.argmax())"
   ]
  },
  {
   "cell_type": "markdown",
   "metadata": {},
   "source": [
    "## Reading MNIST data set"
   ]
  },
  {
   "cell_type": "code",
   "execution_count": 10,
   "metadata": {},
   "outputs": [],
   "source": [
    "import tensorflow as tf\n",
    "\n",
    "(x_train, y_train), (x_test, y_test) = tf.keras.datasets.mnist.load_data()"
   ]
  },
  {
   "cell_type": "markdown",
   "metadata": {},
   "source": [
    "## CNN Model : using Sequential model from Keras and TensorFlow"
   ]
  },
  {
   "cell_type": "code",
   "execution_count": 11,
   "metadata": {},
   "outputs": [
    {
     "name": "stdout",
     "output_type": "stream",
     "text": [
      "Epoch 1/2\n",
      "60000/60000 [==============================] - 29s 486us/step - loss: 0.1882 - accuracy: 0.9435\n",
      "Epoch 2/2\n",
      "60000/60000 [==============================] - 28s 473us/step - loss: 0.0795 - accuracy: 0.9754\n"
     ]
    },
    {
     "data": {
      "text/plain": [
       "<keras.callbacks.callbacks.History at 0x7f1dd9f69f60>"
      ]
     },
     "execution_count": 11,
     "metadata": {},
     "output_type": "execute_result"
    }
   ],
   "source": [
    "# Reshaping the array to 4-dims so that it can work with the Keras API\n",
    "x_train = x_train.reshape(x_train.shape[0], 28, 28, 1)\n",
    "x_test = x_test.reshape(x_test.shape[0], 28, 28, 1)\n",
    "input_shape = (28, 28, 1)\n",
    "\n",
    "# Setting the float values so it is possible to get get decimal points after division\n",
    "x_train = x_train.astype('float32')\n",
    "x_test = x_test.astype('float32')\n",
    "\n",
    "\n",
    "x_train /= 255    # Normalizing:The max RGB value is 255\n",
    "x_test /= 255     # Normalizing:The max RGB value is 255\n",
    "\n",
    "\n",
    "# Sequential Model and relevant layers\n",
    "\n",
    "model = Sequential()\n",
    "\n",
    "model.add(Conv2D(64, kernel_size=(3,3), input_shape = input_shape))\n",
    "\"\"\"\n",
    "layer1: Conv2d layer which convolves \n",
    "the image using 64 filters each of size (3*3)\n",
    "\"\"\"\n",
    "model.add(MaxPooling2D(pool_size = (3, 3)))\n",
    "\"\"\"\n",
    "layer2: MaxPooling2D layer which picks \n",
    "the max value out of a matrix of size (3*3)\n",
    "Maxpooling is one of the most common techniques\n",
    "to reduce the spatial size of the representation,\n",
    "to reduce the parameter counts which reduces the\n",
    "computational complexity. In addition, pooling \n",
    "layers also helps with the overfitting problem. \n",
    "\"\"\"\n",
    "model.add(Dropout(0.5))\n",
    "\"\"\"\n",
    "layer3: shows Dropout at a rate of 0.5\n",
    "Dropout layers fight with the overfitting \n",
    "by disregarding some of the neurons while training\n",
    "\"\"\"\n",
    "model.add(Flatten())\n",
    "\"\"\"\n",
    "layer4: flatten the output obtained from layer3 \n",
    "and this flatten output is passed to layer5\n",
    "\"\"\"\n",
    "model.add(Dense(128, activation = tf.nn.relu))\n",
    "\"\"\"\n",
    "layer5: shows a hidden layer of neural network containng 128 neurons\n",
    "\"\"\"\n",
    "model.add(Dense(10, activation = tf.nn.softmax))\n",
    "\"\"\"\n",
    "layer6: shows output layer having 10 neurons for 10 \n",
    "classes of output that is using the softmax function\n",
    "the final Dense layer must have 10 neurons since we \n",
    "have 10 number classes (0, 1, 2, …, 9)\n",
    "\"\"\"\n",
    "\n",
    "# Compiling and Fitting\n",
    "\n",
    "model.compile(optimizer='adam', loss='sparse_categorical_crossentropy', metrics=['accuracy'])\n",
    "model.fit(x = x_train,y = y_train, epochs = 2)"
   ]
  },
  {
   "cell_type": "markdown",
   "metadata": {},
   "source": [
    "## Evalute Function"
   ]
  },
  {
   "cell_type": "code",
   "execution_count": 12,
   "metadata": {},
   "outputs": [
    {
     "name": "stdout",
     "output_type": "stream",
     "text": [
      "Test loss = 0.04625269673503935\n",
      "Test accuracy = 0.9846000075340271\n"
     ]
    }
   ],
   "source": [
    "test_loss, test_acc = model.evaluate(x_test, y_test, verbose=0) \n",
    "print('Test loss =', test_loss) \n",
    "print('Test accuracy =', test_acc) "
   ]
  }
 ],
 "metadata": {
  "kernelspec": {
   "display_name": "Python 3",
   "language": "python",
   "name": "python3"
  },
  "language_info": {
   "codemirror_mode": {
    "name": "ipython",
    "version": 3
   },
   "file_extension": ".py",
   "mimetype": "text/x-python",
   "name": "python",
   "nbconvert_exporter": "python",
   "pygments_lexer": "ipython3",
   "version": "3.6.9"
  }
 },
 "nbformat": 4,
 "nbformat_minor": 2
}
