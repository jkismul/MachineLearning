{
 "cells": [
  {
   "cell_type": "code",
   "execution_count": 1,
   "metadata": {},
   "outputs": [],
   "source": [
    "import matplotlib.pyplot as plt\n",
    "import numpy as np\n",
    "from sklearn import datasets, svm, metrics\n",
    "from sklearn.datasets import fetch_openml, load_digits\n",
    "from sklearn.model_selection import train_test_split, GridSearchCV\n",
    "import pandas as pd\n",
    "import seaborn as sn\n",
    "from sklearn.preprocessing import StandardScaler, OneHotEncoder\n",
    "from sklearn.compose import ColumnTransformer\n",
    "import scikitplot as skplt\n",
    "from PIL import Image\n",
    "from sklearn.decomposition import PCA"
   ]
  },
  {
   "cell_type": "markdown",
   "metadata": {},
   "source": [
    "## Getting Creditcard Data (P2)"
   ]
  },
  {
   "cell_type": "code",
   "execution_count": 2,
   "metadata": {},
   "outputs": [],
   "source": [
    "def ReadData():\n",
    "    #importing data set(s)\n",
    "    filename = 'default of credit card clients.xls'\n",
    "    nanDict = {} #this does nothing with this data set\n",
    "    #read file\n",
    "    df = pd.read_excel(filename,header=1,skiprows=0,index_col=0,na_values=nanDict) \n",
    "    #rename last column\n",
    "    df.rename(index=str, columns={\"default payment next month\": \"defaultPaymentNextMonth\"}, inplace=True)\n",
    "    #Replace nonsensical values in PAY_i columns with 0\n",
    "    for i in [0,2,3,4,5,6]:\n",
    "        col = 'PAY_{}'.format(i)\n",
    "        df[col].replace(to_replace=-2, value = 0, inplace=True)\n",
    "    #shuffle dataset by row\n",
    "    df.sample(frac=1)\n",
    "    \n",
    "    # Define features and targets \n",
    "    X = df.loc[:, df.columns != 'defaultPaymentNextMonth'].values\n",
    "    y = df.loc[:, df.columns == 'defaultPaymentNextMonth'].values\n",
    "    \n",
    "    # Categorical variables to one-hots, setting nonsensical values to 0\n",
    "    onehotencoder1 = OneHotEncoder(categories='auto')\n",
    "    onehotencoder2 = OneHotEncoder(categories='auto',drop='first')\n",
    "\n",
    "    # sets number of elements in onehot vectors automatically from data.\n",
    "    Xt= ColumnTransformer(\n",
    "        [(\"one\", onehotencoder1, [1]),(\"two\", onehotencoder2, [2,3]),],\n",
    "        remainder=\"passthrough\"\n",
    "    ).fit_transform(X)\n",
    "\n",
    "    # Train-test split\n",
    "    trainingShare = 0.5\n",
    "    seed  = 1\n",
    "    XTrain, XTest, yTrain, yTest=train_test_split(Xt, y, train_size=trainingShare, \\\n",
    "                                                 random_state=seed, stratify = y)\n",
    "    \n",
    "    #scale data, except one-hotted\n",
    "    sc = StandardScaler()\n",
    "    XTrain_fitting = XTrain[:,11:]\n",
    "    XTest_fitting = XTest[:,11:]\n",
    "    #removes mean, scales by std\n",
    "    XTrain_scaler = sc.fit_transform(XTrain_fitting)\n",
    "    XTest_scaler = sc.transform(XTest_fitting)\n",
    "    #puts together the complete model matrix again\n",
    "    XTrain_scaled=np.c_[XTrain[:,:11],XTrain_scaler]\n",
    "    XTest_scaled = np.c_[XTest[:,:11],XTest_scaler]\n",
    "\n",
    "\n",
    "    \n",
    "    \n",
    "    return XTrain_scaled,XTest_scaled,yTrain,yTest"
   ]
  },
  {
   "cell_type": "markdown",
   "metadata": {},
   "source": [
    "### Helper Functions for Plotting the Gains Curve on Top of Plott"
   ]
  },
  {
   "cell_type": "code",
   "execution_count": 13,
   "metadata": {},
   "outputs": [],
   "source": [
    "def plot_lift(h,method):\n",
    "    backg=np.array(Image.open(\"Gains_logreg.jpg\"))\n",
    "\n",
    "    fig, ax2 = plt.subplots(1,1)\n",
    "    ax2.plot(h[1].get_xdata(), h[1].get_ydata(),'r--',dashes=(3,3), lw=3, label='fitted curve')\n",
    "    ax2.legend(loc='right')\n",
    "    ax2.imshow(backg,aspect='auto',extent=[0,1,0,1.065])\n",
    "\n",
    "    ax2.set_title(method)\n",
    "    ax2.set_xlabel('Number of total data',fontweight='bold')\n",
    "    ax2.set_ylabel('Cumulative number of target data',fontweight='bold')\n",
    "\n",
    "    ax2.set_xticks((0,0.33,0.66,1))\n",
    "    ax2.set_xticklabels((0,5000,10000,15000))\n",
    "    ax2.set_yticks((0,0.15,0.307,0.46,0.614,0.77,0.92,1.065))\n",
    "    ax2.set_yticklabels((0,500,1000,1500,2000,2500,3000,3500));  \n",
    "    plt.show()"
   ]
  },
  {
   "cell_type": "code",
   "execution_count": 4,
   "metadata": {},
   "outputs": [],
   "source": [
    "def calc_area_ratio(pred,real):\n",
    "    fig,ax = plt.subplots(1,1)\n",
    "    y_te = two(pred)\n",
    "    skplt.metrics.plot_cumulative_gain(real.ravel(), y_te,ax=ax)\n",
    "    ax.grid(b=None)\n",
    "    hh,ll=ax.get_legend_handles_labels()\n",
    "    plt.close()\n",
    "    defaults = sum(real == 1)\n",
    "    total = len(real)\n",
    "    defaultRate = defaults/total\n",
    "\n",
    "    bestie=bestCurve(defaults,total,defaultRate)\n",
    "    dia = np.linspace(0,1,15000)\n",
    "    classi=hh[1].get_ydata()\n",
    "    diff_c = np.sum(classi)-np.sum(dia)\n",
    "    diff_b = np.sum(bestie[1])-np.sum(dia)+1 #adding a 1 on the end of bestie for dimensions?\n",
    "    area_ratio = diff_c/diff_b\n",
    "    return area_ratio,hh"
   ]
  },
  {
   "cell_type": "code",
   "execution_count": 5,
   "metadata": {},
   "outputs": [],
   "source": [
    "def two(y): #helper function for lift curve plotting\n",
    "    y_two = np.zeros(len(y))\n",
    "    for i in range(len(y)):\n",
    "        y_two[i] = 1-y[i]\n",
    "    return np.c_[y_two,y]"
   ]
  },
  {
   "cell_type": "code",
   "execution_count": 6,
   "metadata": {},
   "outputs": [],
   "source": [
    "def bestCurve(defaults, total, defaultRate): #create best curve\n",
    "    x = np.linspace(0, 1, total)\n",
    "    \n",
    "    y1 = np.linspace(0, 1, defaults)\n",
    "    y2 = np.ones(total-defaults)\n",
    "    y3 = np.concatenate([y1,y2])\n",
    "    return x, y3"
   ]
  },
  {
   "cell_type": "markdown",
   "metadata": {},
   "source": [
    "## SVM on Credit Card Data"
   ]
  },
  {
   "cell_type": "code",
   "execution_count": 7,
   "metadata": {},
   "outputs": [],
   "source": [
    "#Dividing dataset in train and test data\n",
    "XTrain_CD,XTest_CD,yTrain_CD,yTest_CD = ReadData()"
   ]
  },
  {
   "cell_type": "code",
   "execution_count": 8,
   "metadata": {},
   "outputs": [
    {
     "name": "stdout",
     "output_type": "stream",
     "text": [
      "[LibSVM](15000, 2)\n",
      "0.18033333333333335\n",
      "0.17226666666666668\n",
      "[[11145   537]\n",
      " [ 2168  1150]]\n",
      "[[11201   481]\n",
      " [ 2103  1215]]\n"
     ]
    }
   ],
   "source": [
    "#making a model for classification\n",
    "classifier = svm.SVC(C = 1, kernel = 'rbf', gamma = 'scale', verbose = True, decision_function_shape= 'ovo', probability = True)\n",
    "classifier.fit(XTrain_CD, np.squeeze(yTrain_CD))\n",
    "#function to give probabilities as output for calculating AUC and gains curve\n",
    "predicted_CD = classifier.predict_proba(XTest_CD)\n",
    "predicted_ = classifier.predict(XTest_CD)\n",
    "#normal output for accuracy/error score\n",
    "pred_train = classifier.predict_proba(XTrain_CD)\n",
    "pred_train_ = classifier.predict(XTrain_CD)\n",
    "print(np.shape(predicted_CD))\n",
    "print(1-metrics.accuracy_score(yTest_CD, predicted_))\n",
    "print(1-metrics.accuracy_score(yTrain_CD, pred_train_))\n",
    "print(metrics.confusion_matrix(yTest_CD, predicted_))\n",
    "print(metrics.confusion_matrix(yTrain_CD, pred_train_))"
   ]
  },
  {
   "cell_type": "code",
   "execution_count": 14,
   "metadata": {},
   "outputs": [
    {
     "name": "stdout",
     "output_type": "stream",
     "text": [
      "Test\n",
      "0.45184080938699384\n",
      "Train\n",
      "0.5746157246304585\n",
      "Confusion Matrix\n",
      "[[11145  2168]\n",
      " [  537  1150]]\n"
     ]
    },
    {
     "data": {
      "image/png": "[encoded data removed]",
      "text/plain": [
       "<Figure size 432x288 with 1 Axes>"
      ]
     },
     "metadata": {
      "needs_background": "light"
     },
     "output_type": "display_data"
    }
   ],
   "source": [
    "# calculation for area ratio and plotting of gains curve of SVM onto the plot of logreg\n",
    "yyy = classifier.predict(XTest_CD)\n",
    "print('Test')\n",
    "print(calc_area_ratio(predicted_CD[:,1],yTest_CD)[0])\n",
    "print('Train')\n",
    "print(calc_area_ratio(pred_train[:,1], yTrain_CD)[0])\n",
    "print('Confusion Matrix')\n",
    "print(metrics.confusion_matrix(yyy,yTest_CD))\n",
    "\n",
    "plot_lift(calc_area_ratio(predicted_CD[:,1],yTest_CD)[1],'SVM')"
   ]
  },
  {
   "cell_type": "code",
   "execution_count": 15,
   "metadata": {},
   "outputs": [],
   "source": [
    "#Testing out PCA\n",
    "n_comp =18\n",
    "pca = PCA(n_components=n_comp)\n",
    "X2D = pca.fit_transform(XTrain_CD)\n",
    "X2Dt = pca.transform(XTest_CD)"
   ]
  },
  {
   "cell_type": "code",
   "execution_count": 16,
   "metadata": {},
   "outputs": [
    {
     "name": "stdout",
     "output_type": "stream",
     "text": [
      "[LibSVM]0.18046666666666666\n"
     ]
    },
    {
     "data": {
      "text/plain": [
       "array([[11137,   545],\n",
       "       [ 2162,  1156]])"
      ]
     },
     "execution_count": 16,
     "metadata": {},
     "output_type": "execute_result"
    }
   ],
   "source": [
    "classifier_pca = svm.SVC(C = 1, kernel = 'rbf', gamma = 'scale', verbose = True, decision_function_shape= 'ovo')\n",
    "classifier_pca.fit(X2D, np.squeeze(yTrain_CD))\n",
    "predicted_CD = classifier_pca.predict(X2Dt)\n",
    "print(1-metrics.accuracy_score(yTest_CD, predicted_CD))\n",
    "metrics.confusion_matrix(yTest_CD, predicted_CD)"
   ]
  },
  {
   "cell_type": "markdown",
   "metadata": {},
   "source": [
    "## MNIST"
   ]
  },
  {
   "cell_type": "code",
   "execution_count": 17,
   "metadata": {},
   "outputs": [],
   "source": [
    "#Getting MNIST dataset. fetch_openml gets 28x28pixel dataset, and load_digits gets 8x8pixel dataset from scikit learn\n",
    "mnist = fetch_openml('mnist_784')\n",
    "#mnist = load_digits()\n",
    "X = mnist.data\n",
    "y = mnist.target"
   ]
  },
  {
   "cell_type": "code",
   "execution_count": 18,
   "metadata": {},
   "outputs": [],
   "source": [
    "#Dividing data into training and test data sets\n",
    "trainingShare = 0.8\n",
    "seed  = 1234\n",
    "XTrain, XTest, yTrain, yTest=train_test_split(X, y, train_size=trainingShare, \\\n",
    "                                              random_state=seed, stratify = y)"
   ]
  },
  {
   "cell_type": "code",
   "execution_count": 19,
   "metadata": {},
   "outputs": [],
   "source": [
    "#Performing PCA on MNIST for faster runs of the model\n",
    "n_comp =30\n",
    "pca = PCA(n_components=n_comp)\n",
    "X2D = pca.fit_transform(XTrain)\n",
    "X2Dt = pca.transform(XTest)"
   ]
  },
  {
   "cell_type": "code",
   "execution_count": 20,
   "metadata": {},
   "outputs": [],
   "source": [
    "#making SVM model for classification, trial and error based on the gridsearch for the small data set lead to using C = 3\n",
    "svc = svm.SVC(C = 3, gamma = 'scale', kernel = 'rbf')\n",
    "svc.fit(X2D, yTrain)\n",
    "predicted = svc.predict(X2Dt)\n",
    "\n",
    "#GridsearchCV performed on the small dataset (8x8pixel) other than standard settings for hyperparameters this yielded C = 2\n",
    "#ameters = {'kernel':('linear', 'rbf', 'poly', 'sigmoid'), 'C':[1e-3, 1e-2, 1e-1, 1, 2, 3, 4, 4, 5, 10, 100], 'degree':np.linspace(1,10,10)}\n",
    "#classifier = GridSearchCV(svc, parameters, cv = 5)  \n",
    "#classifier = svc(C=2, kernel = 'rbf')"
   ]
  },
  {
   "cell_type": "code",
   "execution_count": 21,
   "metadata": {},
   "outputs": [
    {
     "name": "stdout",
     "output_type": "stream",
     "text": [
      "0.9821428571428571\n"
     ]
    },
    {
     "data": {
      "text/plain": [
       "array([[1365,    0,    1,    1,    1,    0,    7,    1,    2,    2],\n",
       "       [   0, 1564,    6,    0,    0,    0,    3,    1,    1,    0],\n",
       "       [   2,    2, 1373,    4,    1,    2,    0,    6,    4,    4],\n",
       "       [   0,    2,    7, 1387,    1,   10,    0,    7,    8,    6],\n",
       "       [   1,    2,    0,    0, 1347,    0,    4,    0,    1,   10],\n",
       "       [   2,    0,    0,    4,    3, 1238,    4,    0,    6,    6],\n",
       "       [   3,    1,    2,    0,    6,    3, 1358,    0,    2,    0],\n",
       "       [   1,    4,    4,    3,    4,    0,    0, 1431,    4,    8],\n",
       "       [   0,    5,    6,    7,    0,    3,    6,    0, 1335,    3],\n",
       "       [   5,    1,    1,    6,   13,    3,    1,    6,    4, 1352]])"
      ]
     },
     "execution_count": 21,
     "metadata": {},
     "output_type": "execute_result"
    }
   ],
   "source": [
    "print(metrics.accuracy_score(yTest, predicted))\n",
    "metrics.confusion_matrix(yTest, predicted)"
   ]
  },
  {
   "cell_type": "code",
   "execution_count": 22,
   "metadata": {},
   "outputs": [],
   "source": [
    "#Plotter for nice seaborn confusion matrix\n",
    "def plot_confusion(y_real,y_pred,labs):\n",
    "    if not labs:\n",
    "        labs = np.unique(y_real)\n",
    "    y_pred=y_pred.reshape(y_real.shape)\n",
    "    confused = confusion_matrix(y_real,y_pred,sample_weight = None)\n",
    "    df_cm = pd.DataFrame(confused,columns=labs, index=labs)\n",
    "\n",
    "    df_cm.index.name = 'Actual'\n",
    "    df_cm.columns.name ='Predicted'\n",
    "    plt.figure(figsize=(3,3))\n",
    "    sn.set(font_scale=1.4)\n",
    "    ax = sn.heatmap(df_cm, cmap=\"inferno\",annot=True, fmt='g',annot_kws={\"size\":16})\n",
    "    first,second=ax.get_ylim()\n",
    "    ax.set_ylim(first+0.5,0)\n",
    "    plt.show()\n",
    "    sn.set(style=\"white\") #fixes ugly backgrounds"
   ]
  },
  {
   "cell_type": "code",
   "execution_count": 23,
   "metadata": {
    "scrolled": true
   },
   "outputs": [
    {
     "data": {
      "image/png": "[encoded data removed]",
      "text/plain": [
       "<Figure size 432x288 with 2 Axes>"
      ]
     },
     "metadata": {
      "needs_background": "light"
     },
     "output_type": "display_data"
    }
   ],
   "source": [
    "import pandas as pd\n",
    "import seaborn as sn\n",
    "a = metrics.confusion_matrix(predicted, yTest)\n",
    "df = pd.DataFrame(a)\n",
    "\n",
    "#scaling the diagonal to make a beautiful seaborn plot\n",
    "np.fill_diagonal(df.values,0)\n",
    "ultros=np.max(np.max(df))\n",
    "np.fill_diagonal(df.values,ultros)\n",
    "\n",
    "ax = sn.heatmap(df,annot=True)\n",
    "bottom,top = ax.get_ylim()\n",
    "ax.set_ylim(bottom+0.5,top-0.5)\n",
    "ax.set_xlabel('True')\n",
    "ax.set_ylabel('Predicted')\n",
    "plt.title(\"Confusion matrix - SVM\")\n",
    "plt.show()\n",
    "\n",
    "#display(df)"
   ]
  },
  {
   "cell_type": "markdown",
   "metadata": {},
   "source": [
    "## SVM on Franke Funktion"
   ]
  },
  {
   "cell_type": "code",
   "execution_count": 24,
   "metadata": {},
   "outputs": [],
   "source": [
    "\"\"\"\n",
    "This is an \"uglified\" version of the FrankeFunction, to minimize use of costly functions like divisions and powers.\n",
    "It takes as input parameters a meshgrid of coordinates in the x and y direction.\n",
    "\"\"\"\n",
    "def FrankeFunction(x,y): #still got one division in here\n",
    "    term1 = 0.75*np.exp(-(0.25*(9*x-2)*(9*x-2)) - 0.25*((9*y-2)*(9*y-2)))\n",
    "    term2 = 0.75*np.exp(-((9*x+1)*(9*x+1))/49.0 - 0.1*(9*y+1))\n",
    "    term3 = 0.5*np.exp(-(9*x-7)*(9*x-7)*0.25 - 0.25*((9*y-3)*(9*y-3)))\n",
    "    term4 = -0.2*np.exp(-(9*x-4)*(9*x-4) - (9*y-7)*(9*y-7))\n",
    "    return term1 + term2 + term3 + term4"
   ]
  },
  {
   "cell_type": "code",
   "execution_count": 25,
   "metadata": {},
   "outputs": [],
   "source": [
    "\"\"\"\n",
    "This function creates the Model Matrix, usually dubbed X, for regression analysis.\n",
    "It takes as input parameters a meshgrid of coordinates in the x and y direction, \n",
    "and the polynomial degree P that you wish to fit.\n",
    "\n",
    "The order of columns is different from the one scikit learn creates, so take care to use the same model-creator when\n",
    "comparing scikit and this code.\n",
    "\n",
    "The ordering this function creates is: x^0y^0, x^1y^0, x^2y^0, x^0y^1, x^1y^1, x^0y^2 for a 2nd order polynomial.\n",
    "\"\"\"\n",
    "def Model(x,y,P): \n",
    "#     m = len(x)*len(y) # number of equations\n",
    "    m=len(x)\n",
    "    t = sum(range(P+2)) # number of terms in polynomial\n",
    "    X = np.zeros((m,t)) # Model matrix\n",
    "#     a = np.matrix.flatten(x)\n",
    "#     b = np.matrix.flatten(y)\n",
    "    a=x\n",
    "    b=x\n",
    "    c = 0 #counter\n",
    "    for i in range(P+1):\n",
    "        for j in range(P+1-i):\n",
    "            X[:,c] = a**j*b**i\n",
    "            c +=1\n",
    "    return X"
   ]
  },
  {
   "cell_type": "code",
   "execution_count": 26,
   "metadata": {},
   "outputs": [],
   "source": [
    "#creating 2 datasets instead of doing train test split for ease of plotting.\n",
    "N = 150 #number of points along x and y axes\n",
    "np.random.seed(1111)\n",
    "# sort this for meshgrid\n",
    "x = np.sort(np.random.uniform(0,1,N))\n",
    "y = np.sort(np.random.uniform(0,1,N))\n",
    "x, y = np.meshgrid(x,y,sparse=False)\n",
    "\n",
    "#create datapoints/results\n",
    "z = FrankeFunction(x, y)\n",
    "\n",
    "# Create noise\n",
    "noise_weight = 0.1\n",
    "Noise = noise_weight*np.random.randn(N,N)\n",
    "\n",
    "#add noise\n",
    "z_noise = z+Noise\n",
    "\n",
    "#flatten for use in functions\n",
    "z_n = np.matrix.flatten(z_noise)\n",
    "X_matr = np.c_[np.matrix.flatten(x),np.matrix.flatten(y),z_n]\n",
    "np.random.shuffle(X_matr)\n",
    "Xshuf,yshuf = X_matr[:,:2],X_matr[:,2]\n",
    "\n",
    "N2=20\n",
    "# sort this for meshgrid\n",
    "x2 = np.sort(np.random.uniform(0,1,N2))\n",
    "y2 = np.sort(np.random.uniform(0,1,N2))\n",
    "x2, y2 = np.meshgrid(x2,y2,sparse=False)\n",
    "\n",
    "#create datapoints/results\n",
    "z2 = FrankeFunction(x2, y2)\n",
    "\n",
    "# Create noise\n",
    "noise_weight2 = 0.1\n",
    "Noise2 = noise_weight2*np.random.randn(N2,N2)\n",
    "\n",
    "#add noise\n",
    "z_noise2 = z2+Noise2\n",
    "\n",
    "#flatten for use in functions\n",
    "z_n2 = np.matrix.flatten(z_noise2)\n",
    "X_matr2 = np.c_[np.matrix.flatten(x2),np.matrix.flatten(y2),z_n2]\n",
    "np.random.shuffle(X_matr2)\n",
    "Xshuf2,yshuf2 = X_matr2[:,:2],X_matr2[:,2]\n",
    "\n",
    "#dividing in train and test data sets\n",
    "xtr,ytr,xte,yte = Xshuf[:,:2],yshuf[:],Xshuf2[:,:2],yshuf2[:]\n"
   ]
  },
  {
   "cell_type": "code",
   "execution_count": 27,
   "metadata": {},
   "outputs": [
    {
     "name": "stdout",
     "output_type": "stream",
     "text": [
      "[LibSVM]train\n",
      "0.8864318483591476\n",
      "test\n",
      "0.9168276703096502\n"
     ]
    }
   ],
   "source": [
    "#Making SVM model for regression. Trial and error/ handtuning of parameters lead to the following hyper parameters.\n",
    "svr = svm.SVR(C=1.5, gamma = 'scale',kernel='rbf', verbose=True, epsilon = 0.01)\n",
    "fitR = svr.fit(xtr,ytr)\n",
    "pred = svr.predict(xte)\n",
    "pred_tr = svr.predict(xtr)\n",
    "print('train')\n",
    "print(metrics.r2_score(ytr, pred_tr))\n",
    "print('test')\n",
    "print(metrics.r2_score(yte, pred))"
   ]
  },
  {
   "cell_type": "code",
   "execution_count": 28,
   "metadata": {},
   "outputs": [
    {
     "name": "stdout",
     "output_type": "stream",
     "text": [
      "test\n",
      "0.009357793275239286\n",
      "train\n",
      "0.010128020613580733\n",
      "0.059253520742205835\n"
     ]
    }
   ],
   "source": [
    "print('test')\n",
    "print(metrics.mean_squared_error(yte, pred))\n",
    "print('train')\n",
    "print(metrics.mean_squared_error(ytr, pred_tr))\n",
    "print(1 / (150. * z_noise2.var())) #the value of \"scale\" in this problem, used for gamma in the SVM regression problem"
   ]
  },
  {
   "cell_type": "code",
   "execution_count": 29,
   "metadata": {},
   "outputs": [],
   "source": [
    "#attempt of running gridsearch. Was too optimistic with all these variable options for my tiny computer. \n",
    "#svr = svm.SVR(verbose=True)\n",
    "#parameters = {'kernel':('linear', 'rbf', 'poly', 'sigmoid'), 'C':[1e-3, 1e-2, 1e-1, 1, 2, 3, 4, 4, 5, 10, 100],'gamma':(0.0001, 0.001, 0.01, 0.05925,0.1,1, 1.5 ), 'degree':np.linspace(1,10,10), 'epsilon':np.linspace(0.001,1.5,10)}\n",
    "#classifier_gs = GridSearchCV(svr, parameters, cv = 5)\n",
    "#classifier_gs.fit(xtr,ytr)\n"
   ]
  },
  {
   "cell_type": "code",
   "execution_count": null,
   "metadata": {},
   "outputs": [],
   "source": []
  }
 ],
 "metadata": {
  "kernelspec": {
   "display_name": "Python 3",
   "language": "python",
   "name": "python3"
  },
  "language_info": {
   "codemirror_mode": {
    "name": "ipython",
    "version": 3
   },
   "file_extension": ".py",
   "mimetype": "text/x-python",
   "name": "python",
   "nbconvert_exporter": "python",
   "pygments_lexer": "ipython3",
   "version": "3.7.4"
  }
 },
 "nbformat": 4,
 "nbformat_minor": 2
}
