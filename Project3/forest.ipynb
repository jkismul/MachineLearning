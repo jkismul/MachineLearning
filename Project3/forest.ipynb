{
 "cells": [
  {
   "cell_type": "code",
   "execution_count": 1,
   "metadata": {},
   "outputs": [],
   "source": [
    "import xgboost as xgb\n",
    "from xgboost import XGBClassifier,XGBRFClassifier\n",
    "import time\n",
    "import matplotlib.pyplot as plt\n",
    "from scipy.io import loadmat\n",
    "import numpy as np"
   ]
  },
  {
   "cell_type": "code",
   "execution_count": 114,
   "metadata": {},
   "outputs": [],
   "source": [
    "from sklearn.datasets import load_digits\n",
    "from sklearn.model_selection import train_test_split,GridSearchCV,KFold,StratifiedKFold,\\\n",
    "    cross_val_score\n",
    "from sklearn.metrics import accuracy_score\n",
    "from sklearn.preprocessing import StandardScaler\n",
    "from sklearn.ensemble import RandomForestClassifier"
   ]
  },
  {
   "cell_type": "code",
   "execution_count": 62,
   "metadata": {},
   "outputs": [],
   "source": [
    "# Function to print shape of variables\n",
    "def s(*arg):\n",
    "    d=[]\n",
    "    for i in arg:\n",
    "        d.append(np.shape(i))\n",
    "    print(*d, sep=\" \")"
   ]
  },
  {
   "cell_type": "markdown",
   "metadata": {},
   "source": [
    "# import 8x8 dataset"
   ]
  },
  {
   "cell_type": "code",
   "execution_count": 63,
   "metadata": {},
   "outputs": [
    {
     "name": "stdout",
     "output_type": "stream",
     "text": [
      "0.0 16.0 0 9\n"
     ]
    }
   ],
   "source": [
    "numbers = load_digits()\n",
    "X = numbers.data\n",
    "y = numbers.target\n",
    "#ADD SOME NOISE HERE!!\n",
    "print(np.min(X),np.max(X),np.min(y),np.max(y)) #these should be standardized then."
   ]
  },
  {
   "cell_type": "markdown",
   "metadata": {},
   "source": [
    "# split into train test (no val, as im using cv or bootstrap)"
   ]
  },
  {
   "cell_type": "code",
   "execution_count": 64,
   "metadata": {},
   "outputs": [],
   "source": [
    "test_size=0.2\n",
    "X_train_,X_test_,y_train,y_test = train_test_split(X,y,test_size=test_size,random_state=2,shuffle=True,stratify=y)"
   ]
  },
  {
   "cell_type": "markdown",
   "metadata": {},
   "source": [
    "# scale data"
   ]
  },
  {
   "cell_type": "code",
   "execution_count": 65,
   "metadata": {},
   "outputs": [],
   "source": [
    "sc = StandardScaler()\n",
    "X_train = sc.fit_transform(X_train_)\n",
    "X_test = sc.transform(X_test_)"
   ]
  },
  {
   "cell_type": "markdown",
   "metadata": {},
   "source": [
    "# XGBClassifier"
   ]
  },
  {
   "cell_type": "code",
   "execution_count": 105,
   "metadata": {},
   "outputs": [
    {
     "name": "stdout",
     "output_type": "stream",
     "text": [
      "CV: 0.9553945993233649\n",
      "test acc 0.9583333333333334\n"
     ]
    }
   ],
   "source": [
    "#DO THESE CONVERT INPUT TO DMatrix?\n",
    "#THIS IS GRADIENT BOOSTING; NOT RANDOM FOREST\n",
    "xgbc = XGBClassifier()\n",
    "xgbc.fit(X_train,y_train)\n",
    "scores=cross_val_score(xgbc,X_train,y_train,cv=5)\n",
    "print(\"CV:\",scores.mean())\n",
    "print(\"test acc\",xgbc.score(X_test,y_test))"
   ]
  },
  {
   "cell_type": "markdown",
   "metadata": {},
   "source": [
    "# XGBRFClassifier"
   ]
  },
  {
   "cell_type": "code",
   "execution_count": 107,
   "metadata": {},
   "outputs": [
    {
     "name": "stdout",
     "output_type": "stream",
     "text": [
      "CV: 0.8928052696948242\n",
      "test acc: 0.8722222222222222\n"
     ]
    }
   ],
   "source": [
    "#why is this horrible? tune params\n",
    "ting={'eval_metric':'merror'}\n",
    "xgbrfc = XGBRFClassifier(random_state=4,objective='multi:softmax',num_class=10,**ting)\n",
    "xgbrfc.fit(X_train,y_train)\n",
    "scores=cross_val_score(xgbrfc,X_train,y_train,cv=5)\n",
    "print(\"CV:\",scores.mean())\n",
    "print(\"test acc:\",xgbrfc.score(X_test,y_test))"
   ]
  },
  {
   "cell_type": "markdown",
   "metadata": {},
   "source": [
    "# DecisionTreeClassifier"
   ]
  },
  {
   "cell_type": "code",
   "execution_count": 108,
   "metadata": {},
   "outputs": [
    {
     "name": "stdout",
     "output_type": "stream",
     "text": [
      "CV: 0.9553945993233649\n",
      "test acc: 0.8388888888888889\n"
     ]
    }
   ],
   "source": [
    "from sklearn.tree import DecisionTreeClassifier\n",
    "dtc = DecisionTreeClassifier(max_depth=None,min_samples_split=2,random_state=3)\n",
    "dtc.fit(X_train,y_train)\n",
    "scores=cross_val_score(xgbc,X_train,y_train,cv=5)\n",
    "print(\"CV:\",scores.mean())\n",
    "print(\"test acc:\",dtc.score(X_test,y_test))"
   ]
  },
  {
   "cell_type": "markdown",
   "metadata": {},
   "source": [
    "# RandomForestClassifier"
   ]
  },
  {
   "cell_type": "code",
   "execution_count": 109,
   "metadata": {},
   "outputs": [
    {
     "name": "stdout",
     "output_type": "stream",
     "text": [
      "CV: 0.9707389894805752\n",
      "Accuracy with gini:    0.9777777777777777\n",
      "CV: 0.971438290179876\n",
      "Accuracy with entropy: 0.9777777777777777\n"
     ]
    }
   ],
   "source": [
    "rfc = RandomForestClassifier(n_jobs=-1,n_estimators=1000,bootstrap=True,criterion='gini',random_state=3)\n",
    "rfc.fit(X_train,y_train)\n",
    "scores=cross_val_score(rfc,X_train,y_train,cv=5)\n",
    "print(\"CV:\",scores.mean())\n",
    "print(\"Accuracy with gini:   \",rfc.score(X_test,y_test))\n",
    "\n",
    "rfc = RandomForestClassifier(n_jobs=-1,n_estimators=1000,bootstrap=True,criterion='entropy',random_state=3)\n",
    "rfc.fit(X_train,y_train)\n",
    "scores=cross_val_score(rfc,X_train,y_train,cv=5)\n",
    "print(\"CV:\",scores.mean())\n",
    "print(\"Accuracy with entropy:\",rfc.score(X_test,y_test))"
   ]
  },
  {
   "cell_type": "markdown",
   "metadata": {},
   "source": [
    "# extremely randomized trees"
   ]
  },
  {
   "cell_type": "code",
   "execution_count": 110,
   "metadata": {},
   "outputs": [
    {
     "name": "stdout",
     "output_type": "stream",
     "text": [
      "CV: 0.9790754303326545\n",
      "Accuracy with entropy: 0.9861111111111112\n"
     ]
    }
   ],
   "source": [
    "from sklearn.ensemble import ExtraTreesClassifier\n",
    "\n",
    "ert = ExtraTreesClassifier(n_estimators=1000,max_depth=None,min_samples_split=2,random_state=3)\n",
    "ert.fit(X_train,y_train)\n",
    "scores=cross_val_score(ert,X_train,y_train,cv=5)\n",
    "print(\"CV:\",scores.mean())\n",
    "print(\"Accuracy:\",ert.score(X_test,y_test))"
   ]
  },
  {
   "cell_type": "markdown",
   "metadata": {},
   "source": [
    "# bagging meta-estimator"
   ]
  },
  {
   "cell_type": "code",
   "execution_count": 123,
   "metadata": {},
   "outputs": [
    {
     "name": "stdout",
     "output_type": "stream",
     "text": [
      "CV: 0.9708043134077528\n",
      "accuracy 0.9722222222222222\n"
     ]
    }
   ],
   "source": [
    "from sklearn.ensemble import BaggingClassifier\n",
    "bcl = BaggingClassifier(n_estimators=60,max_samples=1.0,bootstrap_features=True,random_state=3)\n",
    "bcl.fit(X_train,y_train)\n",
    "scores=cross_val_score(bcl,X_train,y_train,cv=5)\n",
    "print(\"CV:\",scores.mean())\n",
    "print(\"accuracy\",bcl.score(X_test,y_test))"
   ]
  },
  {
   "cell_type": "markdown",
   "metadata": {},
   "source": [
    "# GradientBoostingClassifier"
   ]
  },
  {
   "cell_type": "code",
   "execution_count": 121,
   "metadata": {},
   "outputs": [
    {
     "name": "stdout",
     "output_type": "stream",
     "text": [
      "CV: 0.6070648919194304\n",
      "accuracy 0.9111111111111111\n"
     ]
    }
   ],
   "source": [
    "from sklearn.ensemble import GradientBoostingClassifier\n",
    "gbc = GradientBoostingClassifier(n_estimators=100,learning_rate=1.0,max_depth=4,random_state=3)\n",
    "gbc.fit(X_train,y_train)\n",
    "scores=cross_val_score(gbc,X_train,y_train,cv=5)\n",
    "print(\"CV:\",scores.mean())\n",
    "print(\"accuracy\",gbc.score(X_test,y_test))"
   ]
  },
  {
   "cell_type": "markdown",
   "metadata": {},
   "source": [
    "# Adaboost"
   ]
  },
  {
   "cell_type": "code",
   "execution_count": 122,
   "metadata": {},
   "outputs": [
    {
     "name": "stdout",
     "output_type": "stream",
     "text": [
      "CV: 0.9790754303326545\n",
      "Accuracy: 0.7444444444444445\n"
     ]
    }
   ],
   "source": [
    "from sklearn.ensemble import AdaBoostClassifier\n",
    "adb = AdaBoostClassifier(random_state=3,n_estimators=1000,learning_rate=0.1)\n",
    "adb.fit(X_train,y_train)\n",
    "scores=cross_val_score(ert,X_train,y_train,cv=5)\n",
    "print(\"CV:\",scores.mean())\n",
    "print(\"Accuracy:\",adb.score(X_test,y_test))"
   ]
  },
  {
   "cell_type": "markdown",
   "metadata": {},
   "source": [
    "# other stuff below"
   ]
  },
  {
   "cell_type": "code",
   "execution_count": null,
   "metadata": {},
   "outputs": [],
   "source": [
    "clf = XGBRFClassifier(random_state=3)\n",
    "opt_dict={\n",
    "    'n_estimators':[10,100,1000,2000],\n",
    "    'learning_rate':np.logspace(-5,1,7),  \n",
    "}\n",
    "mod = GridSearchCV(clf,opt_dict,scoring='accuracy',verbose=1,cv=5,n_jobs=-1)\n",
    "mod.fit(X_train,y_train)\n",
    "print(mod.best_score_)\n",
    "print(mod.best_params_)"
   ]
  },
  {
   "cell_type": "markdown",
   "metadata": {},
   "source": [
    "# XGBtrain"
   ]
  },
  {
   "cell_type": "code",
   "execution_count": 10,
   "metadata": {
    "scrolled": false
   },
   "outputs": [
    {
     "name": "stdout",
     "output_type": "stream",
     "text": [
      "0.9583333333333334\n"
     ]
    },
    {
     "data": {
      "text/plain": [
       "<Figure size 432x288 with 0 Axes>"
      ]
     },
     "metadata": {},
     "output_type": "display_data"
    },
    {
     "data": {
      "image/png": "[encoded data removed]",
      "text/plain": [
       "<Figure size 1440x1440 with 1 Axes>"
      ]
     },
     "metadata": {
      "needs_background": "light"
     },
     "output_type": "display_data"
    },
    {
     "data": {
      "text/plain": [
       "<matplotlib.axes._subplots.AxesSubplot at 0x7f660f637dd0>"
      ]
     },
     "execution_count": 10,
     "metadata": {},
     "output_type": "execute_result"
    },
    {
     "data": {
      "image/png": "[encoded data removed]",
      "text/plain": [
       "<Figure size 1440x1440 with 1 Axes>"
      ]
     },
     "metadata": {
      "needs_background": "light"
     },
     "output_type": "display_data"
    }
   ],
   "source": [
    "# when using xgboost, the data should be put into a Data Matrix structure, seen in\n",
    "# https://xgboost.readthedocs.io/en/latest/python/python_api.html#xgboost.DMatrix\n",
    "D_train = xgb.DMatrix(X_train,label=y_train)\n",
    "D_test = xgb.DMatrix(X_test,label=y_test)\n",
    "classifier_params = {\n",
    "    'eta':0.1,\n",
    "    'max_depth':3,\n",
    "    'objective':'multi:softmax',\n",
    "    'num_class':10,\n",
    "}\n",
    "# evallist=[(D_test,'test'),(D_train,'train')]\n",
    "evallist=[(D_train,'train'),(D_test,'test')]\n",
    "\n",
    "num_round=100\n",
    "early_stopping=10\n",
    "\n",
    "\n",
    "bst=xgb.train(classifier_params,D_train,num_round,evallist,early_stopping_rounds=early_stopping,verbose_eval=False)\n",
    "y_pred=bst.predict(D_test)\n",
    "print(accuracy_score(y_test,y_pred))\n",
    "\n",
    "plt.figure()\n",
    "fig,ax = plt.subplots(figsize=(20,20))\n",
    "\n",
    "xgb.plot_importance(bst,ax=ax)\n",
    "plt.show()\n",
    "\n",
    "fig,ax = plt.subplots(figsize=(20,20))\n",
    "xgb.plot_tree(bst,num_trees=1,ax=ax)"
   ]
  },
  {
   "cell_type": "code",
   "execution_count": 11,
   "metadata": {},
   "outputs": [
    {
     "name": "stdout",
     "output_type": "stream",
     "text": [
      "Fitting 5 folds for each of 960 candidates, totalling 4800 fits\n"
     ]
    },
    {
     "name": "stderr",
     "output_type": "stream",
     "text": [
      "[Parallel(n_jobs=-1)]: Using backend LokyBackend with 8 concurrent workers.\n",
      "[Parallel(n_jobs=-1)]: Done  34 tasks      | elapsed:   19.2s\n",
      "[Parallel(n_jobs=-1)]: Done 184 tasks      | elapsed:  1.7min\n",
      "[Parallel(n_jobs=-1)]: Done 434 tasks      | elapsed:  4.0min\n",
      "[Parallel(n_jobs=-1)]: Done 784 tasks      | elapsed:  7.3min\n",
      "[Parallel(n_jobs=-1)]: Done 1234 tasks      | elapsed: 11.4min\n",
      "[Parallel(n_jobs=-1)]: Done 1784 tasks      | elapsed: 16.5min\n",
      "[Parallel(n_jobs=-1)]: Done 2434 tasks      | elapsed: 22.3min\n",
      "[Parallel(n_jobs=-1)]: Done 3184 tasks      | elapsed: 29.1min\n",
      "[Parallel(n_jobs=-1)]: Done 4034 tasks      | elapsed: 37.1min\n",
      "[Parallel(n_jobs=-1)]: Done 4800 out of 4800 | elapsed: 44.1min finished\n"
     ]
    },
    {
     "name": "stdout",
     "output_type": "stream",
     "text": [
      "0.9624217118997912\n",
      "{'alpha': 1e-07, 'eta': 0.001, 'lambda': 1e-07, 'max_depth': 4}\n"
     ]
    }
   ],
   "source": [
    "xgb_model = XGBClassifier()\n",
    "opt_dict={\n",
    "    'max_depth':[2,3,4],\n",
    "    'eta': np.logspace(-3,1,5),\n",
    "    'lambda': np.logspace(-7,1,8),\n",
    "    'alpha':np.logspace(-7,1,8),\n",
    "}\n",
    "mod = GridSearchCV(xgb_model,opt_dict,scoring='accuracy',verbose=1,cv=5,n_jobs=-1)\n",
    "mod.fit(X_train,y_train)\n",
    "print(mod.best_score_)\n",
    "print(mod.best_params_)"
   ]
  },
  {
   "cell_type": "code",
   "execution_count": 12,
   "metadata": {},
   "outputs": [
    {
     "name": "stdout",
     "output_type": "stream",
     "text": [
      "Fitting 5 folds for each of 960 candidates, totalling 4800 fits\n"
     ]
    },
    {
     "name": "stderr",
     "output_type": "stream",
     "text": [
      "[Parallel(n_jobs=-1)]: Using backend LokyBackend with 8 concurrent workers.\n",
      "[Parallel(n_jobs=-1)]: Done  34 tasks      | elapsed:   16.6s\n",
      "[Parallel(n_jobs=-1)]: Done 184 tasks      | elapsed:  1.4min\n",
      "[Parallel(n_jobs=-1)]: Done 434 tasks      | elapsed:  3.4min\n",
      "[Parallel(n_jobs=-1)]: Done 784 tasks      | elapsed:  6.0min\n",
      "[Parallel(n_jobs=-1)]: Done 1234 tasks      | elapsed:  9.4min\n",
      "[Parallel(n_jobs=-1)]: Done 1784 tasks      | elapsed: 13.6min\n",
      "[Parallel(n_jobs=-1)]: Done 2434 tasks      | elapsed: 18.6min\n",
      "[Parallel(n_jobs=-1)]: Done 3184 tasks      | elapsed: 24.3min\n",
      "[Parallel(n_jobs=-1)]: Done 4034 tasks      | elapsed: 30.7min\n",
      "[Parallel(n_jobs=-1)]: Done 4800 out of 4800 | elapsed: 36.4min finished\n"
     ]
    },
    {
     "name": "stdout",
     "output_type": "stream",
     "text": [
      "0.9199721642310369\n",
      "{'alpha': 1e-07, 'eta': 0.001, 'lambda': 1e-07, 'max_depth': 4}\n"
     ]
    }
   ],
   "source": [
    "xgb_model = XGBRFClassifier()\n",
    "opt_dict={\n",
    "    'max_depth':[2,3,4],\n",
    "    'eta': np.logspace(-3,1,5),\n",
    "    'lambda': np.logspace(-7,1,8),\n",
    "    'alpha':np.logspace(-7,1,8),\n",
    "}\n",
    "mod = GridSearchCV(xgb_model,opt_dict,scoring='accuracy',verbose=1,cv=5,n_jobs=-1)\n",
    "mod.fit(X_train,y_train)\n",
    "print(mod.best_score_)\n",
    "print(mod.best_params_)"
   ]
  },
  {
   "cell_type": "code",
   "execution_count": 29,
   "metadata": {},
   "outputs": [
    {
     "name": "stdout",
     "output_type": "stream",
     "text": [
      "0.9027777777777778\n"
     ]
    }
   ],
   "source": [
    "param = mod.best_params_\n",
    "param['lambda']=0\n",
    "param['alpha']=0\n",
    "\n",
    "xgb_model = XGBRFClassifier(**param,random_state=4,num_rounds=300,verbose_eval=0)\n",
    "xgb_model.fit(X_train,y_train)\n",
    "y_p = xgb_model.predict(X_test)\n",
    "print(accuracy_score(y_p,y_test))\n",
    "# param = mod.best_params_\n",
    "# mod2 = XGBRFClassifier(param, X_test,y_test)\n",
    "\n",
    "\n",
    "# model = XGBRFClassifier(random_state=4)\n",
    "# model.fit(X_train,y_train)\n",
    "# y_pred_rfc = model.predict(X_test)\n",
    "# print(accuracy_score(y_test,y_pred_classifier))"
   ]
  },
  {
   "cell_type": "code",
   "execution_count": null,
   "metadata": {},
   "outputs": [],
   "source": [
    "max_iters = 1000\n",
    "start = time.time()\n",
    "for i in range(max_iters):\n",
    "    xgb.train(dtrain=D_train,params=prams)\n",
    "print(\"dmatrix method took {}s\".format(time.time()-start))"
   ]
  },
  {
   "cell_type": "code",
   "execution_count": null,
   "metadata": {},
   "outputs": [],
   "source": [
    "# test timestuff\n",
    "    max_iters = 1000\n",
    "start = time.time()\n",
    "for i in range(max_iters):\n",
    "    model.fit(X_train,y_train)\n",
    "#     xgb.train(dtrain=D_train,params=prams)\n",
    "print(\"train method took {}s\".format(time.time()-start))"
   ]
  },
  {
   "cell_type": "code",
   "execution_count": null,
   "metadata": {},
   "outputs": [],
   "source": [
    "import pandas as pd\n",
    "from sklearn.metrics import confusion_matrix\n",
    "ape = confusion_matrix(y_pred,y_test)\n",
    "df = pd.DataFrame(ape)\n",
    "\n",
    "np.fill_diagonal(df.values,0)\n",
    "ultros=np.max(np.max(df))\n",
    "np.fill_diagonal(df.values,ultros)\n",
    "\n",
    "print(ultros)\n",
    "display(df)\n",
    "ax = sns.heatmap(df,)\n",
    "bottom,top =ax.get_ylim()\n",
    "ax.set_ylim(bottom+0.5,top-0.5)\n",
    "plt.show()"
   ]
  },
  {
   "cell_type": "code",
   "execution_count": null,
   "metadata": {},
   "outputs": [],
   "source": [
    "num = 7\n",
    "plt.imshow(X_train[num,:].reshape(8,8),cmap='gray_r')\n",
    "print(\"This is a:\",y_train[num])\n",
    "print(\"Predicted as a:\",int(y_pred[num]))"
   ]
  },
  {
   "cell_type": "code",
   "execution_count": null,
   "metadata": {},
   "outputs": [],
   "source": [
    "# from sklearn.datasets import fetch_mldata,fetch_openml\n",
    "# # mnist = fetch_mldata('MNIST original', data_home=custom_data_home)\n",
    "# mnist=fetch_openml('mnist_784')\n",
    "# #This is very slow!"
   ]
  },
  {
   "cell_type": "code",
   "execution_count": null,
   "metadata": {},
   "outputs": [],
   "source": [
    "# Xf = mnist.data\n",
    "# uf = mnist.target\n",
    "# print(np.shape(Xf))"
   ]
  },
  {
   "cell_type": "code",
   "execution_count": null,
   "metadata": {},
   "outputs": [],
   "source": [
    "from scipy.io import loadmat\n",
    "data = loadmat('mnist-original.mat')\n",
    "X_full = data['data'].T\n",
    "y_full = np.squeeze(data['label'].T)"
   ]
  },
  {
   "cell_type": "code",
   "execution_count": null,
   "metadata": {},
   "outputs": [],
   "source": [
    "test_size=0.2\n",
    "X_ftrain,X_ftest,y_ftrain,y_ftest = train_test_split(X_full,y_full,test_size=test_size,random_state=2)#,stratify=y)\n",
    "# train_test_split(X_full,y_full,test_size=test_size);"
   ]
  },
  {
   "cell_type": "code",
   "execution_count": null,
   "metadata": {},
   "outputs": [],
   "source": [
    "model = XGBClassifier()\n",
    "model.fit(X_ftrain,y_ftrain)\n",
    "y_pred_classifier = model.predict(X_ftest)\n",
    "print(accuracy_score(y_test,y_pred_classifier))"
   ]
  },
  {
   "cell_type": "code",
   "execution_count": null,
   "metadata": {
    "scrolled": false
   },
   "outputs": [],
   "source": [
    "# when using xgboost, the data should be put into a Data Matrix structure, seen in\n",
    "# https://xgboost.readthedocs.io/en/latest/python/python_api.html#xgboost.DMatrix\n",
    "D_ftrain = xgb.DMatrix(X_ftrain,label=y_ftrain)\n",
    "D_ftest = xgb.DMatrix(X_ftest,label=y_ftest)\n",
    "params_XGBClassifier = {\n",
    "    'booster':'gbtree',    \n",
    "    'eta':0.1,\n",
    "    'max_depth':3,\n",
    "    'lambda':1,\n",
    "    'objective':'multi:softmax',\n",
    "    'num_class':10,\n",
    "}\n",
    "evallist=[(D_ftest,'test'),(D_ftrain,'train')]\n",
    "num_round=100\n",
    "stopping_rounds = 10\n",
    "max_depth = 5\n",
    "# evals_result={}\n",
    "\n",
    "bst = xgb.train(params_XGBClassifier,D_ftrain,num_round,evallist,early_stopping_rounds=stopping_rounds)#,verbose_eval=False)"
   ]
  },
  {
   "cell_type": "code",
   "execution_count": null,
   "metadata": {
    "scrolled": false
   },
   "outputs": [],
   "source": [
    "y_fpred = bst.predict(D_ftest)\n",
    "\n",
    "print(accuracy_score(y_ftest,y_fpred))\n",
    "# plt.figure()\n",
    "fig,ax = plt.subplots(figsize=(20,20))\n",
    "\n",
    "xgb.plot_importance(bst,ax=ax)\n",
    "plt.show()\n",
    "\n",
    "fig,ax = plt.subplots(figsize=(20,20))\n",
    "xgb.plot_tree(bst,num_trees=0,ax=ax)\n",
    "plt.show()"
   ]
  },
  {
   "cell_type": "code",
   "execution_count": null,
   "metadata": {},
   "outputs": [],
   "source": [
    "params_optimizing = {\n",
    "    'booster':'gbtree',    \n",
    "    'eta':0.9,\n",
    "    'max_depth':2,\n",
    "    'lambda':1,\n",
    "    'objective':'multi:softmax',\n",
    "    'num_class':10,\n",
    "}\n",
    "evallist=[(D_ftest,'test'),(D_ftrain,'train')]\n",
    "num_round=100\n",
    "stopping_rounds = 10\n",
    "max_depth = 5\n",
    "\n",
    "bst = xgb.train(params_optimizing,D_ftrain,num_round,evallist,early_stopping_rounds=stopping_rounds)#,verbose_eval=False)"
   ]
  },
  {
   "cell_type": "code",
   "execution_count": null,
   "metadata": {},
   "outputs": [],
   "source": [
    "y_pred =bst.predict(D_ftest)\n",
    "print(np.shape(y_pred),np.shape(y_ftest))"
   ]
  },
  {
   "cell_type": "code",
   "execution_count": null,
   "metadata": {},
   "outputs": [],
   "source": [
    "ape = confusion_matrix(y_pred,y_ftest)\n",
    "df = pd.DataFrame(ape)\n",
    "ultros=np.maximum(ape)\n",
    "# np.fill_diagonal(df.values,0)\n",
    "display(df)\n",
    "ax = sns.heatmap(df)\n",
    "bottom,top =ax.get_ylim()\n",
    "ax.set_ylim(bottom+0.5,top-0.5)\n",
    "plt.show()"
   ]
  },
  {
   "cell_type": "code",
   "execution_count": null,
   "metadata": {},
   "outputs": [],
   "source": [
    "# xgb_model = RandomForestClassifier(random_state=3)\n",
    "# opt_dict={\n",
    "#     'max_depth':[2,3,4,5,6,7,8,9,10,11,12],\n",
    "#     'n_estimators':[10,100,1000,2000],\n",
    "# }\n",
    "# mod = GridSearchCV(xgb_model,opt_dict,scoring='accuracy',verbose=1,cv=5,n_jobs=-1)\n",
    "# mod.fit(X_train,y_train)\n",
    "# print(mod.best_score_)\n",
    "# print(mod.best_params_)"
   ]
  }
 ],
 "metadata": {
  "kernelspec": {
   "display_name": "Python 3",
   "language": "python",
   "name": "python3"
  },
  "language_info": {
   "codemirror_mode": {
    "name": "ipython",
    "version": 3
   },
   "file_extension": ".py",
   "mimetype": "text/x-python",
   "name": "python",
   "nbconvert_exporter": "python",
   "pygments_lexer": "ipython3",
   "version": "3.7.4"
  }
 },
 "nbformat": 4,
 "nbformat_minor": 2
}
