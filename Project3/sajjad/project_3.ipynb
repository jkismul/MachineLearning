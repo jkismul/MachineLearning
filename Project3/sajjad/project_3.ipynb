{
 "cells": [
  {
   "cell_type": "code",
   "execution_count": 1,
   "metadata": {},
   "outputs": [
    {
     "name": "stderr",
     "output_type": "stream",
     "text": [
      "Using TensorFlow backend.\n"
     ]
    }
   ],
   "source": [
    "import numpy as np \n",
    "import keras  \n",
    "from keras.datasets import mnist \n",
    "from keras.models import Model, Sequential\n",
    "from keras.layers import Dense, Input, Conv2D, MaxPooling2D, Dropout, Flatten \n",
    "from keras import backend as k\n",
    "import matplotlib.pyplot as plt"
   ]
  },
  {
   "cell_type": "markdown",
   "metadata": {},
   "source": [
    "## Reading MNIST data set"
   ]
  },
  {
   "cell_type": "code",
   "execution_count": 2,
   "metadata": {},
   "outputs": [],
   "source": [
    "(x_train, y_train), (x_test, y_test) = mnist.load_data() "
   ]
  },
  {
   "cell_type": "markdown",
   "metadata": {},
   "source": [
    "## Checking Data Format"
   ]
  },
  {
   "cell_type": "code",
   "execution_count": 3,
   "metadata": {},
   "outputs": [
    {
     "name": "stdout",
     "output_type": "stream",
     "text": [
      "x_train shape: (60000, 28, 28, 1)\n",
      "Number of images in x_train 60000\n",
      "Number of images in x_test 10000\n"
     ]
    }
   ],
   "source": [
    "img_row, img_col= (28, 28)\n",
    "\n",
    "\"\"\"\n",
    "    img_row and img_col are image dimensions and in MNIST dataset it is 28 x 28\n",
    "\"\"\"\n",
    "\n",
    "\n",
    "# The ordering of the dimensions in input\n",
    "\n",
    "if k.image_data_format() == 'channels_first':\n",
    "        \n",
    "    \"\"\"  channel_first : corrspond to inputs with shapes (batch, channels, height, width)  \"\"\"\n",
    "\n",
    "    x_train = x_train.reshape(x_train.shape[0], 1, img_row, img_col) \n",
    "    x_test  = x_test.reshape(x_test.shape[0], 1, img_row, img_col) \n",
    "    np = (1, img_row, img_col) \n",
    "    \n",
    "\n",
    "else:\n",
    "\n",
    "    \"\"\"  channel_last :  corrspond to inputs with shapes (batch, height, width, channels) \"\"\"\n",
    "    \n",
    "    x_train = x_train.reshape(x_train.shape[0], img_row, img_col, 1) \n",
    "    x_test = x_test.reshape(x_test.shape[0], img_row, img_col, 1) \n",
    "    np = (img_row, img_col, 1) \n",
    "    \n",
    "\n",
    "    \n",
    "# Setting the float values so it is possible to get get decimal points after division\n",
    "\n",
    "x_train = x_train.astype('float32') \n",
    "x_test  = x_test.astype('float32') \n",
    "\n",
    "\n",
    "\n",
    "x_train /= 255    # Normalizing:The max RGB value is 255\n",
    "x_test  /= 255    # Normalizing:The max RGB value is 255\n",
    "\n",
    "print('x_train shape:', x_train.shape)\n",
    "print('Number of images in x_train', x_train.shape[0])\n",
    "print('Number of images in x_test', x_test.shape[0])"
   ]
  },
  {
   "cell_type": "markdown",
   "metadata": {},
   "source": [
    "## One Hot Coding"
   ]
  },
  {
   "cell_type": "code",
   "execution_count": 4,
   "metadata": {},
   "outputs": [
    {
     "data": {
      "text/plain": [
       "'\\ny_train = keras.utils.to_categorical(y_train) \\ny_test = keras.utils.to_categorical(y_test) \\n'"
      ]
     },
     "execution_count": 4,
     "metadata": {},
     "output_type": "execute_result"
    }
   ],
   "source": [
    "\"\"\"\n",
    "Our model cannot work with categorical data directly. \n",
    "We need to use one hot encoding. \n",
    "In one hot encoding, the digits 0 \n",
    "through 9 are represented as \n",
    "a set of nine zeros and a single one. \n",
    "The digit is determined by the location \n",
    "of the number 1. For example, you’d \n",
    "represent a 3 as [0, 0, 0, 1, 0, 0, 0, 0, 0, 0].\n",
    "\"\"\"\n",
    "\n",
    "from keras.utils import to_categorical\n",
    "\n",
    "y_train = to_categorical(y_train)\n",
    "y_test = to_categorical(y_test)\n",
    "\n",
    "\"\"\"\n",
    "y_train = keras.utils.to_categorical(y_train) \n",
    "y_test = keras.utils.to_categorical(y_test) \n",
    "\"\"\""
   ]
  },
  {
   "cell_type": "markdown",
   "metadata": {},
   "source": [
    "## CNN Model : using \"Model\" from keras.models"
   ]
  },
  {
   "cell_type": "code",
   "execution_count": 5,
   "metadata": {},
   "outputs": [
    {
     "name": "stdout",
     "output_type": "stream",
     "text": [
      "Epoch 1/2\n",
      "60000/60000 [==============================] - 22s 369us/step - loss: 0.7036 - accuracy: 0.7852\n",
      "Epoch 2/2\n",
      "60000/60000 [==============================] - 22s 363us/step - loss: 0.2194 - accuracy: 0.9370\n"
     ]
    },
    {
     "data": {
      "text/plain": [
       "<keras.callbacks.callbacks.History at 0x7f4e0d77ba58>"
      ]
     },
     "execution_count": 5,
     "metadata": {},
     "output_type": "execute_result"
    }
   ],
   "source": [
    "#  Building CNN \n",
    "\n",
    "np     = Input(shape = np) \n",
    "layer1 = Conv2D(32, kernel_size=(3, 3), activation='relu')(np) \n",
    "\"\"\"\n",
    "layer1: Conv2d layer which convolves \n",
    "the image using 32 filters each of size (3*3)\n",
    "\"\"\"\n",
    "layer2 = Conv2D(64, (3, 3), activation='relu')(layer1)\n",
    "\"\"\"\n",
    "layer2: Conv2D layer which convolve \n",
    "the image and is using 64 filters each of size (3*3)\n",
    "\"\"\"\n",
    "\n",
    "layer3 = MaxPooling2D(pool_size=(3, 3))(layer2)\n",
    "\"\"\"\n",
    "layer3: MaxPooling2D layer which picks \n",
    "the max value out of a matrix of size (3*3)\n",
    "\"\"\"\n",
    "layer4 = Dropout(0.5)(layer3) \n",
    "\"\"\"\n",
    "layer4: shows Dropout at a rate of 0.5\n",
    "\"\"\"\n",
    "layer5 = Flatten()(layer4) \n",
    "\"\"\"\n",
    "layer5: flatten the output obtained from layer4 \n",
    "and this flatten output is passed to layer6\n",
    "\"\"\"\n",
    "layer6 = Dense(250, activation = 'sigmoid')(layer5) \n",
    "\"\"\"\n",
    "layer6: shows a hidden layer of neural network containng 250 neurons.\n",
    "\"\"\"\n",
    "layer7 = Dense(10, activation = 'softmax')(layer6) \n",
    "\"\"\"\n",
    "layer7: shows output layer having 10 neurons for 10 \n",
    "classes of output that is using the softmax function\n",
    "the final Dense layer must have 10 neurons since we \n",
    "have 10 number classes (0, 1, 2, …, 9)\n",
    "\"\"\"\n",
    "\n",
    "#  Compiling and Fitting\n",
    "\n",
    "model = Model([np], layer7) \n",
    "model.compile(optimizer=keras.optimizers.Adadelta(), \n",
    "              loss=keras.losses.categorical_crossentropy,\n",
    "              metrics=['accuracy']) \n",
    "model.fit(x = x_train, y = y_train, epochs=2, batch_size=500) "
   ]
  },
  {
   "cell_type": "markdown",
   "metadata": {},
   "source": [
    "## Evalute Function"
   ]
  },
  {
   "cell_type": "code",
   "execution_count": 6,
   "metadata": {},
   "outputs": [
    {
     "name": "stdout",
     "output_type": "stream",
     "text": [
      "Test loss = 0.12297678209245205\n",
      "Test accuracy = 0.9646000266075134\n"
     ]
    }
   ],
   "source": [
    "test_loss, test_acc = model.evaluate(x_test, y_test, verbose=0) \n",
    "print('Test loss =', test_loss) \n",
    "print('Test accuracy =', test_acc) "
   ]
  },
  {
   "cell_type": "markdown",
   "metadata": {},
   "source": [
    "## Making an Individual Prediction"
   ]
  },
  {
   "cell_type": "code",
   "execution_count": 7,
   "metadata": {},
   "outputs": [
    {
     "name": "stdout",
     "output_type": "stream",
     "text": [
      "3\n"
     ]
    },
    {
     "data": {
      "image/png": "[encoded data removed]",
      "text/plain": [
       "<Figure size 432x288 with 1 Axes>"
      ]
     },
     "metadata": {
      "needs_background": "light"
     },
     "output_type": "display_data"
    }
   ],
   "source": [
    "image_index = 3456\n",
    "plt.imshow(x_test[image_index].reshape(28, 28),cmap='Greys')\n",
    "pred = model.predict(x_test[image_index].reshape(1, img_row, img_col, 1))\n",
    "print(pred.argmax())"
   ]
  },
  {
   "cell_type": "markdown",
   "metadata": {},
   "source": [
    "## Reading MNIST data set"
   ]
  },
  {
   "cell_type": "code",
   "execution_count": 8,
   "metadata": {},
   "outputs": [],
   "source": [
    "import tensorflow as tf\n",
    "\n",
    "(x_train, y_train), (x_test, y_test) = tf.keras.datasets.mnist.load_data()"
   ]
  },
  {
   "cell_type": "markdown",
   "metadata": {},
   "source": [
    "## CNN Model : using Sequential model from Keras and TensorFlow"
   ]
  },
  {
   "cell_type": "code",
   "execution_count": 9,
   "metadata": {},
   "outputs": [
    {
     "name": "stdout",
     "output_type": "stream",
     "text": [
      "Epoch 1/2\n",
      "60000/60000 [==============================] - 14s 232us/step - loss: 0.1960 - accuracy: 0.9405\n",
      "Epoch 2/2\n",
      "60000/60000 [==============================] - 14s 230us/step - loss: 0.0813 - accuracy: 0.9743\n"
     ]
    },
    {
     "data": {
      "text/plain": [
       "<keras.callbacks.callbacks.History at 0x7f4e0ffbbfd0>"
      ]
     },
     "execution_count": 9,
     "metadata": {},
     "output_type": "execute_result"
    }
   ],
   "source": [
    "# Reshaping the array to 4-dims so that it can work with the Keras API\n",
    "x_train = x_train.reshape(x_train.shape[0], 28, 28, 1)\n",
    "x_test = x_test.reshape(x_test.shape[0], 28, 28, 1)\n",
    "input_shape = (28, 28, 1)\n",
    "\n",
    "# Setting the float values so it is possible to get get decimal points after division\n",
    "x_train = x_train.astype('float32')\n",
    "x_test = x_test.astype('float32')\n",
    "\n",
    "\n",
    "x_train /= 255    # Normalizing:The max RGB value is 255\n",
    "x_test /= 255     # Normalizing:The max RGB value is 255\n",
    "\n",
    "\n",
    "# Sequential Model and relevant layers\n",
    "\n",
    "model = Sequential()\n",
    "\n",
    "model.add(Conv2D(64, kernel_size=(3,3), input_shape = input_shape))\n",
    "\"\"\"\n",
    "layer1: Conv2d layer which convolves \n",
    "the image using 64 filters each of size (3*3)\n",
    "\"\"\"\n",
    "model.add(MaxPooling2D(pool_size = (3, 3)))\n",
    "\"\"\"\n",
    "layer2: MaxPooling2D layer which picks \n",
    "the max value out of a matrix of size (3*3)\n",
    "Maxpooling is one of the most common techniques\n",
    "to reduce the spatial size of the representation,\n",
    "to reduce the parameter counts which reduces the\n",
    "computational complexity. In addition, pooling \n",
    "layers also helps with the overfitting problem. \n",
    "\"\"\"\n",
    "model.add(Dropout(0.5))\n",
    "\"\"\"\n",
    "layer3: shows Dropout at a rate of 0.5\n",
    "Dropout layers fight with the overfitting \n",
    "by disregarding some of the neurons while training\n",
    "\"\"\"\n",
    "model.add(Flatten())\n",
    "\"\"\"\n",
    "layer4: flatten the output obtained from layer3 \n",
    "and this flatten output is passed to layer5\n",
    "\"\"\"\n",
    "model.add(Dense(128, activation = tf.nn.relu))\n",
    "\"\"\"\n",
    "layer5: shows a hidden layer of neural network containng 128 neurons\n",
    "\"\"\"\n",
    "model.add(Dense(10, activation = tf.nn.softmax))\n",
    "\"\"\"\n",
    "layer6: shows output layer having 10 neurons for 10 \n",
    "classes of output that is using the softmax function\n",
    "the final Dense layer must have 10 neurons since we \n",
    "have 10 number classes (0, 1, 2, …, 9)\n",
    "\"\"\"\n",
    "\n",
    "# Compiling and Fitting\n",
    "\n",
    "model.compile(optimizer='adam', loss='sparse_categorical_crossentropy', metrics=['accuracy'])\n",
    "model.fit(x = x_train,y = y_train, epochs = 2)"
   ]
  },
  {
   "cell_type": "markdown",
   "metadata": {},
   "source": [
    "## Evalute Function"
   ]
  },
  {
   "cell_type": "code",
   "execution_count": 10,
   "metadata": {},
   "outputs": [
    {
     "name": "stdout",
     "output_type": "stream",
     "text": [
      "Test loss = 0.09513569734748453\n",
      "Test accuracy = 0.9689000248908997\n"
     ]
    }
   ],
   "source": [
    "test_loss, test_acc = model.evaluate(x_test, y_test, verbose=0) \n",
    "print('Test loss =', test_loss) \n",
    "print('Test accuracy =', test_acc) "
   ]
  }
 ],
 "metadata": {
  "kernelspec": {
   "display_name": "Python 3",
   "language": "python",
   "name": "python3"
  },
  "language_info": {
   "codemirror_mode": {
    "name": "ipython",
    "version": 3
   },
   "file_extension": ".py",
   "mimetype": "text/x-python",
   "name": "python",
   "nbconvert_exporter": "python",
   "pygments_lexer": "ipython3",
   "version": "3.6.8"
  }
 },
 "nbformat": 4,
 "nbformat_minor": 2
}
