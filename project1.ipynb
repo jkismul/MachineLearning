{
 "cells": [
  {
   "cell_type": "code",
   "execution_count": 47,
   "metadata": {},
   "outputs": [],
   "source": [
    "#import packages\n",
    "import numpy as np\n",
    "from random import random, seed\n",
    "from sklearn.preprocessing import PolynomialFeatures\n",
    "from sklearn.metrics import mean_squared_error, r2_score\n",
    "from sklearn.model_selection import train_test_split\n",
    "import matplotlib.pyplot as plt\n",
    "import sklearn.linear_model as skl"
   ]
  },
  {
   "cell_type": "code",
   "execution_count": 48,
   "metadata": {},
   "outputs": [],
   "source": [
    "#define Franke function uglified\n",
    "def FrankeFunction(x,y): #still got one division in here\n",
    "    term1 = 0.75*np.exp(-(0.25*(9*x-2)*(9*x-2)) - 0.25*((9*y-2)*(9*y-2)))\n",
    "    term2 = 0.75*np.exp(-((9*x+1)*(9*x+1))/49.0 - 0.1*(9*y+1))\n",
    "    term3 = 0.5*np.exp(-(9*x-7)*(9*x-7)*0.25 - 0.25*((9*y-3)*(9*y-3)))\n",
    "    term4 = -0.2*np.exp(-(9*x-4)*(9*x-4) - (9*y-7)*(9*y-7))\n",
    "    return term1 + term2 + term3 + term4"
   ]
  },
  {
   "cell_type": "code",
   "execution_count": 49,
   "metadata": {},
   "outputs": [],
   "source": [
    "# create model matrix\n",
    "# Form is: x0y0, x1y0, x2y0, x0y1, x1y1, x0y2\n",
    "def Model(x,y,P): # P is polynomial degree\n",
    "    m = len(x)*len(y) # number of equations\n",
    "    t = sum(range(P+2)) # number of terms in polynomial\n",
    "    X = np.zeros((m,t)) # Model matrix\n",
    "    a = np.matrix.flatten(x)\n",
    "    b = np.matrix.flatten(y)\n",
    "    c = 0 #counter\n",
    "    for i in range(P+1):\n",
    "        for j in range(P+1-i):\n",
    "            X[:,c] = a**j*b**i\n",
    "            c +=1\n",
    "    return X"
   ]
  },
  {
   "cell_type": "code",
   "execution_count": 50,
   "metadata": {},
   "outputs": [],
   "source": [
    "#define R2 function\n",
    "def R2(y_data, y_model):\n",
    "    return 1 - np.sum((y_data - y_model) ** 2) / np.sum((y_data - np.mean(y_data)) ** 2)"
   ]
  },
  {
   "cell_type": "code",
   "execution_count": 51,
   "metadata": {},
   "outputs": [],
   "source": [
    "#define MSE function\n",
    "def MSE(y_data,y_model):\n",
    "    n = np.size(y_model)\n",
    "    return np.sum((y_data-y_model)**2)/n"
   ]
  },
  {
   "cell_type": "code",
   "execution_count": 52,
   "metadata": {},
   "outputs": [],
   "source": [
    "#define variance function\n",
    "def Var(y_data, y_model,P,X):\n",
    "    N = len(y_data)\n",
    "    covar = np.linalg.inv(X.T.dot(X))#sigma2, should be 1 in this case\n",
    "    vari = np.diagonal(covar)\n",
    "    return vari"
   ]
  },
  {
   "cell_type": "code",
   "execution_count": 53,
   "metadata": {},
   "outputs": [],
   "source": [
    "def Bias(y_data, y_model, P, X):\n",
    "    N = len(y_data) #should probably insert z here\n",
    "    # also want the expectation values\n",
    "    #this is where i want to shuffle my data and do 10 kfolds.\n",
    "    #maybe...\n",
    "    #can not use each fold and create a mean from them?\n",
    "    return np.sum((y_data-y_model)*(y_data-y_model))/N"
   ]
  },
  {
   "cell_type": "code",
   "execution_count": 54,
   "metadata": {},
   "outputs": [],
   "source": [
    "#Create random variables/predictors\n",
    "np.random.seed(1234)\n",
    "N = 200 #number of points along x and y axes\n",
    "\n",
    "# sort this for meshgrid\n",
    "x = np.random.uniform(0,1,N)\n",
    "y = np.random.uniform(0,1,N)\n",
    "\n",
    "x = sorted(x)\n",
    "y = sorted(y)\n",
    "x, y = np.meshgrid(x,y,sparse=False)\n",
    "\n",
    "#create datapoints/results\n",
    "z = FrankeFunction(x, y)\n",
    "\n",
    "# Create noise\n",
    "Noise = 0.1*np.random.randn(N,N)\n",
    "\n",
    "#add noise\n",
    "z_n = z+Noise\n",
    "\n",
    "#flatten for use in functions\n",
    "z_n = np.matrix.flatten(z_n)\n",
    "z = np.matrix.flatten(z)\n",
    "\n",
    "#added a 0 Ridge parameter\n",
    "_lambda = 0.0"
   ]
  },
  {
   "cell_type": "code",
   "execution_count": 55,
   "metadata": {},
   "outputs": [],
   "source": [
    "MPD =5 #maximal polynomial degree\n",
    "\n",
    "X = Model(x,y,MPD) #create model matrix"
   ]
  },
  {
   "cell_type": "code",
   "execution_count": 56,
   "metadata": {},
   "outputs": [],
   "source": [
    "def NoResampling(X,z_n,_lambda):\n",
    "    beta = np.linalg.inv(X.T.dot(X)-_lambda*np.eye(len(X[0][:]))).dot(X.T).dot(z_n)\n",
    "\n",
    "    ztilde = X @ beta\n",
    "\n",
    "    return MSE(z_n,ztilde), R2(z_n,ztilde)"
   ]
  },
  {
   "cell_type": "code",
   "execution_count": 57,
   "metadata": {},
   "outputs": [
    {
     "data": {
      "text/plain": [
       "(0.011750380454071879, 0.8575813086894186)"
      ]
     },
     "execution_count": 57,
     "metadata": {},
     "output_type": "execute_result"
    }
   ],
   "source": [
    "NoResampling(X,z_n,0)"
   ]
  },
  {
   "cell_type": "code",
   "execution_count": 58,
   "metadata": {},
   "outputs": [],
   "source": [
    "## find parameters\n",
    "beta = np.linalg.inv(X.T.dot(X)).dot(X.T).dot(z_n)\n",
    "\n",
    "## make prediction\n",
    "ztilde = X @ beta"
   ]
  },
  {
   "cell_type": "code",
   "execution_count": 59,
   "metadata": {},
   "outputs": [],
   "source": [
    "######  Makes model matrix, looks different than mine #####\n",
    "# form: x0y0, x1y0, x0y1, x2y0, x1y1, x0y2\n",
    "# poly2 = PolynomialFeatures(degree=MPD)\n",
    "# a = x[:,np.newaxis]\n",
    "# b = y[:,np.newaxis]\n",
    "# cc = np.c_[a,b]\n",
    "# Xskl = poly2.fit_transform(cc) \n",
    "##########################################################\n",
    "# THIS CELL IS CURRENTLY NOT IN USE #"
   ]
  },
  {
   "cell_type": "code",
   "execution_count": 60,
   "metadata": {},
   "outputs": [],
   "source": [
    "# find parameters\n",
    "clf = skl.LinearRegression(fit_intercept=False) #False to not center data, i.e. intercept is not 0\n",
    "clf.fit(X,z_n) \n",
    "\n",
    "#make prediction\n",
    "zpredict = clf.predict(X)"
   ]
  },
  {
   "cell_type": "code",
   "execution_count": 61,
   "metadata": {},
   "outputs": [
    {
     "name": "stdout",
     "output_type": "stream",
     "text": [
      "Mean squared error (self): 0.01175\n",
      "Mean squared error (skl): 0.01175\n",
      "R2 score (self): 0.85758\n",
      "R2 score (skl): 0.85758\n"
     ]
    }
   ],
   "source": [
    "# The mean squared error              \n",
    "print(\"Mean squared error (self): %.5f\" % MSE(z_n, ztilde))\n",
    "print(\"Mean squared error (skl): %.5f\" % mean_squared_error(z_n, zpredict))\n",
    "\n",
    "# Explained variance score: 1 is perfect prediction     \n",
    "print('R2 score (self): %.5f' %R2(z_n, ztilde))\n",
    "print('R2 score (skl): %.5f' % r2_score(z_n, zpredict))"
   ]
  },
  {
   "cell_type": "code",
   "execution_count": 62,
   "metadata": {},
   "outputs": [
    {
     "name": "stdout",
     "output_type": "stream",
     "text": [
      "[7.55227583e-03 9.61238982e-01 2.15525118e+01 1.05272993e+02\n",
      " 1.12662593e+02 1.71913430e+01 9.57850488e-01 1.25105603e+01\n",
      " 5.57881794e+01 6.46391594e+01 1.28782868e+01 2.19658399e+01\n",
      " 5.62624923e+01 5.42690697e+01 1.13243930e+01 1.06146184e+02\n",
      " 6.43402927e+01 1.19071661e+01 1.10817552e+02 1.26556959e+01\n",
      " 1.64554588e+01]\n",
      "[7.55227583e-03 9.61238982e-01 2.15525118e+01 1.05272993e+02\n",
      " 1.12662593e+02 1.71913430e+01 9.57850488e-01 1.25105603e+01\n",
      " 5.57881794e+01 6.46391594e+01 1.28782868e+01 2.19658399e+01\n",
      " 5.62624923e+01 5.42690697e+01 1.13243930e+01 1.06146184e+02\n",
      " 6.43402927e+01 1.19071661e+01 1.10817552e+02 1.26556959e+01\n",
      " 1.64554588e+01]\n"
     ]
    }
   ],
   "source": [
    "print(Var(z_n, ztilde, MPD,X)) #my variances in betas\n",
    "print(Var(z_n,zpredict,MPD,X)) #skl variances in betas"
   ]
  },
  {
   "cell_type": "code",
   "execution_count": 63,
   "metadata": {},
   "outputs": [
    {
     "name": "stdout",
     "output_type": "stream",
     "text": [
      "[  0.41702431   7.48077741 -32.74719191  45.71933079 -21.87936753\n",
      "   1.0522422    3.67335504 -14.84407907  44.19121002 -52.88759038\n",
      "  18.88929074  -8.42832616  20.25089199  -8.63955314  10.60536587\n",
      "  -7.87735653 -28.232291    -4.66422606  28.14424892  15.58223584\n",
      " -15.73512872]\n",
      "[  0.41702431   7.48077741 -32.7471919   45.71933077 -21.87936751\n",
      "   1.0522422    3.67335504 -14.84407907  44.19121001 -52.88759036\n",
      "  18.88929073  -8.42832616  20.25089199  -8.63955315  10.60536587\n",
      "  -7.87735652 -28.232291    -4.66422606  28.14424892  15.58223584\n",
      " -15.73512872]\n"
     ]
    }
   ],
   "source": [
    "print(beta) #my betas\n",
    "print(clf.coef_) #skl betas"
   ]
  },
  {
   "cell_type": "code",
   "execution_count": 64,
   "metadata": {},
   "outputs": [
    {
     "name": "stdout",
     "output_type": "stream",
     "text": [
      "0.41702431153354175 0.17033150862931976\n",
      "7.480777411044229 1.921638798849138\n",
      "-32.74719191245646 9.099237840102688\n",
      "45.71933079261066 20.110115083667562\n",
      "-21.87936752920072 20.803956750874463\n",
      "1.0522422004568421 8.126639119549067\n",
      "3.673355041648879 1.9182487939643467\n",
      "-14.844079068094606 6.932572994792829\n",
      "44.19121001532446 14.639531069171102\n",
      "-52.88759037657661 15.758102510654302\n",
      "18.889290740623757 7.033720665973215\n",
      "-8.428326161943072 9.186074825137164\n",
      "20.250891987433544 14.701632240609396\n",
      "-8.639553143567005 14.438838531884494\n",
      "10.605365871897092 6.595740149144369\n",
      "-7.877356526861394 20.193344942064147\n",
      "-28.232290996767812 15.721630593980052\n",
      "-4.6642260591257365 6.763325304960402\n",
      "28.14424891862705 20.632903498405213\n",
      "15.582235841903179 6.972669604876835\n",
      "-15.735128720944084 7.950804387314665\n"
     ]
    }
   ],
   "source": [
    "std = 1.96*np.sqrt(Var(z_n, ztilde, MPD,X))\n",
    "# print(std)\n",
    "for i in range(len(std)):\n",
    "    print(beta[i],std[i])\n",
    "#these things are huge, something is probably off"
   ]
  },
  {
   "cell_type": "code",
   "execution_count": 65,
   "metadata": {},
   "outputs": [],
   "source": [
    "# 95% CI: mu +-1.96*sigma"
   ]
  },
  {
   "cell_type": "code",
   "execution_count": null,
   "metadata": {},
   "outputs": [],
   "source": []
  },
  {
   "cell_type": "code",
   "execution_count": null,
   "metadata": {},
   "outputs": [],
   "source": []
  },
  {
   "cell_type": "markdown",
   "metadata": {},
   "source": [
    "# b"
   ]
  },
  {
   "cell_type": "code",
   "execution_count": 66,
   "metadata": {},
   "outputs": [],
   "source": [
    "k = 10 # number of folds\n",
    "partition = 0.2 # percentage of data to use for testing"
   ]
  },
  {
   "cell_type": "code",
   "execution_count": 67,
   "metadata": {},
   "outputs": [],
   "source": [
    "def kFold(k,X,z_n):\n",
    "    #shuffle data before doing the kFold\n",
    "    n = len(X[0,:])\n",
    "    combi = np.c_[X,z_n]\n",
    "    np.random.shuffle(combi)\n",
    "    X, z_n = combi[:,:n], combi[:,n]\n",
    "\n",
    "    partition = 0.2 # percentage of data to use for testing\n",
    "    sMSE = 0. #sum mean squared error\n",
    "    sR2 = 0. #sum R2 score\n",
    "    \n",
    "    for i in range(k):\n",
    "        # Split data\n",
    "        X_train,X_test,z_train,z_test = train_test_split(X,z_n,test_size=partition,shuffle=False)\n",
    "\n",
    "        # find parameters\n",
    "        beta = np.linalg.inv(X_train.T.dot(X_train)).dot(X_train.T).dot(z_train)\n",
    "\n",
    "        # make prediction\n",
    "        z_tilde = X_test @ beta\n",
    "\n",
    "        # sum of MSE and R2, remember to divide by k later\n",
    "        sMSE += MSE(z_test,z_tilde)\n",
    "        sR2 += R2(z_test,z_tilde)\n",
    "\n",
    "        # Prepare data for next fold\n",
    "        X = np.roll(X,len(X_test),axis=0) # Rolls matrix downwards before next split\n",
    "        z_n = np.roll(z_n,len(z_test))\n",
    "    return sMSE/k, sR2/k"
   ]
  },
  {
   "cell_type": "code",
   "execution_count": 68,
   "metadata": {},
   "outputs": [],
   "source": [
    "def kFoldskl(k,X,z_n):\n",
    "    from sklearn.model_selection import KFold\n",
    "    #shuffle data before doing the kFold\n",
    "    n = len(X[0,:])\n",
    "    combi = np.c_[X,z_n]\n",
    "    np.random.shuffle(combi)\n",
    "    X, z_n = combi[:,:n], combi[:,n]\n",
    "    \n",
    "#     kfold = KFold(k,True,1)\n",
    "    kfold = KFold(k,False)\n",
    "    sMSE = 0\n",
    "    sR2 = 0\n",
    "    for train,test in kfold.split(X,z_n):\n",
    "        # find parameters\n",
    "        clf = skl.LinearRegression(fit_intercept=False) #False to not center data, i.e. intercept is not 0\n",
    "        clf.fit(X[train],z_n[train]) \n",
    "\n",
    "        #make prediction\n",
    "        zpredict = clf.predict(X[test])\n",
    "        sMSE += mean_squared_error(z_n[test],zpredict)\n",
    "        sR2 += r2_score(z_n[test],zpredict)\n",
    "\n",
    "    return sMSE/k, sR2/k"
   ]
  },
  {
   "cell_type": "code",
   "execution_count": 69,
   "metadata": {},
   "outputs": [
    {
     "name": "stdout",
     "output_type": "stream",
     "text": [
      "(0.011769337901600535, 0.8573157995233929)\n",
      "(0.011762665418792256, 0.8573948233602751)\n",
      "(0.011761509159191795, 0.857387129442262)\n",
      "(0.011764446607509284, 0.8573298353203317)\n",
      "(0.011766193431941224, 0.8573599972522908)\n",
      "(0.011762188445701158, 0.8573056878044575)\n",
      "(0.011765546076110068, 0.8573498493928746)\n",
      "(0.011762465211080968, 0.8574319523145417)\n",
      "(0.011765690521001772, 0.8573399306839251)\n",
      "(0.01176701700148781, 0.8573165639729752)\n",
      "(0.011766934792238328, 0.857344437867798)\n",
      "(0.01176685150273835, 0.8572736062385966)\n",
      "(0.011766002131566792, 0.8573426458383615)\n",
      "(0.011763274914768172, 0.8573440586610863)\n",
      "(0.01176768351598625, 0.8572780699272593)\n",
      "(0.011764163789631148, 0.8573438013161796)\n",
      "(0.011765315071879816, 0.8573841161313227)\n",
      "(0.01176453870343928, 0.8572509258263669)\n",
      "(0.011766306886152685, 0.8573757696905302)\n",
      "(0.01176440429773958, 0.8573191426357105)\n"
     ]
    }
   ],
   "source": [
    "#function test\n",
    "for i in range(10):\n",
    "    print(kFold(k,X,z_n))\n",
    "    print(kFoldskl(k,X,z_n))"
   ]
  },
  {
   "cell_type": "code",
   "execution_count": 70,
   "metadata": {},
   "outputs": [],
   "source": [
    "def kFoldRidge(k,X,z_n,_lambda):\n",
    "    #shuffle data before doing the kFold\n",
    "    n = len(X[0,:])\n",
    "    combi = np.c_[X,z_n]\n",
    "    np.random.shuffle(combi)\n",
    "    X, z_n = combi[:,:n], combi[:,n]\n",
    "    \n",
    "    partition = 0.2 # percentage of data to use for testing\n",
    "    sMSE = 0 #sum mean squared error\n",
    "    sR2 = 0 #sum R2 score\n",
    "    \n",
    "    for i in range(k):\n",
    "        # Split data\n",
    "        X_train,X_test,z_train,z_test = train_test_split(X,z_n,test_size=partition,shuffle=False)\n",
    "        \n",
    "        # find parameters\n",
    "#         beta = np.linalg.inv(X_train.T.dot(X_train)-_lambda*np.eye(len(X[0][:]))).dot(X_train.T).dot(z_train)\n",
    "\n",
    "        beta = np.linalg.inv(X_train.T.dot(X_train)-_lambda*np.eye(n)).dot(X_train.T).dot(z_train)\n",
    "\n",
    "        # make prediction\n",
    "        z_tilde = X_test @ beta\n",
    "\n",
    "        # sum of MSE and R2, remember to divide by k later\n",
    "        sMSE += MSE(z_test,z_tilde)\n",
    "        sR2 += R2(z_test,z_tilde)\n",
    "\n",
    "        # Prepare data for next fold\n",
    "        X = np.roll(X,len(X_test),axis=0) # Rolls matrix downwards before next split\n",
    "        z_n = np.roll(z_n,len(z_test)) # Roll\n",
    "    \n",
    "    return sMSE/k, sR2/k"
   ]
  },
  {
   "cell_type": "code",
   "execution_count": 90,
   "metadata": {},
   "outputs": [
    {
     "name": "stdout",
     "output_type": "stream",
     "text": [
      "(0.011762110373488347, 0.857379135017398)\n",
      "(0.011765441987484726, 0.857384935344425)\n"
     ]
    }
   ],
   "source": [
    "print(kFoldRidge(k,X,z_n,0.))\n",
    "print(kFold(k,X,z_n))"
   ]
  },
  {
   "cell_type": "code",
   "execution_count": 82,
   "metadata": {},
   "outputs": [],
   "source": [
    "def kFoldLassoCV(k,X,z_n,_lambda):\n",
    "    partition = 0.2 #Percentage of data to use for testing\n",
    "\n",
    "    #How to select good tolerances and max iters?\n",
    "    reg = skl.LassoCV(alphas=_lambda,cv = k, random_state = 0,tol=0.0001,max_iter = 100000).fit(X,z_n)\n",
    "    ztilde = reg.predict(X)\n",
    "    plt.figure()\n",
    "    plt.semilogx(reg.alphas_,reg.mse_path_)\n",
    "    plt.semilogx(reg.alphas_,reg.mse_path_.mean(axis=-1),'k')\n",
    "    plt.xlabel('Log-plot of lambdas')\n",
    "    plt.ylabel('Mean squared error')\n",
    "    plt.show()\n",
    "    \n",
    "    return mean_squared_error(ztilde,z_n), r2_score(ztilde,z_n)"
   ]
  },
  {
   "cell_type": "code",
   "execution_count": 91,
   "metadata": {},
   "outputs": [],
   "source": [
    "def kFoldLasso(k,X,z_n,_lambda):\n",
    "    # this converges slowly for small lambda!\n",
    "    \n",
    "    #shuffle data before doing the kFold\n",
    "    n = len(X[0,:])\n",
    "    combi = np.c_[X,z_n]\n",
    "    np.random.shuffle(combi)\n",
    "    X, z_n = combi[:,:n], combi[:,n]\n",
    "    \n",
    "    partition = 0.2 # percentage of data to use for testing\n",
    "    sMSE = 0 #sum mean squared error\n",
    "    sR2 = 0 #sum R2 score\n",
    "    \n",
    "    for i in range(k):\n",
    "        X_train, X_test, z_train, z_test = train_test_split(X,z_n,test_size=partition,shuffle=False )\n",
    "\n",
    "        lass = skl.Lasso(alpha=_lambda,tol = 0.0001,max_iter = 100000)\n",
    "        lass.fit(X_train,z_train)\n",
    "        ztilde = lass.predict(X_test)\n",
    "\n",
    "#         # sum of MSE and R2, remember to divide by k later\n",
    "        sMSE += mean_squared_error(ztilde,z_test)\n",
    "        sR2 += r2_score(z_test,ztilde)\n",
    "\n",
    "        # Prepare data for next fold\n",
    "        X = np.roll(X,len(X_test),axis=0) # Rolls matrix downwards before next split\n",
    "        z_n = np.roll(z_n,len(z_test)) # Roll\n",
    "    \n",
    "    return sMSE/k, sR2/k"
   ]
  },
  {
   "cell_type": "markdown",
   "metadata": {},
   "source": [
    "# c"
   ]
  },
  {
   "cell_type": "code",
   "execution_count": 84,
   "metadata": {},
   "outputs": [],
   "source": [
    "MPD = [1,2,3,4,5]\n",
    "MSE_degree = []\n",
    "\n",
    "for i in MPD:\n",
    "    X = Model(x,y,i)\n",
    "    dMSE, dR2 = kFold(k,X,z_n)\n",
    "#     dMSE, dR2 = NoResampling(X,z_n,0)\n",
    "    MSE_degree.append(dMSE)"
   ]
  },
  {
   "cell_type": "code",
   "execution_count": 85,
   "metadata": {},
   "outputs": [
    {
     "data": {
      "image/png": "[encoded data removed]",
      "text/plain": [
       "<Figure size 432x288 with 1 Axes>"
      ]
     },
     "metadata": {
      "needs_background": "light"
     },
     "output_type": "display_data"
    }
   ],
   "source": [
    "plt.figure()\n",
    "plt.plot(MPD,MSE_degree)\n",
    "plt.xlabel('Polynomial degree')\n",
    "plt.ylabel('Mean squared error')\n",
    "plt.show()"
   ]
  },
  {
   "cell_type": "markdown",
   "metadata": {},
   "source": [
    "It seems the model complexity isnt high enough for the curve to have a minimum like Hastie 2.11. To increase model complexity, a different inversion method is required, due to round-off-error, or what its called."
   ]
  },
  {
   "cell_type": "markdown",
   "metadata": {},
   "source": [
    "# d"
   ]
  },
  {
   "cell_type": "code",
   "execution_count": 86,
   "metadata": {},
   "outputs": [],
   "source": [
    "_lambda = np.logspace(-4,5,10)\n",
    "\n",
    "RidgeMSE = np.zeros((len(MPD),len(_lambda)))\n",
    "RidgeR2 = np.zeros((len(MPD),len(_lambda)))\n",
    "\n",
    "for i,mpd in enumerate(MPD):\n",
    "    X = Model(x,y,mpd)\n",
    "    for j,lam in enumerate(_lambda):\n",
    "#         rMSE,rR2 = NoResampling(X,z_n,lam)\n",
    "        rMSE,rR2 = kFoldRidge(k,X,z_n,lam)\n",
    "        RidgeMSE[i][j] = rMSE\n",
    "        RidgeR2[i][j] = rR2"
   ]
  },
  {
   "cell_type": "code",
   "execution_count": 87,
   "metadata": {},
   "outputs": [
    {
     "data": {
      "image/png": "[encoded data removed]",
      "text/plain": [
       "<Figure size 432x288 with 1 Axes>"
      ]
     },
     "metadata": {
      "needs_background": "light"
     },
     "output_type": "display_data"
    }
   ],
   "source": [
    "plt.figure()\n",
    "\n",
    "for i in range(len(_lambda)):\n",
    "    plt.semilogy(MPD,RidgeMSE[:,i],label=_lambda[i])\n",
    "plt.xlabel('Polynomial degree')\n",
    "plt.ylabel('Mean Squared Error')\n",
    "plt.legend()\n",
    "plt.show()"
   ]
  },
  {
   "cell_type": "code",
   "execution_count": 88,
   "metadata": {},
   "outputs": [
    {
     "data": {
      "image/png": "[encoded data removed]",
      "text/plain": [
       "<Figure size 432x288 with 1 Axes>"
      ]
     },
     "metadata": {
      "needs_background": "light"
     },
     "output_type": "display_data"
    }
   ],
   "source": [
    "plt.figure()\n",
    "\n",
    "for i in range(len(MPD)):\n",
    "    plt.loglog(_lambda,RidgeMSE[i,:],label=i+1)\n",
    "plt.xlabel('lambda')\n",
    "plt.ylabel('Mean Squared Error')\n",
    "plt.legend()\n",
    "plt.show()"
   ]
  },
  {
   "cell_type": "markdown",
   "metadata": {},
   "source": [
    "# e"
   ]
  },
  {
   "cell_type": "code",
   "execution_count": 89,
   "metadata": {},
   "outputs": [
    {
     "data": {
      "image/png": "[encoded data removed]",
      "text/plain": [
       "<Figure size 432x288 with 1 Axes>"
      ]
     },
     "metadata": {
      "needs_background": "light"
     },
     "output_type": "display_data"
    },
    {
     "data": {
      "text/plain": [
       "(0.017228051448769353, 0.7280001488269142)"
      ]
     },
     "execution_count": 89,
     "metadata": {},
     "output_type": "execute_result"
    }
   ],
   "source": [
    "# I'll use Scikit-learn as recommended for this\n",
    "kFoldLassoCV(k,X,z_n,_lambda)\n"
   ]
  },
  {
   "cell_type": "code",
   "execution_count": null,
   "metadata": {},
   "outputs": [],
   "source": [
    "#morten spm:\n",
    "# confidence interval\n",
    "# bias variance: \n",
    "#use each fold to make mean, or run 10 shuffled k-folds?\n",
    "#lambdas are usually horrible"
   ]
  },
  {
   "cell_type": "code",
   "execution_count": null,
   "metadata": {},
   "outputs": [],
   "source": []
  },
  {
   "cell_type": "code",
   "execution_count": null,
   "metadata": {},
   "outputs": [],
   "source": []
  }
 ],
 "metadata": {
  "kernelspec": {
   "display_name": "Python 3",
   "language": "python",
   "name": "python3"
  },
  "language_info": {
   "codemirror_mode": {
    "name": "ipython",
    "version": 3
   },
   "file_extension": ".py",
   "mimetype": "text/x-python",
   "name": "python",
   "nbconvert_exporter": "python",
   "pygments_lexer": "ipython3",
   "version": "3.7.1"
  }
 },
 "nbformat": 4,
 "nbformat_minor": 2
}
