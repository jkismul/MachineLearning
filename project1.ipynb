{
 "cells": [
  {
   "cell_type": "code",
   "execution_count": 259,
   "metadata": {},
   "outputs": [],
   "source": [
    "#import packages\n",
    "import numpy as np\n",
    "from random import random, seed\n",
    "from sklearn.preprocessing import PolynomialFeatures\n",
    "from sklearn.metrics import mean_squared_error, r2_score\n",
    "from sklearn.model_selection import train_test_split\n",
    "import matplotlib.pyplot as plt\n",
    "import sklearn.linear_model as skl"
   ]
  },
  {
   "cell_type": "code",
   "execution_count": 260,
   "metadata": {},
   "outputs": [],
   "source": [
    "#define Franke function\n",
    "def FrankeFunction(x,y): #still got one division in here\n",
    "    term1 = 0.75*np.exp(-(0.25*(9*x-2)*(9*x-2)) - 0.25*((9*y-2)*(9*y-2)))\n",
    "    term2 = 0.75*np.exp(-((9*x+1)*(9*x+1))/49.0 - 0.1*(9*y+1))\n",
    "    term3 = 0.5*np.exp(-(9*x-7)*(9*x-7)*0.25 - 0.25*((9*y-3)*(9*y-3)))\n",
    "    term4 = -0.2*np.exp(-(9*x-4)*(9*x-4) - (9*y-7)*(9*y-7))\n",
    "    return term1 + term2 + term3 + term4"
   ]
  },
  {
   "cell_type": "code",
   "execution_count": 261,
   "metadata": {},
   "outputs": [],
   "source": [
    "# create model matrix\n",
    "# Form is: x0y0, x1y0, x2y0, x0y1, x1y1, x0y2\n",
    "def Model(x,y,P): # P is polynomial degree\n",
    "    m = len(x)*len(y) # number of equations\n",
    "    t = sum(range(P+2)) # number of terms in polynomial\n",
    "    X = np.zeros((m,t)) # Model matrix\n",
    "    a = np.matrix.flatten(x)\n",
    "    b = np.matrix.flatten(y)\n",
    "    c = 0 #counter\n",
    "    for i in range(P+1):\n",
    "        for j in range(P+1-i):\n",
    "            X[:,c] = a**j*b**i\n",
    "            c +=1\n",
    "    return X"
   ]
  },
  {
   "cell_type": "code",
   "execution_count": 262,
   "metadata": {},
   "outputs": [],
   "source": [
    "#define R2 function\n",
    "def R2(y_data, y_model):\n",
    "    return 1 - np.sum((y_data - y_model) ** 2) / np.sum((y_data - np.mean(y_model)) ** 2)"
   ]
  },
  {
   "cell_type": "code",
   "execution_count": 263,
   "metadata": {},
   "outputs": [],
   "source": [
    "#define MSE function\n",
    "def MSE(y_data,y_model):\n",
    "    n = np.size(y_model)\n",
    "    return np.sum((y_data-y_model)**2)/n"
   ]
  },
  {
   "cell_type": "code",
   "execution_count": 264,
   "metadata": {},
   "outputs": [],
   "source": [
    "#define variance function\n",
    "def Var(y_data, y_model,P,X):\n",
    "    N = len(y_data)\n",
    "    covar = np.linalg.inv(X.T.dot(X))#sigma2\n",
    "    vari = np.diagonal(covar)\n",
    "    return vari"
   ]
  },
  {
   "cell_type": "code",
   "execution_count": 265,
   "metadata": {},
   "outputs": [],
   "source": [
    "#Create random variables/predictors\n",
    "np.random.seed(1234)\n",
    "N = 200 #points along x and y axes\n",
    "\n",
    "x = np.random.uniform(0,1,N)\n",
    "y = np.random.uniform(0,1,N)\n",
    "\n",
    "# x = np.arange(1,3,1)\n",
    "# y = np.arange(3,5,1)\n",
    "\n",
    "x, y = np.meshgrid(x,y,sparse=False)\n",
    "\n",
    "#create datapoints/results\n",
    "z = FrankeFunction(x, y)\n",
    "\n",
    "# Create noise\n",
    "Noise = 0.5*np.random.randn(N,N) #ask how noise should be added. NxN?\n",
    "\n",
    "#add noise\n",
    "z_n = z+Noise\n",
    "\n",
    "#flatten for use in functions\n",
    "z_n = np.matrix.flatten(z_n)\n",
    "z = np.matrix.flatten(z)\n",
    "\n",
    "#added a 0 Ridge parameter\n",
    "_lambda = 0.0"
   ]
  },
  {
   "cell_type": "code",
   "execution_count": 266,
   "metadata": {},
   "outputs": [],
   "source": [
    "MPD =5 #maximal polynomial degree\n",
    "\n",
    "X = Model(x,y,MPD) #create model matrix"
   ]
  },
  {
   "cell_type": "code",
   "execution_count": 267,
   "metadata": {},
   "outputs": [],
   "source": [
    "def NoResampling(X,z_n,_lambda):\n",
    "    beta = np.linalg.inv(X.T.dot(X)-_lambda*np.eye(len(X[0][:]))).dot(X.T).dot(z_n)\n",
    "\n",
    "    ztilde = X @ beta\n",
    "    \n",
    "    return MSE(z_n,ztilde), R2(z_n,ztilde)"
   ]
  },
  {
   "cell_type": "code",
   "execution_count": 268,
   "metadata": {},
   "outputs": [
    {
     "data": {
      "text/plain": [
       "(0.25134932205283894, 0.21556732290514102)"
      ]
     },
     "execution_count": 268,
     "metadata": {},
     "output_type": "execute_result"
    }
   ],
   "source": [
    "NoResampling(X,z_n,0)"
   ]
  },
  {
   "cell_type": "code",
   "execution_count": 269,
   "metadata": {},
   "outputs": [],
   "source": [
    "# find parameters\n",
    "beta = np.linalg.inv(X.T.dot(X)).dot(X.T).dot(z_n)\n",
    "\n",
    "# make prediction\n",
    "ztilde = X @ beta"
   ]
  },
  {
   "cell_type": "code",
   "execution_count": 270,
   "metadata": {},
   "outputs": [],
   "source": [
    "######  Makes model matrix, looks different than mine #####\n",
    "# form: x0y0, x1y0, x0y1, x2y0, x1y1, x0y2\n",
    "# poly2 = PolynomialFeatures(degree=MPD)\n",
    "# a = x[:,np.newaxis]\n",
    "# b = y[:,np.newaxis]\n",
    "# cc = np.c_[a,b]\n",
    "# Xskl = poly2.fit_transform(cc) \n",
    "##########################################################\n",
    "# THIS CELL IS CURRENTLY NOT IN USE #"
   ]
  },
  {
   "cell_type": "code",
   "execution_count": 271,
   "metadata": {},
   "outputs": [],
   "source": [
    "# find parameters\n",
    "clf = skl.LinearRegression(fit_intercept=False) #False to not center data, i.e. intercept is not 0\n",
    "clf.fit(X,z_n) \n",
    "\n",
    "#make prediction\n",
    "zpredict = clf.predict(X)"
   ]
  },
  {
   "cell_type": "code",
   "execution_count": 272,
   "metadata": {},
   "outputs": [
    {
     "name": "stdout",
     "output_type": "stream",
     "text": [
      "Mean squared error (self): 0.25135\n",
      "Mean squared error (skl): 0.25135\n",
      "R2 score (self): 0.21557\n",
      "R2 score (skl): 0.21557\n"
     ]
    }
   ],
   "source": [
    "# The mean squared error              \n",
    "print(\"Mean squared error (self): %.5f\" % MSE(z_n, ztilde))\n",
    "print(\"Mean squared error (skl): %.5f\" % mean_squared_error(z_n, zpredict))\n",
    "\n",
    "# Explained variance score: 1 is perfect prediction     \n",
    "print('R2 score (self): %.5f' %R2(z_n, ztilde))\n",
    "print('R2 score (skl): %.5f' % r2_score(z_n, zpredict))"
   ]
  },
  {
   "cell_type": "code",
   "execution_count": 273,
   "metadata": {},
   "outputs": [
    {
     "name": "stdout",
     "output_type": "stream",
     "text": [
      "[7.55227583e-03 9.61238982e-01 2.15525118e+01 1.05272993e+02\n",
      " 1.12662593e+02 1.71913430e+01 9.57850488e-01 1.25105603e+01\n",
      " 5.57881794e+01 6.46391594e+01 1.28782868e+01 2.19658399e+01\n",
      " 5.62624923e+01 5.42690697e+01 1.13243930e+01 1.06146184e+02\n",
      " 6.43402927e+01 1.19071661e+01 1.10817552e+02 1.26556959e+01\n",
      " 1.64554588e+01]\n",
      "[7.55227583e-03 9.61238982e-01 2.15525118e+01 1.05272993e+02\n",
      " 1.12662593e+02 1.71913430e+01 9.57850488e-01 1.25105603e+01\n",
      " 5.57881794e+01 6.46391594e+01 1.28782868e+01 2.19658399e+01\n",
      " 5.62624923e+01 5.42690697e+01 1.13243930e+01 1.06146184e+02\n",
      " 6.43402927e+01 1.19071661e+01 1.10817552e+02 1.26556959e+01\n",
      " 1.64554588e+01]\n"
     ]
    }
   ],
   "source": [
    "print(Var(z_n, ztilde, MPD,X))\n",
    "print(Var(z_n,zpredict,MPD,X))"
   ]
  },
  {
   "cell_type": "code",
   "execution_count": 274,
   "metadata": {},
   "outputs": [
    {
     "name": "stdout",
     "output_type": "stream",
     "text": [
      "[ 3.84405851e-01  7.34606830e+00 -3.16234928e+01  4.26441529e+01\n",
      " -1.86935312e+01 -3.13006733e-02  4.35158695e+00 -1.49635132e+01\n",
      "  4.46444380e+01 -5.23820769e+01  1.81108818e+01 -1.23130532e+01\n",
      "  1.94753339e+01 -9.71854957e+00  1.17299074e+01  1.73811663e+00\n",
      " -2.63185177e+01 -5.20217757e+00  1.78159692e+01  1.48962160e+01\n",
      " -1.18052030e+01]\n",
      "[ 3.84405851e-01  7.34606830e+00 -3.16234928e+01  4.26441529e+01\n",
      " -1.86935312e+01 -3.13006740e-02  4.35158695e+00 -1.49635132e+01\n",
      "  4.46444380e+01 -5.23820770e+01  1.81108818e+01 -1.23130532e+01\n",
      "  1.94753339e+01 -9.71854957e+00  1.17299074e+01  1.73811662e+00\n",
      " -2.63185176e+01 -5.20217757e+00  1.78159692e+01  1.48962160e+01\n",
      " -1.18052030e+01]\n"
     ]
    }
   ],
   "source": [
    "print(beta)\n",
    "print(clf.coef_)"
   ]
  },
  {
   "cell_type": "code",
   "execution_count": 275,
   "metadata": {},
   "outputs": [
    {
     "name": "stdout",
     "output_type": "stream",
     "text": [
      "[ 0.17033151  1.9216388   9.09923784 20.11011508 20.80395675  8.12663912\n",
      "  1.91824879  6.932573   14.63953107 15.75810251  7.03372067  9.18607482\n",
      " 14.70163224 14.43883853  6.59574015 20.19334494 15.72163059  6.76332531\n",
      " 20.6329035   6.9726696   7.95080439]\n"
     ]
    }
   ],
   "source": [
    "std = 1.96*np.sqrt(Var(z_n, ztilde, MPD,X))\n",
    "print(std)"
   ]
  },
  {
   "cell_type": "code",
   "execution_count": 276,
   "metadata": {},
   "outputs": [],
   "source": [
    "# 95% CI: mu +-1.96*sigma"
   ]
  },
  {
   "cell_type": "code",
   "execution_count": 277,
   "metadata": {},
   "outputs": [
    {
     "data": {
      "text/plain": [
       "0.5211842284643694"
      ]
     },
     "execution_count": 277,
     "metadata": {},
     "output_type": "execute_result"
    }
   ],
   "source": [
    "np.sqrt(0.271633)"
   ]
  },
  {
   "cell_type": "code",
   "execution_count": null,
   "metadata": {},
   "outputs": [],
   "source": []
  },
  {
   "cell_type": "markdown",
   "metadata": {},
   "source": [
    "# b"
   ]
  },
  {
   "cell_type": "code",
   "execution_count": 278,
   "metadata": {},
   "outputs": [],
   "source": [
    "k = 10 # number of folds\n",
    "partition = 0.2 # percentage of data to use for testing\n",
    "# sMSE = 0 #sum mean squared error\n",
    "# sR2 = 0 #sum R2 score"
   ]
  },
  {
   "cell_type": "code",
   "execution_count": 279,
   "metadata": {},
   "outputs": [],
   "source": [
    "def kFold(k,X,z_n):\n",
    "    partition = 0.2 # percentage of data to use for testing\n",
    "    sMSE = 0 #sum mean squared error\n",
    "    sR2 = 0 #sum R2 score\n",
    "    divide = int((1-partition)*len(X))\n",
    "    \n",
    "    for i in range(k):\n",
    "        # Split data\n",
    "        X_train = X[:divide][:]\n",
    "        X_test = X[divide:][:]\n",
    "        z_train = z_n[:divide]\n",
    "        z_test = z_n[divide:]\n",
    "        \n",
    "        # find parameters\n",
    "        beta = np.linalg.inv(X_train.T.dot(X_train)).dot(X_train.T).dot(z_train)\n",
    "\n",
    "        # make prediction\n",
    "        z_tilde = X_test @ beta\n",
    "\n",
    "        # sum of MSE and R2, remember to divide by k later\n",
    "        sMSE += MSE(z_test,z_tilde)\n",
    "        sR2 += R2(z_test,z_tilde)\n",
    "\n",
    "        # Prepare data for next fold\n",
    "        X = np.roll(X,len(X_test),axis=0) # Rolls matrix downwards before next split\n",
    "        z_n = np.roll(z_n,len(X_test)) # Roll\n",
    "    \n",
    "    return sMSE/k, sR2/k"
   ]
  },
  {
   "cell_type": "code",
   "execution_count": 280,
   "metadata": {},
   "outputs": [],
   "source": [
    "def kFoldRidge(k,X,z_n,_lambda):\n",
    "    partition = 0.2 # percentage of data to use for testing\n",
    "    sMSE = 0 #sum mean squared error\n",
    "    sR2 = 0 #sum R2 score\n",
    "    divide = int((1-partition)*len(X))\n",
    "    \n",
    "    for i in range(k):\n",
    "        # Split data\n",
    "        #own splitting\n",
    "        X_train = X[:divide][:]\n",
    "        X_test = X[divide:][:]\n",
    "        z_train = z_n[:divide]\n",
    "        z_test = z_n[divide:]\n",
    "        # Skl splitting\n",
    "\n",
    "        \n",
    "        # find parameters\n",
    "        beta = np.linalg.inv(X_train.T.dot(X_train)-_lambda*np.eye(len(X[0][:]))).dot(X_train.T).dot(z_train)\n",
    "\n",
    "        # make prediction\n",
    "        z_tilde = X_test @ beta\n",
    "\n",
    "        # sum of MSE and R2, remember to divide by k later\n",
    "        sMSE += MSE(z_test,z_tilde)\n",
    "        sR2 += R2(z_test,z_tilde)\n",
    "\n",
    "        # Prepare data for next fold\n",
    "        X = np.roll(X,len(X_test),axis=0) # Rolls matrix downwards before next split\n",
    "        z_n = np.roll(z_n,len(X_test)) # Roll\n",
    "    \n",
    "    return sMSE/k, sR2/k"
   ]
  },
  {
   "cell_type": "code",
   "execution_count": 289,
   "metadata": {},
   "outputs": [],
   "source": [
    "def kFoldLassoCV(k,X,z_n,_lambda):\n",
    "    partition = 0.2 #Percentage of data to use for testing\n",
    "\n",
    "    #How to select good tolerances and max iters?\n",
    "    reg = skl.LassoCV(alphas=_lambda,cv = k, random_state = 0,tol=0.0001,max_iter = 100000).fit(X_train,z_train)\n",
    "    ztilde = reg.predict(X_test)\n",
    "    plt.figure()\n",
    "    plt.semilogx(reg.alphas_,reg.mse_path_)\n",
    "    plt.semilogx(reg.alphas_,reg.mse_path_.mean(axis=-1),'k')\n",
    "    plt.xlabel('Log-plot of lambdas')\n",
    "    plt.ylabel('Mean squared errors')\n",
    "    plt.show()\n",
    "    return mean_squared_error(ztilde,z_test), r2_score(ztilde,z_test)"
   ]
  },
  {
   "cell_type": "code",
   "execution_count": 290,
   "metadata": {},
   "outputs": [],
   "source": [
    "def kFoldLasso(k,X,z_n,_lambda):\n",
    "    partition = 0.2 # percentage of data to use for testing\n",
    "    sMSE = 0 #sum mean squared error\n",
    "    sR2 = 0 #sum R2 score\n",
    "#     X_train, X_test, z_train, z_test = train_test_split(X,z_n,test_size=partition,shuffle=False )\n",
    "\n",
    "    for i in range(k):\n",
    "        X_train, X_test, z_train, z_test = train_test_split(X,z_n,test_size=partition,shuffle=False )\n",
    "\n",
    "        lass = skl.Lasso(alpha=_lambda)\n",
    "        lass.fit(X_train,z_train)\n",
    "        ztilde = lass.predict(X_test)\n",
    "#         print(np.shape(ztilde),np.shape(z_test))\n",
    "#         # find parameters\n",
    "#         beta = np.linalg.inv(X_train.T.dot(X_train)-_lambda*np.eye(len(X[0][:]))).dot(X_train.T).dot(z_train)\n",
    "\n",
    "#         # make prediction\n",
    "#         z_tilde = X_test @ beta\n",
    "\n",
    "#         # sum of MSE and R2, remember to divide by k later\n",
    "#         sMSE += MSE(z_test,z_tilde)\n",
    "#         sR2 += R2(z_test,z_tilde)\n",
    "        sMSE += mean_squared_error(ztilde,z_test)\n",
    "        sR2 += r2_score(ztilde,z_test)\n",
    "        # Prepare data for next fold\n",
    "        X = np.roll(X,len(X_test),axis=0) # Rolls matrix downwards before next split\n",
    "        z_n = np.roll(z_n,len(X_test)) # Roll\n",
    "    \n",
    "    return sMSE/k, sR2/k"
   ]
  },
  {
   "cell_type": "markdown",
   "metadata": {},
   "source": [
    "# c"
   ]
  },
  {
   "cell_type": "code",
   "execution_count": 291,
   "metadata": {},
   "outputs": [],
   "source": [
    "MPD = [1,2,3,4,5]\n",
    "MSE_degree = []\n",
    "\n",
    "for i in MPD:\n",
    "    X = Model(x,y,i)\n",
    "    dMSE, dR2 = kFold(k,X,z_n)\n",
    "#     dMSE, dR2 = NoResampling(X,z_n,0)\n",
    "    MSE_degree.append(dMSE)"
   ]
  },
  {
   "cell_type": "code",
   "execution_count": 293,
   "metadata": {},
   "outputs": [
    {
     "data": {
      "image/png": "[encoded data removed]",
      "text/plain": [
       "<Figure size 432x288 with 1 Axes>"
      ]
     },
     "metadata": {
      "needs_background": "light"
     },
     "output_type": "display_data"
    }
   ],
   "source": [
    "plt.figure()\n",
    "plt.plot(MPD,MSE_degree)\n",
    "plt.xlabel('Polynomial degree')\n",
    "plt.ylabel('Mean squared error')\n",
    "plt.show()"
   ]
  },
  {
   "cell_type": "markdown",
   "metadata": {},
   "source": [
    "It seems the model complexity isnt high enough for the curve to have a minimum like Hastie 2.11. To increase model complexity, a different inversion method is required, due to round-off-error, or what its called."
   ]
  },
  {
   "cell_type": "markdown",
   "metadata": {},
   "source": [
    "# d"
   ]
  },
  {
   "cell_type": "code",
   "execution_count": 294,
   "metadata": {},
   "outputs": [],
   "source": [
    "_lambda = np.logspace(-4,5,10)\n",
    "\n",
    "RidgeMSE = np.zeros((len(MPD),len(_lambda)))\n",
    "RidgeR2 = np.zeros((len(MPD),len(_lambda)))\n",
    "\n",
    "for i,mpd in enumerate(MPD):\n",
    "    X = Model(x,y,mpd)\n",
    "    for j,lam in enumerate(_lambda):\n",
    "#         rMSE,rR2 = NoResampling(X,z_n,lam)\n",
    "        rMSE,rR2 = kFoldRidge(k,X,z_n,lam)\n",
    "        RidgeMSE[i][j] = rMSE\n",
    "        RidgeR2[i][j] = rR2"
   ]
  },
  {
   "cell_type": "code",
   "execution_count": 295,
   "metadata": {},
   "outputs": [
    {
     "data": {
      "image/png": "[encoded data removed]",
      "text/plain": [
       "<Figure size 432x288 with 1 Axes>"
      ]
     },
     "metadata": {
      "needs_background": "light"
     },
     "output_type": "display_data"
    }
   ],
   "source": [
    "plt.figure()\n",
    "\n",
    "for i in range(len(_lambda)):\n",
    "    plt.semilogy(MPD,RidgeMSE[:,i],label=_lambda[i])\n",
    "plt.xlabel('Polynomial degree')\n",
    "plt.ylabel('Mean Squared Error')\n",
    "plt.legend()\n",
    "plt.show()"
   ]
  },
  {
   "cell_type": "code",
   "execution_count": 296,
   "metadata": {},
   "outputs": [
    {
     "data": {
      "image/png": "[encoded data removed]",
      "text/plain": [
       "<Figure size 432x288 with 1 Axes>"
      ]
     },
     "metadata": {
      "needs_background": "light"
     },
     "output_type": "display_data"
    }
   ],
   "source": [
    "plt.figure()\n",
    "\n",
    "for i in range(len(MPD)):\n",
    "    plt.loglog(_lambda,RidgeMSE[i,:],label=i+1)\n",
    "plt.xlabel('lambda')\n",
    "plt.ylabel('Mean Squared Error')\n",
    "plt.legend()\n",
    "plt.show()"
   ]
  },
  {
   "cell_type": "markdown",
   "metadata": {},
   "source": [
    "# e"
   ]
  },
  {
   "cell_type": "code",
   "execution_count": 297,
   "metadata": {},
   "outputs": [
    {
     "data": {
      "image/png": "[encoded data removed]",
      "text/plain": [
       "<Figure size 432x288 with 1 Axes>"
      ]
     },
     "metadata": {
      "needs_background": "light"
     },
     "output_type": "display_data"
    },
    {
     "data": {
      "text/plain": [
       "(0.017852740026684657, 0.7152617510185606)"
      ]
     },
     "execution_count": 297,
     "metadata": {},
     "output_type": "execute_result"
    }
   ],
   "source": [
    "# I'll use Scikit-learn as recommended for this\n",
    "kFoldLassoCV(k,X,z_n,_lambda)\n"
   ]
  },
  {
   "cell_type": "code",
   "execution_count": null,
   "metadata": {},
   "outputs": [],
   "source": []
  },
  {
   "cell_type": "code",
   "execution_count": null,
   "metadata": {},
   "outputs": [],
   "source": []
  }
 ],
 "metadata": {
  "kernelspec": {
   "display_name": "Python 3",
   "language": "python",
   "name": "python3"
  },
  "language_info": {
   "codemirror_mode": {
    "name": "ipython",
    "version": 3
   },
   "file_extension": ".py",
   "mimetype": "text/x-python",
   "name": "python",
   "nbconvert_exporter": "python",
   "pygments_lexer": "ipython3",
   "version": "3.7.1"
  }
 },
 "nbformat": 4,
 "nbformat_minor": 2
}
