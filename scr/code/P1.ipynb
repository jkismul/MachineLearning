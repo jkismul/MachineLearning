{
 "cells": [
  {
   "cell_type": "code",
   "execution_count": 1,
   "metadata": {},
   "outputs": [],
   "source": [
    "# ridge svd?\n",
    "#wanna go QR _or_ cholesky or what its called? check monday\n",
    "#expand a bit to allow looping over noise weights?\n",
    "#first mse r2 for low N?\n",
    "#Most kFold versions look similar. introduce a \"method\" parameter and consolidate\n",
    "#bias also increases with model complexity?\n",
    "\n",
    "#validation set too?\n",
    "#CENTER DATA?\n",
    "#program likes cubic input, fix\n",
    "# Ridge, 0 lambda best?\n",
    "#VARIANCES SAME?!?!?!!?\n",
    "\n",
    "#split in 3, train test to find poly degree, then use thiese betas with validation set to adjust hyperparameters?"
   ]
  },
  {
   "cell_type": "code",
   "execution_count": 2,
   "metadata": {},
   "outputs": [],
   "source": [
    "#import packages\n",
    "import numpy as np\n",
    "import csv\n",
    "from imageio import imread\n",
    "from random import random, seed\n",
    "from sklearn.preprocessing import PolynomialFeatures\n",
    "from sklearn.metrics import mean_squared_error, r2_score\n",
    "from sklearn.model_selection import train_test_split\n",
    "import matplotlib.pyplot as plt\n",
    "import sklearn.linear_model as skl\n",
    "import scipy.linalg as scl\n",
    "from sklearn.model_selection import KFold\n",
    "from mpl_toolkits.mplot3d import Axes3D\n",
    "from matplotlib import cm\n",
    "from matplotlib.ticker import LinearLocator, FormatStrFormatter"
   ]
  },
  {
   "cell_type": "markdown",
   "metadata": {},
   "source": [
    "# Function definitions"
   ]
  },
  {
   "cell_type": "code",
   "execution_count": 3,
   "metadata": {},
   "outputs": [],
   "source": [
    "\"\"\"\n",
    "This is an \"uglified\" version of the FrankeFunction, to minimize use of costly functions like divisions and powers.\n",
    "It takes as input parameters a meshgrid of coordinates in the x and y direction.\n",
    "\"\"\"\n",
    "def FrankeFunction(x,y): #still got one division in here\n",
    "    term1 = 0.75*np.exp(-(0.25*(9*x-2)*(9*x-2)) - 0.25*((9*y-2)*(9*y-2)))\n",
    "    term2 = 0.75*np.exp(-((9*x+1)*(9*x+1))/49.0 - 0.1*(9*y+1))\n",
    "    term3 = 0.5*np.exp(-(9*x-7)*(9*x-7)*0.25 - 0.25*((9*y-3)*(9*y-3)))\n",
    "    term4 = -0.2*np.exp(-(9*x-4)*(9*x-4) - (9*y-7)*(9*y-7))\n",
    "    return term1 + term2 + term3 + term4"
   ]
  },
  {
   "cell_type": "code",
   "execution_count": 4,
   "metadata": {},
   "outputs": [],
   "source": [
    "\"\"\"\n",
    "This function creates the Model Matrix, usually dubbed X, for regression analysis.\n",
    "It takes as input parameters a meshgrid of coordinates in the x and y direction, \n",
    "and the polynomial degree P that you wish to fit.\n",
    "\n",
    "The order of columns is different from the one scikit learn creates, so take care to use the same model-creator when\n",
    "comparing scikit and this code.\n",
    "\n",
    "The ordering this function creates is: x^0y^0, x^1y^0, x^2y^0, x^0y^1, x^1y^1, x^0y^2 for a 2nd order polynomial.\n",
    "\"\"\"\n",
    "def Model(x,y,P): \n",
    "    m = len(x)*len(y) # number of equations\n",
    "    t = sum(range(P+2)) # number of terms in polynomial\n",
    "    X = np.zeros((m,t)) # Model matrix\n",
    "    a = np.matrix.flatten(x)\n",
    "    b = np.matrix.flatten(y)\n",
    "    c = 0 #counter\n",
    "    for i in range(P+1):\n",
    "        for j in range(P+1-i):\n",
    "            X[:,c] = a**j*b**i\n",
    "            c +=1\n",
    "    return X"
   ]
  },
  {
   "cell_type": "code",
   "execution_count": 5,
   "metadata": {},
   "outputs": [],
   "source": [
    "def ols_svd(X: np.ndarray, z: np.ndarray) -> np.ndarray:\n",
    "    u, s, v = scl.svd(X)\n",
    "    return v.T @ scl.pinv(scl.diagsvd(s, u.shape[0], v.shape[0])) @ u.T @ z"
   ]
  },
  {
   "cell_type": "code",
   "execution_count": 6,
   "metadata": {},
   "outputs": [],
   "source": [
    "def Ridge_betas(X,z_n,_lambda):\n",
    "    return np.linalg.inv(X.T.dot(X)+_lambda*np.eye(len(X[0][:]))).dot(X.T).dot(z_n)"
   ]
  },
  {
   "cell_type": "code",
   "execution_count": 7,
   "metadata": {},
   "outputs": [],
   "source": [
    "\"\"\"\n",
    "Just a standard R2 score calculator, taking the measured/real data as the first input, and the values the \n",
    "regression model finds as the second input\n",
    "\"\"\"\n",
    "def R2(y_data, y_model):\n",
    "    return 1 - np.sum((y_data - y_model) ** 2) / np.sum((y_data - np.mean(y_data)) ** 2)"
   ]
  },
  {
   "cell_type": "code",
   "execution_count": 8,
   "metadata": {},
   "outputs": [],
   "source": [
    "\"\"\"\n",
    "Standard mean squared error calculator, inputs are measured/real data and regression model values.\n",
    "\"\"\"\n",
    "def MSE(y_data,y_model):\n",
    "    n = np.size(y_model)\n",
    "    return np.sum((y_data-y_model)**2)/n"
   ]
  },
  {
   "cell_type": "code",
   "execution_count": 9,
   "metadata": {},
   "outputs": [],
   "source": [
    "def VarOLS_betas(X, sigma):\n",
    "    covar = np.linalg.inv(X.T.dot(X))\n",
    "    vari = np.diagonal(covar)\n",
    "    return vari*(sigma**2)"
   ]
  },
  {
   "cell_type": "code",
   "execution_count": 10,
   "metadata": {},
   "outputs": [],
   "source": [
    "def VarRidge_betas(X,_lambda,sigma):\n",
    "    XX = X.T@X\n",
    "    invers = np.linalg.inv(XX+_lambda*np.eye(len(XX)))\n",
    "    return np.diagonal(invers)*(sigma**2)"
   ]
  },
  {
   "cell_type": "code",
   "execution_count": 11,
   "metadata": {},
   "outputs": [],
   "source": [
    "def NoResampling(X,z_n,_lambda,method='ols'):\n",
    "    if method =='ols':\n",
    "        beta = np.linalg.inv(X.T.dot(X)+_lambda*np.eye(len(X[0][:]))).dot(X.T).dot(z_n)\n",
    "    elif method == 'svd':\n",
    "        beta = ols_svd(X,z_n)\n",
    "    else:\n",
    "        print(\"No method selected, defaulting to OLS\")\n",
    "        beta = np.linalg.inv(X.T.dot(X)+_lambda*np.eye(len(X[0][:]))).dot(X.T).dot(z_n)\n",
    "    ztilde = X @ beta\n",
    "    return MSE(z_n,ztilde), R2(z_n,ztilde), beta, VarOLS_betas(X,0.1)#,ztilde"
   ]
  },
  {
   "cell_type": "code",
   "execution_count": 12,
   "metadata": {},
   "outputs": [],
   "source": [
    "def Bias(y_data, y_model):\n",
    "    n = np.size(y_data)\n",
    "    return np.sum((y_data-np.mean(y_model))**2)/n"
   ]
  },
  {
   "cell_type": "code",
   "execution_count": 13,
   "metadata": {},
   "outputs": [],
   "source": [
    "def Shuffler(X,z_n):\n",
    "    np.random.seed(1234)\n",
    "    n = len(X[0,:])\n",
    "    combi = np.c_[X,z_n] #combine\n",
    "    np.random.shuffle(combi) #shuffle\n",
    "    X, z_n = combi[:,:n], combi[:,n] #split\n",
    "    return X, z_n"
   ]
  },
  {
   "cell_type": "code",
   "execution_count": 14,
   "metadata": {},
   "outputs": [],
   "source": [
    "X = np.zeros((9,9))\n",
    "for i in range(9):\n",
    "    X[i,:]=i+1\n",
    "X = X+0.1*np.eye(9)\n",
    "z = np.arange(1,10)\n",
    "# kFold(X,z,3,0.)\n",
    "# for i in range(5):\n",
    "#     np.random.random\n",
    "#     Xy,zy=Shuffler(X,z)\n",
    "# print(Xy)\n",
    "# print(zy)"
   ]
  },
  {
   "cell_type": "code",
   "execution_count": 15,
   "metadata": {},
   "outputs": [],
   "source": [
    "def kSplitter(X,z,k):\n",
    "    k = int(np.math.ceil((1./k)*len(X)))\n",
    "    n,m = np.shape(X)\n",
    "    ind = np.arange(0,n,k)\n",
    "    for i in ind:\n",
    "        X_test, z_test = X[i:(i+k),:],z[i:(i+k)]\n",
    "        if i ==0:\n",
    "            X_train,z_train = X[i+k:,:],z[i+k:]\n",
    "        elif i ==(n-k):\n",
    "            X_train,z_train = X[:i,:],z[:i]\n",
    "        else:\n",
    "            X_train = np.vstack([X[:i,:],X[i+k:,:]])\n",
    "            z_train = np.hstack([z[:i],z[i+k:]])\n",
    "        yield X_train, X_test, z_train, z_test"
   ]
  },
  {
   "cell_type": "code",
   "execution_count": 16,
   "metadata": {},
   "outputs": [],
   "source": [
    "def kFolds(X,z_n,k):\n",
    "    #shuffle data before doing the kFold\n",
    "    X_s,z_n_s = Shuffler(X,z_n)\n",
    "\n",
    "    #initialize values\n",
    "    sMSE = 0. #sum mean squared error\n",
    "    sVar = 0.\n",
    "    sBias = 0.\n",
    "    sR2 = 0.\n",
    "    trainr2 = 0.\n",
    "    trainmse = 0.\n",
    "    betas = []\n",
    "    tilds = []\n",
    "    testz=[]\n",
    "    c = 0\n",
    "    for X_train, X_test, z_train, z_test in kSplitter(X_s,z_n_s,k):\n",
    "        # find parameters\n",
    "        betas.append(ols_svd(X_train,z_train))\n",
    "        \n",
    "        # make prediction\n",
    "        z_tilde =X_test @ betas[c][:]\n",
    "        z_train_calc = X_train @ betas[c][:]\n",
    "        c+=1\n",
    "        tilds.append(z_tilde)\n",
    "        testz.append(z_test)\n",
    "        #store data per fold\n",
    "        trainr2 += R2(z_train,z_train_calc)\n",
    "        trainmse += MSE(z_train,z_train_calc)\n",
    "        sR2 += R2(z_test,z_tilde)\n",
    "        sMSE += np.mean((z_test - z_tilde)**2)\n",
    "        sVar +=  np.mean((z_tilde-np.mean(z_tilde))**2)\n",
    "        sBias += np.mean((z_test-np.mean(z_tilde))**2)\n",
    "\n",
    "    return sMSE/k, sBias/k,sVar/k,np.hstack(tilds),np.hstack(testz),np.mean(betas,axis=0),sR2/k, trainmse/k,trainr2/k"
   ]
  },
  {
   "cell_type": "code",
   "execution_count": 17,
   "metadata": {},
   "outputs": [],
   "source": [
    "def kFold(X,z,k,_lambda):\n",
    "    #shuffle data\n",
    "    X_s,z_s = Shuffler(X,z)\n",
    "\n",
    "    #create splits\n",
    "    X_k = np.array_split(X_s, k)\n",
    "    z_k = np.array_split(z_s, k)\n",
    "\n",
    "    #initiate variables\n",
    "    MSE_test = []\n",
    "    Variance_test = []\n",
    "    bis = []\n",
    "    R2_test = []\n",
    "    c=0\n",
    "    #perform kfold CV\n",
    "    varb =[]\n",
    "    tilder=[]\n",
    "    bep=[]\n",
    "    tester = []\n",
    "#     mse_tra = []\n",
    "\n",
    "\n",
    "\n",
    "    sMSE = 0.\n",
    "    sBias = 0.\n",
    "    sVar =0.\n",
    "    \n",
    "    for i in range(k):\n",
    "\n",
    "        X_train = X_k\n",
    "        z_train = np.array(z_k)\n",
    "\n",
    "        X_test = X_k[i]\n",
    "        X_train = np.delete(X_train, i , 0)\n",
    "        X_train = np.concatenate(X_train)\n",
    "        z_test = z_k[i]\n",
    "        z_train = np.delete(z_train, i , 0)\n",
    "        z_train = np.hstack(z_train)#np.ravel(z_train)\n",
    "\n",
    "        beta = Ridge_betas(X_train,z_train,0.)\n",
    "#         beta = ols_svd(X_train,z_train)\n",
    "        z_predict = X_test.dot(beta)\n",
    "        z_tilde = z_predict\n",
    "# #     \n",
    "#         z_blah = X_train.dot(beta)\n",
    "#         if c ==0:\n",
    "#             print(MSE(z_test,z_predict))\n",
    "        c +=1\n",
    "#         clf = skl.LinearRegression(fit_intercept=False) #False to not center data, i.e. intercept is not 0\n",
    "#         clf.fit(X_train,z_train) \n",
    "\n",
    "        sMSE+= np.mean((z_test - z_tilde)**2)\n",
    "        sVar +=np.var(z_tilde)\n",
    "        sBias += np.mean(z_tilde)\n",
    "\n",
    "        #make prediction\n",
    "#         z_predict = clf.predict(X_test)\n",
    "        \n",
    "#         mse_tra.append(MSE(z_blah,z_train))\n",
    "#         print(MSE(z_blah,z_train))\n",
    "        tilder = np.hstack((tilder,z_predict))\n",
    "#         tester = np.hstack((tester,z_test))\n",
    "        R2_test.append(R2(z_test,z_predict))\n",
    "        varb.append(VarOLS_betas(X,0.1))\n",
    "        bep.append(beta)\n",
    "        MSE_test = np.append(MSE_test, MSE(z_test, z_predict))\n",
    "        Variance_test = np.append(Variance_test,np.var(z_predict)) \n",
    "        bis = np.append(bis,Bias(z_test,z_predict))\n",
    "    bis = np.mean(z_n_s - np.mean(sBias))\n",
    "    Variance_test = np.mean((z_n_s-np.mean(tilder))**2)\n",
    "#         print(np.shape(X_train))\n",
    "#     for i in range(len(z_predict)):\n",
    "#         print(z_predict[i]-z_test[i])\n",
    "#     print(np.mean(z_predict-z_test))''''''\n",
    "\n",
    "\n",
    "#     smeen = np.mean(z_n - sMean/k)\n",
    "#     mugg = np.mean(tilder)\n",
    "#     hum = np.mean((z_n-mugg)**2)\n",
    "# \n",
    "#     print(beta)\n",
    "#     print(MSE(tilder,tester))\n",
    "#     print(np.mean(mse_tra))\n",
    "#     print(\"----------\")\n",
    "#     return MSE_test, Variance_test,bis,varb,bep,R2_test\n",
    "    return sMSE/k,Variance_test,bis,varb,bep,R2_test"
   ]
  },
  {
   "cell_type": "code",
   "execution_count": 18,
   "metadata": {},
   "outputs": [],
   "source": [
    "def kFoldskl(X,z,k,_lambda):\n",
    "    #shuffle data before doing the kFold\n",
    "#     X, z_n = Shuffler(X,z)\n",
    "\n",
    "    #initiate variables\n",
    "    MSE_test = []\n",
    "    Variance_test = []\n",
    "    bis = []\n",
    "    R2_test =[]\n",
    "    kfold = KFold(n_splits=k,shuffle=False) \n",
    "\n",
    "    for train,test in kfold.split(X):\n",
    "        # find parameters\n",
    "        X_train, X_test = X[train],X[test]\n",
    "        z_train,z_test = z_n[train],z_n[test]\n",
    "        clf = skl.LinearRegression(fit_intercept=False) #False to not center data, i.e. intercept is not 0\n",
    "        clf.fit(X_train,z_train) \n",
    "        beta = clf.coef_\n",
    "#         z_predict = X_test@beta\n",
    "        #make prediction\n",
    "        z_predict = clf.predict(X_test)\n",
    "        MSE_test = np.append(MSE_test, MSE(z_test, z_predict))\n",
    "        R2_test.append(R2(z_test,z_predict))\n",
    "        Variance_test = np.append(Variance_test,np.var(z_predict)) \n",
    "        bis = np.append(bis,Bias(z_test,z_predict))\n",
    "#     print(beta)\n",
    "    return MSE_test, Variance_test,bis,R2_test"
   ]
  },
  {
   "cell_type": "code",
   "execution_count": 54,
   "metadata": {},
   "outputs": [],
   "source": [
    "def kFoldsRidge(X,z_n,k,_lambda):\n",
    "    #shuffle data before doing the kFold\n",
    "    X_s,z_n_s = Shuffler(X,z_n)\n",
    "\n",
    "    #initialize values\n",
    "    sMSE = 0. #sum mean squared error\n",
    "    sVar = 0.\n",
    "    sBias = 0.\n",
    "    sR2 =0.\n",
    "    sMSE_tr=0.\n",
    "    sR2_tr=0.\n",
    "    \n",
    "    betas = []\n",
    "    tilds = []\n",
    "    testz=[]\n",
    "    tilds_tr = []\n",
    "    testz_tr=[]\n",
    "    c = 0\n",
    "    for X_train, X_test, z_train, z_test in kSplitter(X_s,z_n_s,k):\n",
    "        # find parameters\n",
    "#         betas.append(ols_svd(X_train,z_train))\n",
    "        betas.append(Ridge_betas(X_train,z_train,_lambda))\n",
    "        # make prediction\n",
    "        z_tilde =X_test @ betas[c][:]\n",
    "        z_tilde_train = X_train@betas[c][:]\n",
    "        c+=1\n",
    "        tilds.append(z_tilde)\n",
    "        testz.append(z_test)\n",
    "        tilds_tr.append(z_tilde_train)\n",
    "        testz_tr.append(z_train)\n",
    "        #store data per fold\n",
    "        sMSE += np.mean((z_test - z_tilde)**2)\n",
    "        sVar +=  np.mean((z_tilde-np.mean(z_tilde))**2)\n",
    "        sBias += np.mean((z_test-np.mean(z_tilde))**2)\n",
    "        sR2 += R2(z_test,z_tilde)\n",
    "        sMSE_tr += np.mean((z_train - z_tilde_train)**2)\n",
    "        sR2_tr += R2(z_train,z_tilde_train)\n",
    "\n",
    "    return sMSE/k, sBias/k,sVar/k,np.hstack(tilds),np.hstack(testz),np.mean(betas,axis=0),sR2/k,sMSE_tr/k,sR2_tr/k"
   ]
  },
  {
   "cell_type": "code",
   "execution_count": 55,
   "metadata": {},
   "outputs": [
    {
     "ename": "IndentationError",
     "evalue": "unexpected indent (<ipython-input-55-15a623f6066e>, line 3)",
     "output_type": "error",
     "traceback": [
      "\u001b[0;36m  File \u001b[0;32m\"<ipython-input-55-15a623f6066e>\"\u001b[0;36m, line \u001b[0;32m3\u001b[0m\n\u001b[0;31m    n = len(X[0,:])\u001b[0m\n\u001b[0m    ^\u001b[0m\n\u001b[0;31mIndentationError\u001b[0m\u001b[0;31m:\u001b[0m unexpected indent\n"
     ]
    }
   ],
   "source": [
    "#def kFoldRidge(X,z_n,k,_lambda):\n",
    "    #shuffle data before doing the kFold\n",
    "    n = len(X[0,:])\n",
    "\n",
    "    #initialize values\n",
    "    sMSE = 0. #sum mean squared error\n",
    "    sR2 = 0. #sum R2 score\n",
    "    betas =[]\n",
    "    c=0\n",
    "    tilder = []\n",
    "    for X_train, X_test, z_train, z_test in kSplitter(X,z_n,k):\n",
    "        #center data for ridge\n",
    "        X_train = np.delete(X_train-np.mean(X_train,axis=0),0,1)\n",
    "        X_test = np.delete(X_test-np.mean(X_test,axis=0),0,1)\n",
    "        z_train = z_train -np.mean(z_train)\n",
    "        z_test = z_test-np.mean(z_test)\n",
    "        \n",
    "        \n",
    "        # find parameters\n",
    "        betas.append(np.linalg.inv(X_train.T.dot(X_train)+_lambda*np.eye(n-1)).dot(X_train.T).dot(z_train))\n",
    "        \n",
    "        # make prediction\n",
    "        z_tilde = X_test @ betas[c][:]\n",
    "        c+=1\n",
    "        tilder = np.hstack((tilder,z_tilde))\n",
    "\n",
    "        sMSE += MSE(z_tilde,z_test)\n",
    "        sR2 += R2(z_test,z_tilde)\n",
    "    \n",
    "    return sMSE/k,sR2/k,np.mean(betas,axis=0),tilder#,VAR SOMEHOW"
   ]
  },
  {
   "cell_type": "code",
   "execution_count": 113,
   "metadata": {},
   "outputs": [],
   "source": [
    "def kFoldLassoCV(X,z_n,k,_lambda):\n",
    "#     _lambda = [_lambda]\n",
    "    #How to select good tolerances and max iters?\n",
    "#     reg = skl.LassoCV(cv=k).fit(X,z_n)\n",
    "    reg = skl.LassoCV(alphas=_lambda,cv = k, random_state = 0,tol=0.0001,max_iter = 1000000000).fit(X,z_n)\n",
    "    r2 = reg.score(X,)\n",
    "    ztilde = reg.predict(X)\n",
    "#     ztilde_tr = reg.predict(X)\n",
    "#     plt.figure()\n",
    "#     plt.semilogx(reg.alphas_,reg.mse_path_)\n",
    "#     plt.semilogx(reg.alphas_,reg.mse_path_.mean(axis=-1),'k')\n",
    "#     plt.xlabel('Log-plot of lambdas')\n",
    "#     plt.ylabel('Mean squared error')\n",
    "#     plt.show()\n",
    "  \n",
    "    return np.mean(reg.mse_path_), r2_score(z_n,ztilde), reg.coef_#, ,r2_score(z_n,)"
   ]
  },
  {
   "cell_type": "code",
   "execution_count": 142,
   "metadata": {},
   "outputs": [
    {
     "ename": "NameError",
     "evalue": "name 'reg' is not defined",
     "output_type": "error",
     "traceback": [
      "\u001b[0;31m---------------------------------------------------------------------------\u001b[0m",
      "\u001b[0;31mNameError\u001b[0m                                 Traceback (most recent call last)",
      "\u001b[0;32m<ipython-input-142-3aa36e93d1bf>\u001b[0m in \u001b[0;36m<module>\u001b[0;34m\u001b[0m\n\u001b[0;32m----> 1\u001b[0;31m \u001b[0mr2\u001b[0m\u001b[0;34m=\u001b[0m\u001b[0mreg\u001b[0m\u001b[0;34m.\u001b[0m\u001b[0mscore\u001b[0m\u001b[0;34m(\u001b[0m\u001b[0mX\u001b[0m\u001b[0;34m,\u001b[0m\u001b[0my\u001b[0m\u001b[0;34m)\u001b[0m\u001b[0;34m\u001b[0m\u001b[0;34m\u001b[0m\u001b[0m\n\u001b[0m",
      "\u001b[0;31mNameError\u001b[0m: name 'reg' is not defined"
     ]
    }
   ],
   "source": [
    "r2=reg.score(X,y)"
   ]
  },
  {
   "cell_type": "code",
   "execution_count": 105,
   "metadata": {},
   "outputs": [],
   "source": [
    "def kFoldLasso(X,z_n,k,_lambda):\n",
    "    # this converges slowly for small lambda!\n",
    "    \n",
    "    #shuffle data before doing the kFold\n",
    "#     n = len(X[0,:])\n",
    "#     X,z_n = Shuffler(X,z_n)\n",
    "\n",
    "\n",
    "    #initialize values\n",
    "    sMSE = 0. #sum mean squared error\n",
    "    sR2 = 0. #sum R2 score\n",
    "    betas = []\n",
    "    sMSEtr = 0.\n",
    "    sR2tr=0.\n",
    "    for X_train, X_test, z_train, z_test in kSplitter(X,z_n,k):\n",
    "        # find parameters\n",
    "        lass = skl.Lasso(alpha=_lambda,tol = 0.001,max_iter=1000000,normalize=True)\n",
    "        lass.fit(X_train,z_train)\n",
    "    \n",
    "        #make prediction\n",
    "        z_tilde = lass.predict(X_test)\n",
    "        z_tilde_tr = lass.predict(X_train)\n",
    "        betas.append(lass.coef_)\n",
    "        \n",
    "        sMSE+= MSE(z_tilde,z_test)\n",
    "        sR2 += R2(z_test,z_tilde)\n",
    "        sMSEtr+= MSE(z_tilde_tr,z_train)\n",
    "        sR2tr += R2(z_train,z_tilde_tr)\n",
    "#         print(np.shape(z_train))\n",
    "#         print((sMSE),(sMSEtr),(sR2),(sR2tr))\n",
    "    return sMSE/k,sR2/k,np.mean(betas,axis=0),sMSEtr/k,sR2tr/k"
   ]
  },
  {
   "cell_type": "markdown",
   "metadata": {},
   "source": [
    "# Initiate variables!"
   ]
  },
  {
   "cell_type": "code",
   "execution_count": 26,
   "metadata": {
    "scrolled": false
   },
   "outputs": [],
   "source": [
    "#Create random variables/predictors\n",
    "np.random.seed(1234)\n",
    "N = 10 #number of points along x and y axes\n",
    "\n",
    "# sort this for meshgrid\n",
    "x = np.sort(np.random.uniform(0,1,N))\n",
    "y = np.sort(np.random.uniform(0,1,N))\n",
    "\n",
    "x, y = np.meshgrid(x,y,sparse=False)\n",
    "#create datapoints/results\n",
    "z = FrankeFunction(x, y)\n",
    "\n",
    "# Create noise\n",
    "noise_weight = 0. #might wanna make a function for this to loop over weights?\n",
    "Noise = noise_weight*np.random.randn(N,N)\n",
    "\n",
    "#add noise\n",
    "z_noise = z+Noise\n",
    "\n",
    "#flatten for use in functions\n",
    "z_n = np.matrix.flatten(z_noise) ##### RAVEL?\n",
    "\n",
    "#number of folds for crossvalidation\n",
    "k=5\n",
    "\n",
    "X = Model(x,y,5)\n",
    "splits=5\n",
    "# kFoldskl(X,z_n,5,0.)\n",
    "# kFold(X,z_n,5,0.)\n",
    "# for i in range(10):\n",
    "#     aii,bii,zii,kii,lii,fii = kFold(X,z_n,5,0.)\n",
    "# #     au,bu,zu = kFoldskl(X,z_n,5,0.)\n",
    "#     print(np.mean(aii),np.mean(bii)+np.mean(zii))#,np.var(kFold(5,X,z_n)[4]))\n",
    "#     print(np.mean(au),np.mean(bu)+np.mean(zu))#,np.var(kFold(5,X,z_n)[4]))\n",
    "\n",
    "\n",
    "# The problem with scikit learn was again how it splits data.."
   ]
  },
  {
   "cell_type": "markdown",
   "metadata": {},
   "source": [
    "# Do stuff with the code!"
   ]
  },
  {
   "cell_type": "markdown",
   "metadata": {},
   "source": [
    "# a"
   ]
  },
  {
   "cell_type": "markdown",
   "metadata": {},
   "source": [
    "### Beta values and CI"
   ]
  },
  {
   "cell_type": "code",
   "execution_count": 27,
   "metadata": {
    "scrolled": false
   },
   "outputs": [
    {
     "ename": "IndentationError",
     "evalue": "unexpected indent (<ipython-input-27-ae1b6db42f91>, line 5)",
     "output_type": "error",
     "traceback": [
      "\u001b[0;36m  File \u001b[0;32m\"<ipython-input-27-ae1b6db42f91>\"\u001b[0;36m, line \u001b[0;32m5\u001b[0m\n\u001b[0;31m    X = Model(x,y,i)\u001b[0m\n\u001b[0m    ^\u001b[0m\n\u001b[0;31mIndentationError\u001b[0m\u001b[0;31m:\u001b[0m unexpected indent\n"
     ]
    }
   ],
   "source": [
    "poly_degrees=np.arange(1,6)\n",
    "\n",
    "print(\"No Resampling\")\n",
    "# for i in poly_degrees:\n",
    "    X = Model(x,y,i)\n",
    "    print(\"---------------\")\n",
    "    print(\"\\\\begin{table}[]\")\n",
    "    print(\"\\\\centering\")\n",
    "    print(\"\\\\caption{{OLS method, polynomial degree {}}}\".format(i))\n",
    "    print(\"\\\\begin{tabular}{|c|cc|l|}\")\n",
    "    print(\"\\\\hline\")\n",
    "    print(\"\\\\multicolumn{1}{|l|}{\\\\multirow{2}{*}{Coefficient}} & \\\\multicolumn{2}{l|}{Confidence interval = $\\\\beta_{mean}$ $\\\\pm$ 2*$\\\\sigma_{mean}$} \\\\\\\\\")\n",
    "    print(\"\\\\multicolumn{1}{|l|}{}  & $\\\\beta_{mean}$                        & $\\\\sigma_{mean}$                       &                                     \\\\\\\\ \\hline\")   \n",
    "    b_OLS =NoResampling(X,z_n,0.1,'svd')[2]\n",
    "    z_OLS =NoResampling(X,z_n,0.1,'svd')[3]\n",
    "    LatexPrinter(b_OLS,z_OLS)\n",
    "    print(\"\\\\end{tabular}\")\n",
    "    print(\"\\\\label{{tab:no.{}}}\".format(i))\n",
    "    print(\"\\\\end{table}\")"
   ]
  },
  {
   "cell_type": "markdown",
   "metadata": {},
   "source": [
    "### Evaluating MSE"
   ]
  },
  {
   "cell_type": "code",
   "execution_count": 28,
   "metadata": {},
   "outputs": [
    {
     "data": {
      "image/png": "[encoded data removed]",
      "text/plain": [
       "<Figure size 432x288 with 1 Axes>"
      ]
     },
     "metadata": {
      "needs_background": "light"
     },
     "output_type": "display_data"
    }
   ],
   "source": [
    "ols_mse = []\n",
    "ols_svds = []\n",
    "\n",
    "poly_degrees = np.arange(1,10)\n",
    "for i in poly_degrees:\n",
    "    X = Model(x,y,i)\n",
    "    ols_mse.append(NoResampling(X,z_n,0.,'ols')[0])\n",
    "    ols_svds.append(NoResampling(X,z_n,0.,'svd')[0])\n",
    "plt.figure()\n",
    "# plt.plot(poly_degrees,ols_mse,'r',label='OLS')\n",
    "plt.plot(poly_degrees,ols_svds,'b',label='SVD')\n",
    "plt.xlabel(\"Polynomial degree\")\n",
    "plt.ylabel(\"Mean Squared Error\")\n",
    "plt.legend()\n",
    "plt.title(\"MSE for OLS, no resampling\")\n",
    "plt.show()"
   ]
  },
  {
   "cell_type": "markdown",
   "metadata": {},
   "source": [
    "### Evaluating R2"
   ]
  },
  {
   "cell_type": "code",
   "execution_count": 29,
   "metadata": {},
   "outputs": [
    {
     "data": {
      "image/png": "[encoded data removed]",
      "text/plain": [
       "<Figure size 432x288 with 1 Axes>"
      ]
     },
     "metadata": {
      "needs_background": "light"
     },
     "output_type": "display_data"
    }
   ],
   "source": [
    "ols_r2 = []\n",
    "svd_r2 = []\n",
    "for i in poly_degrees:\n",
    "    X = Model(x,y,i)\n",
    "    ols_r2.append(NoResampling(X,z_n,0.,'ols')[1])\n",
    "    svd_r2.append(NoResampling(X,z_n,0.,'svd')[1])\n",
    "plt.figure()\n",
    "# plt.plot(poly_degrees,ols_r2,'r',label='OLS')\n",
    "plt.plot(poly_degrees,svd_r2,'b',label='SVD')\n",
    "\n",
    "plt.xlabel(\"Polynomial degree\")\n",
    "plt.ylabel(\"R2 score\")\n",
    "plt.legend()\n",
    "plt.title(\"R2 for OLS, no resampling\")\n",
    "plt.show()"
   ]
  },
  {
   "cell_type": "markdown",
   "metadata": {},
   "source": [
    "# b"
   ]
  },
  {
   "cell_type": "markdown",
   "metadata": {},
   "source": [
    "### Beta values and CI with resampling"
   ]
  },
  {
   "cell_type": "code",
   "execution_count": 30,
   "metadata": {
    "scrolled": false
   },
   "outputs": [
    {
     "ename": "IndentationError",
     "evalue": "unexpected indent (<ipython-input-30-5fc66a19ea6f>, line 5)",
     "output_type": "error",
     "traceback": [
      "\u001b[0;36m  File \u001b[0;32m\"<ipython-input-30-5fc66a19ea6f>\"\u001b[0;36m, line \u001b[0;32m5\u001b[0m\n\u001b[0;31m    X = Model(x,y,i)\u001b[0m\n\u001b[0m    ^\u001b[0m\n\u001b[0;31mIndentationError\u001b[0m\u001b[0;31m:\u001b[0m unexpected indent\n"
     ]
    }
   ],
   "source": [
    "poly_degrees=np.arange(1,6)\n",
    "\n",
    "print(\"kFold resampling with k = \", k)\n",
    "# for i in poly_degrees:\n",
    "    X = Model(x,y,i)\n",
    "    print(\"---------------\")\n",
    "    print(\"\\\\begin{table}[]\")\n",
    "    print(\"\\\\centering\")\n",
    "    print(\"\\\\caption{{OLS method, polynomial degree {}}}\".format(i))\n",
    "    print(\"\\\\begin{tabular}{|c|cc|l|}\")\n",
    "    print(\"\\\\hline\")\n",
    "    print(\"\\\\multicolumn{1}{|l|}{\\\\multirow{2}{*}{Coefficient}} & \\\\multicolumn{2}{l|}{Confidence interval = $\\\\beta_{mean}$ $\\\\pm$ 2*$\\\\sigma_{mean}$} & \\\\multirow{2}{*}{$\\\\beta_{variance}$} \\\\\\\\\")\n",
    "    print(\"\\\\multicolumn{1}{|l|}{}  & $\\\\beta_{mean}$                        & $\\\\sigma_{mean}$                       &                                     \\\\\\\\ \\hline\")   \n",
    "    b_OLS =np.mean(kFold(X,z_n,k,0.)[4],axis=0)\n",
    "    z_OLS =np.mean(kFold(X,z_n,k,0.)[3],axis=0)\n",
    "    LatexPrinter(b_OLS,z_OLS)\n",
    "    print(\"\\\\end{tabular}\")\n",
    "    print(\"\\\\label{{tab:no.{}}}\".format(i))\n",
    "    print(\"\\\\end{table}\")"
   ]
  },
  {
   "cell_type": "markdown",
   "metadata": {},
   "source": [
    "### Evaluating MSE"
   ]
  },
  {
   "cell_type": "code",
   "execution_count": 33,
   "metadata": {
    "scrolled": false
   },
   "outputs": [
    {
     "name": "stdout",
     "output_type": "stream",
     "text": [
      "0.002141176515856933\n",
      "0.9592806636243864\n",
      "0.000584705263513425\n",
      "0.9888576175759267\n"
     ]
    },
    {
     "data": {
      "image/png": "[encoded data removed]",
      "text/plain": [
       "<Figure size 432x288 with 1 Axes>"
      ]
     },
     "metadata": {
      "needs_background": "light"
     },
     "output_type": "display_data"
    },
    {
     "data": {
      "image/png": "[encoded data removed]",
      "text/plain": [
       "<Figure size 432x288 with 1 Axes>"
      ]
     },
     "metadata": {
      "needs_background": "light"
     },
     "output_type": "display_data"
    }
   ],
   "source": [
    "ols_k_mse = []\n",
    "ols_k_bias = []\n",
    "ols_k_var = []\n",
    "ols_k_r2 = []\n",
    "ols_k_r2_tr = []\n",
    "ols_k_mse_tr = []\n",
    "_lambda = 0.\n",
    "poly_degrees = np.arange(1,9)\n",
    "for i in poly_degrees:\n",
    "    X = Model(x,y,i)\n",
    "    X_s = X\n",
    "    z_n_s = z_n\n",
    "    X_s,z_n_s = Shuffler(X_s,z_n_s)\n",
    "    \n",
    "    mii,bii,vii,til,tes,bet,rr2,msetr, r2tr = kFolds(X_s,z_n_s,10)\n",
    "#     ols_k_mse.append(MSE(til,tes))\n",
    "    ols_k_mse.append(mii)\n",
    "    ols_k_mse_tr.append(msetr)\n",
    "    ols_k_r2_tr.append(r2tr)\n",
    "    ols_k_var.append(np.var(til))\n",
    "    ols_k_bias.append(Bias(tes,til))\n",
    "    ols_k_r2.append(R2(tes,til))\n",
    "print(ols_k_mse[4])\n",
    "print(ols_k_r2[4])\n",
    "print(ols_k_mse_tr[4])\n",
    "print(ols_k_r2_tr[4])\n",
    "\n",
    "plt.figure()\n",
    "plt.plot(poly_degrees,ols_k_mse,'r',label='MSE')\n",
    "plt.plot(poly_degrees,ols_k_bias,'b',label='Bias^2')\n",
    "plt.plot(poly_degrees,ols_k_var,'y',label='Var')\n",
    "plt.xlabel(\"Polynomial degree\")\n",
    "plt.ylabel(\"Mean Squared Error\")\n",
    "plt.legend()\n",
    "plt.title(\"MSE for OLS, kFold resampling. Method 1\")\n",
    "plt.show()\n",
    "\n",
    "\n",
    "jols_k_mse = []\n",
    "jols_k_bias = []\n",
    "jols_k_var = []\n",
    "for i in poly_degrees:\n",
    "    X = Model(x,y,i)\n",
    "    X_s = X\n",
    "    z_n_s = z_n\n",
    "    X_s,z_n_s = Shuffler(X_s,z_n_s)\n",
    "\n",
    "    mii,bii,vii,til,tes,bet = kFold(X_s,z_n_s,10,0.)\n",
    "    jols_k_mse.append(np.mean(mii))\n",
    "    jols_k_var.append(np.mean(vii))\n",
    "    jols_k_bias.append(np.mean(bii))\n",
    "    \n",
    "plt.figure()\n",
    "plt.plot(poly_degrees,jols_k_mse,'r',label='MSE')\n",
    "# plt.plot(poly_degrees,jols_k_bias,'b',label='Bias^2')\n",
    "# plt.plot(poly_degrees,jols_k_var,'y',label='Var')\n",
    "plt.xlabel(\"Polynomial degree\")\n",
    "plt.ylabel(\"Mean Squared Error\")\n",
    "plt.legend()\n",
    "plt.title(\"MSE for OLS, kFold resampling. Method 2\")\n",
    "plt.show()\n",
    "\n",
    "\n",
    "\n",
    "# ols_k_mse = []\n",
    "# ols_k_bias = []\n",
    "# ols_k_var = []\n",
    "# for i in poly_degrees:\n",
    "#     X = Model(x,y,i)\n",
    "#     X_s = X\n",
    "#     z_n_s = z_n\n",
    "#     X_s,z_n_s = Shuffler(X_s,z_n_s)\n",
    "    \n",
    "#     mii,bii,vii,til,tes,bet,kkk,lll,ooo = kFolds(X_s,z_n_s,10)\n",
    "#     z_tilders = X_s@bet\n",
    "#     ols_k_mse.append(MSE(z_tilders,z_n_s))\n",
    "#     ols_k_var.append(np.var(z_tilders))\n",
    "#     ols_k_bias.append(Bias(z_n_s,z_tilders))\n",
    "\n",
    "# plt.figure()\n",
    "# plt.plot(poly_degrees,ols_k_mse,'r')\n",
    "# plt.plot(poly_degrees,ols_k_bias,'b')\n",
    "# plt.plot(poly_degrees,ols_k_var,'y')\n",
    "# plt.xlabel(\"Polynomial degree\")\n",
    "# plt.ylabel(\"Mean Squared Error\")\n",
    "# plt.title(\"MSE for OLS, kFold resampling\")\n",
    "# plt.show()"
   ]
  },
  {
   "cell_type": "code",
   "execution_count": 67,
   "metadata": {},
   "outputs": [
    {
     "data": {
      "image/png": "[encoded data removed]",
      "text/plain": [
       "<Figure size 432x288 with 1 Axes>"
      ]
     },
     "metadata": {
      "needs_background": "light"
     },
     "output_type": "display_data"
    },
    {
     "name": "stdout",
     "output_type": "stream",
     "text": [
      "mse_test: 0.0011889,R2_test: 0.9778371,MSE_tr: 0.0002058,R2_tr: 0.9960936 for lambda: 5.62341325190349e-07 \n"
     ]
    }
   ],
   "source": [
    "# RIDGE!!!!!!!!!\n",
    "# ols_k_mse = []\n",
    "# ols_k_bias = []\n",
    "# ols_k_var = []\n",
    "# ols_k_r2 = []\n",
    "# ols_k_r2_tr = []\n",
    "# ols_k_mse_tr = []\n",
    "_lambda = np.logspace(-10,-5,5)\n",
    "poly_degrees=np.arange(1,20)\n",
    "ols_k_mse_r = np.zeros((len(_lambda),len(poly_degrees)))\n",
    "ols_k_bias_r = np.zeros((len(_lambda),len(poly_degrees)))\n",
    "ols_k_var_r = np.zeros((len(_lambda),len(poly_degrees)))\n",
    "ols_k_r2_r = np.zeros((len(_lambda),len(poly_degrees)))\n",
    "ols_k_r2_r_tr = np.zeros((len(_lambda),len(poly_degrees)))\n",
    "ols_k_mse_r_tr = np.zeros((len(_lambda),len(poly_degrees)))\n",
    "\n",
    "# poly_degrees = np.arange(1,9)\n",
    "c=0\n",
    "for i in poly_degrees:\n",
    "    X = Model(x,y,i)\n",
    "    X_s = X\n",
    "    z_n_s = z_n\n",
    "    X_s,z_n_s = Shuffler(X_s,z_n_s)\n",
    "\n",
    "    for j,l in enumerate(_lambda):\n",
    "        mii,bii,vii,til,tes,bet,r2s,mstr,r2tr = kFoldsRidge(X_s,z_n_s,k,l)\n",
    "#         print(i,l,mii)\n",
    "        ols_k_mse_r[j,i-1] = mii\n",
    "        ols_k_bias_r[j,i-1] = bii\n",
    "        ols_k_var_r[j,i-1] = vii\n",
    "        ols_k_r2_r[j,i-1] = r2s\n",
    "        ols_k_mse_r_tr[j,i-1] = mstr\n",
    "        ols_k_r2_r_tr[j,i-1] = r2tr\n",
    "\n",
    "#         ols_k_mse.append(np.mean(mii))\n",
    "#         ols_k_var.append(np.mean(bii))\n",
    "#         ols_k_bias.append(np.mean(vii))\n",
    "# print(pls_k_mse_r)\n",
    "plt.figure()\n",
    "for i in range(len(_lambda)):\n",
    "    plt.plot(poly_degrees,ols_k_mse_r[i,:],label=('lambda :',_lambda[i]))\n",
    "#     plt.plot(poly_degrees,ols_k_bias_r[i,:],'b',label='Bias^2')\n",
    "#     plt.plot(poly_degrees,ols_k_var_r[i,:],'y',label='Var')\n",
    "plt.xlabel(\"Polynomial degree\")\n",
    "plt.ylabel(\"Mean Squared Error\")\n",
    "plt.legend()\n",
    "plt.title(\"MSE for Ridge, kFold resampling\")\n",
    "plt.show()\n",
    "print(\"mse_test: {},R2_test: {},MSE_tr: {},R2_tr: {} for lambda: {} \".format(round(ols_k_mse_r[3][9],7),round(ols_k_r2_r[3][9],7),round(ols_k_mse_r_tr[3][9],7),round(ols_k_r2_r_tr[3][9],7),_lambda[3]))"
   ]
  },
  {
   "cell_type": "code",
   "execution_count": 106,
   "metadata": {},
   "outputs": [
    {
     "name": "stdout",
     "output_type": "stream",
     "text": [
      "1\n",
      "2\n",
      "3\n",
      "4\n",
      "5\n",
      "6\n",
      "7\n",
      "8\n",
      "9\n",
      "10\n",
      "11\n"
     ]
    },
    {
     "data": {
      "image/png": "[encoded data removed]",
      "text/plain": [
       "<Figure size 432x288 with 1 Axes>"
      ]
     },
     "metadata": {
      "needs_background": "light"
     },
     "output_type": "display_data"
    }
   ],
   "source": [
    "#LASSO!!!!!!\n",
    "_lambda = np.logspace(-6,-4,10)\n",
    "poly_degrees=np.arange(1,12)\n",
    "ols_k_mse_r = np.zeros((len(_lambda),len(poly_degrees)))\n",
    "ols_k_bias_r = np.zeros((len(_lambda),len(poly_degrees)))\n",
    "ols_k_var_r = np.zeros((len(_lambda),len(poly_degrees)))\n",
    "ols_k_r2_r = np.zeros((len(_lambda),len(poly_degrees)))\n",
    "ols_k_r2_r_tr = np.zeros((len(_lambda),len(poly_degrees)))\n",
    "ols_k_mse_r_tr = np.zeros((len(_lambda),len(poly_degrees)))\n",
    "\n",
    "# poly_degrees = np.arange(1,9)\n",
    "c=0\n",
    "for i in poly_degrees:\n",
    "    X = Model(x,y,i)\n",
    "    X_s = X\n",
    "    z_n_s = z_n\n",
    "    X_s,z_n_s = Shuffler(X_s,z_n_s)\n",
    "    print(i)\n",
    "    for j,l in enumerate(_lambda):\n",
    "\n",
    "#     for j,l in enumerate(_lambda):\n",
    "#     mii,r2,bet = kFoldLassoCV(X_s,z_n_s,k,_lambda)\n",
    "#         muppet = kFoldLasso(X_s,z_n_s,k,l)\n",
    "        mii,r2s,bet,miitr,r2tr = kFoldLasso(X_s,z_n_s,k,l)\n",
    "        ols_k_mse_r[j,i-1] = mii\n",
    "#         ols_k_bias_r[j,i-1] = bii\n",
    "#         ols_k_var_r[j,i-1] = vii\n",
    "        ols_k_r2_r[j,i-1] = r2s\n",
    "        ols_k_mse_r_tr[j,i-1] = miitr\n",
    "        ols_k_r2_r_tr[j,i-1] = r2tr\n",
    "# #         print(i,l,mii)\n",
    "#     ols_k_mse_r[j,i-1] = mii\n",
    "#         ols_k_mse.append(np.mean(mii))\n",
    "#         ols_k_var.append(np.mean(bii))\n",
    "#         ols_k_bias.append(np.mean(vii))\n",
    "# print(pls_k_mse_r)\n",
    "plt.figure()\n",
    "for i in range(len(_lambda)):\n",
    "    plt.plot(poly_degrees,ols_k_mse_r[i,:],label=_lambda[i])\n",
    "# plt.plot(poly_degrees,ols_k_bias,'b',label='Bias^2')\n",
    "# plt.plot(poly_degrees,ols_k_var,'y',label='Var')\n",
    "plt.xlabel(\"Polynomial degree\")\n",
    "plt.ylabel(\"Mean Squared Error\")\n",
    "plt.legend()\n",
    "plt.title(\"MSE for OLS, kFold resampling. Method 1\")\n",
    "plt.show()"
   ]
  },
  {
   "cell_type": "code",
   "execution_count": 146,
   "metadata": {},
   "outputs": [
    {
     "data": {
      "image/png": "[encoded data removed]",
      "text/plain": [
       "<Figure size 432x288 with 1 Axes>"
      ]
     },
     "metadata": {
      "needs_background": "light"
     },
     "output_type": "display_data"
    },
    {
     "name": "stdout",
     "output_type": "stream",
     "text": [
      "mse_tr 0.0006745 r2_tr 0.9869749 mse_te 0.002109 r2te 0.9501375\n"
     ]
    }
   ],
   "source": [
    "plt.figure()\n",
    "for i in range(len(_lambda)):\n",
    "    plt.plot(poly_degrees,ols_k_r2_r[i,:],label=_lambda[i])\n",
    "# plt.plot(poly_degrees,ols_k_bias,'b',label='Bias^2')\n",
    "# plt.plot(poly_degrees,ols_k_var,'y',label='Var')\n",
    "plt.xlabel(\"Polynomial degree\")\n",
    "plt.ylabel(\"Mean Squared Error\")\n",
    "plt.legend()\n",
    "plt.title(\"MSE for OLS, kFold resampling. Method 1\")\n",
    "plt.show()\n",
    "# lam først\n",
    "print(\"mse_tr {} r2_tr {} mse_te {} r2te {}\".format(round(ols_k_mse_r_tr[0,9],7),round(ols_k_r2_r_tr[0,9],7),round(ols_k_mse_r[0,9],7),round(ols_k_r2_r[0,9],7)))"
   ]
  },
  {
   "cell_type": "code",
   "execution_count": 118,
   "metadata": {},
   "outputs": [
    {
     "name": "stdout",
     "output_type": "stream",
     "text": [
      "1\n",
      "2\n",
      "3\n",
      "4\n",
      "5\n",
      "6\n",
      "7\n",
      "8\n",
      "9\n",
      "10\n",
      "11\n"
     ]
    }
   ],
   "source": [
    "_lams= np.logspace(-5,-2)\n",
    "ols_k_mse_lasso = np.zeros((len(_lams),len(poly_degrees)))\n",
    "\n",
    "for i in poly_degrees:\n",
    "    print(i)\n",
    "    X = Model(x,y,i)\n",
    "    X_s = X\n",
    "    z_n_s = z_n\n",
    "    X_s,z_n_s = Shuffler(X_s,z_n_s)\n",
    "#     msess=[]\n",
    "\n",
    "    for j,l in enumerate(_lambda):\n",
    "\n",
    "        msee,bib, bob= kFoldLassoCV(X_s,z_n_s,k,[l])\n",
    "#         msess.append(msee)\n",
    "        ols_k_mse_lasso[j,i-1] = msee\n",
    "\n",
    "    \n",
    "# plt.plot(msess)"
   ]
  },
  {
   "cell_type": "code",
   "execution_count": 141,
   "metadata": {},
   "outputs": [
    {
     "data": {
      "image/png": "[encoded data removed]",
      "text/plain": [
       "<Figure size 432x288 with 1 Axes>"
      ]
     },
     "metadata": {
      "needs_background": "light"
     },
     "output_type": "display_data"
    },
    {
     "name": "stdout",
     "output_type": "stream",
     "text": [
      "(10, 11)\n",
      "11\n"
     ]
    }
   ],
   "source": [
    "plt.figure()\n",
    "for i in range(len(poly_degrees)-1):\n",
    "    plt.plot(ols_k_mse_r[:][i],label=_lams[i])\n",
    "plt.legend()\n",
    "plt.xlabel('Polynomial degree')\n",
    "plt.ylabel('Mean Squared error')\n",
    "plt.title('MSE for Lasso, kFold resampling')\n",
    "plt.show()\n",
    "print(np.shape(ols_k_mse_r))\n",
    "print(len(poly_degrees))\n",
    "\n",
    "# plt.figure()\n",
    "# plt.plot()"
   ]
  },
  {
   "cell_type": "code",
   "execution_count": null,
   "metadata": {},
   "outputs": [],
   "source": [
    "ols_k_mse = []\n",
    "ols_k_bias = []\n",
    "ols_k_var = []\n",
    "_lambda = 0.\n",
    "poly_degrees = np.arange(1,9)\n",
    "for i in poly_degrees:\n",
    "    X = Model(x,y,i)\n",
    "    X_s,z_n_s = Shuffler(X,z_n)\n",
    "    aii,bii,zii,ddd = kFoldskl(X_s,z_n_s,5,0.)\n",
    "#     aii,bii,zii,kii,lii = kFolds(X,z_n,5)\n",
    "#     ols_k_mse.append(np.mean(aaa))\n",
    "    ols_k_mse.append(np.mean(aii))\n",
    "    ols_k_var.append(np.mean(bii))\n",
    "    ols_k_bias.append(np.mean(zii))\n",
    "\n",
    "plt.figure()\n",
    "plt.plot(poly_degrees,ols_k_mse,'r')\n",
    "# plt.plot(poly_degrees,ols_k_bias,'b')\n",
    "# plt.plot(poly_degrees,ols_k_var,'y')\n",
    "ip = []\n",
    "# for i in range(len(ols_k_var)):\n",
    "#     ip.append((ols_k_var[i]+ols_k_bias[i]))\n",
    "# plt.plot(poly_degrees,ip,'k')\n",
    "\n",
    "\n",
    "plt.xlabel(\"Polynomial degree\")\n",
    "plt.ylabel(\"Mean Squared Error\")\n",
    "plt.title(\"MSE for OLS, kFold resampling\")\n",
    "plt.show()"
   ]
  },
  {
   "cell_type": "markdown",
   "metadata": {},
   "source": [
    "### Evaluating R2"
   ]
  },
  {
   "cell_type": "code",
   "execution_count": 29,
   "metadata": {},
   "outputs": [
    {
     "data": {
      "image/png": "[encoded data removed]",
      "text/plain": [
       "<Figure size 432x288 with 1 Axes>"
      ]
     },
     "metadata": {
      "needs_background": "light"
     },
     "output_type": "display_data"
    }
   ],
   "source": [
    "ols_k_r2 = []\n",
    "\n",
    "for i in poly_degrees:\n",
    "    X = Model(x,y,i)\n",
    "#     aii,bii,zii,ddd = kFoldskl(X,z_n,5,0.)\n",
    "    aii,bii,zii,kii,lii,ddd = kFold(X,z_n,5,0.)\n",
    "\n",
    "#     print(np.shape(fii))\n",
    "    ols_k_r2.append(np.mean(ddd))\n",
    "\n",
    "\n",
    "plt.figure()\n",
    "plt.plot(poly_degrees,ols_k_r2)\n",
    "\n",
    "plt.xlabel(\"Polynomial degree\")\n",
    "plt.ylabel(\"R2 score\")\n",
    "plt.title(\"R2 score for OLS, kFold resampling\")\n",
    "plt.show()"
   ]
  },
  {
   "cell_type": "markdown",
   "metadata": {},
   "source": [
    "# c"
   ]
  },
  {
   "cell_type": "markdown",
   "metadata": {},
   "source": [
    "#### Bias variance needs helpz"
   ]
  },
  {
   "cell_type": "markdown",
   "metadata": {},
   "source": [
    "# d"
   ]
  },
  {
   "cell_type": "code",
   "execution_count": null,
   "metadata": {},
   "outputs": [],
   "source": [
    "# poly_degrees=np.arange(1,6)\n",
    "# lambda_range = np.logspace(-5,0,20)\n",
    "# beta_path = np.zeros((len(poly_degrees),len(lambda_range),21))\n",
    "# for i in poly_degrees:\n",
    "#     X = Model(x,y,i)\n",
    "#     for j,lam in enumerate(lambda_range):\n",
    "#         mid = kFoldRidge(k,X,z_n,lam)[2]\n"
   ]
  },
  {
   "cell_type": "markdown",
   "metadata": {},
   "source": [
    "### kinda random stuff below"
   ]
  },
  {
   "cell_type": "code",
   "execution_count": null,
   "metadata": {},
   "outputs": [],
   "source": [
    "maxpd = 8\n",
    "_lam = 0.0001\n",
    "No_resampling = []\n",
    "kfold_resampling = []\n",
    "kfold_resampling_skl = []\n",
    "kfold_ridge = []\n",
    "kfold_lasso = []\n",
    "\n",
    "for i in range(maxpd):\n",
    "    X = Model(x,y,i+1)\n",
    "    No_resampling.append(NoResampling(X,z_n,_lam)[0])\n",
    "    kfold_resampling.append(kFold(k,X,z_n)[0])\n",
    "    kfold_resampling_skl.append(kFoldskl(k,X,z_n)[0])\n",
    "    kfold_ridge.append(kFoldRidge(k,X,z_n,_lam)[0])\n",
    "#     kfold_lasso.append(kFoldLassoCV(k,X,z_n,0.000001)[0])\n",
    "plt.figure()\n",
    "plt.plot(No_resampling,'b')\n",
    "plt.plot(kfold_resampling,'r')\n",
    "plt.plot(kfold_resampling_skl,'y')\n",
    "plt.plot(kfold_ridge,'k')\n",
    "# plt.plot(kfold_lasso,'c')\n",
    "plt.figure()\n",
    "plt.show()"
   ]
  },
  {
   "cell_type": "code",
   "execution_count": null,
   "metadata": {
    "scrolled": false
   },
   "outputs": [],
   "source": [
    "pd = 5\n",
    "\n",
    "_lams = np.logspace(-4,0,20)\n",
    "# _lams = np.linspace(1e-4,1.,20)\n",
    "\n",
    "X = Model(x,y,pd)\n",
    "fish=[]\n",
    "rish=[]\n",
    "\n",
    "for i in _lams:\n",
    "    fish.append(kFoldRidge(k,X,z_n,i)[0])\n",
    "    rish.append(kFoldRidge(k,X,z_n,i)[1])\n",
    "plt.figure()\n",
    "plt.plot(_lams,fish)\n",
    "plt.title(\"mse ridge\")\n",
    "plt.xlabel(\"lambdas\")\n",
    "plt.show()\n",
    "plt.figure()\n",
    "plt.plot(_lams,rish)\n",
    "plt.title(\"r2 ridge\")\n",
    "plt.xlabel(\"lambdas\")\n",
    "\n",
    "plt.show()"
   ]
  },
  {
   "cell_type": "code",
   "execution_count": null,
   "metadata": {},
   "outputs": [],
   "source": [
    "X_c = np.delete(X-np.mean(X,axis=0),0,1)\n",
    "z_n_c = z_n -np.mean(z_n)\n",
    "\n",
    "X = Model(x,y,pd)\n",
    "fish=[]\n",
    "rish=[]\n",
    "\n",
    "for i in _lams:\n",
    "    fish.append(kFoldLassoCV(k,X,z_n,i)[0])\n",
    "    rish.append(kFoldLassoCV(k,X,z_n,i)[1])\n",
    "plt.figure()\n",
    "plt.plot(_lams,fish)\n",
    "plt.title(\"mse kfold lasso\")\n",
    "plt.xlabel(\"lambdas\")\n",
    "\n",
    "plt.show()\n",
    "plt.figure()\n",
    "plt.plot(_lams,rish)\n",
    "plt.title(\"r2 kfold lasso\")\n",
    "plt.xlabel(\"lambdas\")\n",
    "\n",
    "plt.show()"
   ]
  },
  {
   "cell_type": "markdown",
   "metadata": {},
   "source": [
    "# b"
   ]
  },
  {
   "cell_type": "code",
   "execution_count": null,
   "metadata": {
    "scrolled": false
   },
   "outputs": [],
   "source": [
    "NN = 5\n",
    "mpd = 9\n",
    "k=10\n",
    "ms = []\n",
    "rs = []\n",
    "vs = []\n",
    "bs = []\n",
    "\n",
    "for i in range(mpd):\n",
    "    X = Model(x,y,i+1)\n",
    "    Xn,z_nn=Shuffler(X,z_n)\n",
    "    msi=0\n",
    "    rsi = 0\n",
    "    vsi = 0\n",
    "    bsi = 0\n",
    "    \n",
    "#     for l in range(NN):\n",
    "    msi = kFold(k,Xn,z_nn)[0]\n",
    "    rsi = kFold(k,Xn,z_nn)[1]\n",
    "    vsi = kFold(k,Xn,z_nn)[3]\n",
    "    bsi = kFold(k,Xn,z_nn)[4]\n",
    "    ms.append(msi)\n",
    "    rs.append(rsi)\n",
    "    vs.append(vsi)\n",
    "    bs.append(bsi)\n",
    "    \n",
    "plt.figure()\n",
    "plt.plot(np.arange(mpd)+1,ms)\n",
    "plt.title(\"mse kFold for polydegree, 5 reruns\")\n",
    "plt.show()\n",
    "\n",
    "plt.figure()\n",
    "plt.plot(vs)\n",
    "plt.title(\"Var kFold for polydegree, 5 reruns\")\n",
    "plt.show()\n",
    "ulp = []\n",
    "for i in range(len(bs)):\n",
    "    ulp.append(bs[i])\n",
    "plt.figure()\n",
    "plt.plot(bs)\n",
    "# plt.plot(ms,'k')\n",
    "plt.title(\"Bias2 kFold for polydegree, 5 reruns\")\n",
    "plt.show()\n",
    "\n",
    "\n",
    "# plt.figure()\n",
    "# plt.plot(np.arange(mpd)+1,rs)\n",
    "# plt.title(\"r2 kFold for polydegree, 5 reruns\")\n",
    "# plt.show()\n",
    "\n",
    "# print(np.shape(bs),np.shape(vs))\n",
    "# plt.figure()\n",
    "# # plt.plot(np.arange(mpd)+1,ms)\n",
    "# # plt.plot(np.arange(mpd)+1,ms)\n",
    "# bst = [i /90 for i in bs]\n",
    "# plt.plot(bst)\n",
    "# plt.plot(vs)\n",
    "# plt.show()"
   ]
  },
  {
   "cell_type": "code",
   "execution_count": null,
   "metadata": {
    "scrolled": true
   },
   "outputs": [],
   "source": [
    "#Run NN kFolds to create bias/variance plot\n",
    "#My bias increases again with model complexity\n",
    "NN=5\n",
    "mpd = 15\n",
    "qq = len(z_n)\n",
    "\n",
    "#sort noisy signal\n",
    "z_n_sorted = sorted(z_n)\n",
    "\n",
    "#initialize variables \n",
    "NMSE_k = np.zeros(shape=(NN,mpd)) #MSE stored for each run of kFold\n",
    "model_values = np.zeros(shape=(NN,mpd,qq))\n",
    "bias2 = np.zeros(mpd)\n",
    "var = np.zeros(mpd)\n",
    "bias2_ = np.zeros(shape=(mpd,qq))\n",
    "var_ = np.zeros(shape=(mpd,qq))\n",
    "\n",
    "# betas = np.zeros(shape=(NN,mpd))\n",
    "betas=[]\n",
    "#Run NN kFolds\n",
    "for l in range(NN):\n",
    "    #shuffle here\n",
    "    for i in range(mpd):\n",
    "        X = Model(x,y,i+1)\n",
    "#         model_values[l,i] = kFoldskl(k,X,z_n)[0]\n",
    "        model_values[l,i] = kFold(k,X,z_n)[0]\n",
    "        NMSE_k[l,i] = MSE(model_values[l,i],z_n_sorted)\n",
    "        if l == 0:\n",
    "            betas.append(kFold(k,X,z_n)[1])\n",
    "NMSE = np.mean(NMSE_k,axis=0)\n",
    "\n",
    "#Calculate bias and variance for each polynomial degree\n",
    "for i in range(mpd):\n",
    "    for m in range(qq):\n",
    "        bias2_[i,m] = np.mean(model_values[:,i,m])\n",
    "        var_[i,m] = np.var(model_values[:,i,m])\n",
    "    bias2[i]=np.mean((z_n_sorted-bias2_[i])**2)\n",
    "    var[i] = np.mean(var_[i])"
   ]
  },
  {
   "cell_type": "code",
   "execution_count": null,
   "metadata": {},
   "outputs": [],
   "source": [
    "ols_noise = 8\n",
    "legs = 'MSE','Bias','var','Bias+Var'\n",
    "plt.figure()\n",
    "maxi = 8\n",
    "plt.plot(np.arange(1,maxi+1),NMSE[:maxi],'k')\n",
    "plt.plot(np.arange(1,maxi+1),bias2[:maxi],'g')\n",
    "plt.plot(np.arange(1,maxi+1),var[:maxi],'b')\n",
    "plt.plot(np.arange(1,maxi+1),bias2[:maxi]+var[:maxi],'ro')\n",
    "plt.xlabel('Ploynomial degree')\n",
    "plt.ylabel('MSE')\n",
    "plt.title('MSE and bias as functions of polynomial degree, CV')\n",
    "plt.legend(legs)\n",
    "plt.show()"
   ]
  },
  {
   "cell_type": "code",
   "execution_count": null,
   "metadata": {},
   "outputs": [],
   "source": [
    "fig = plt.figure()\n",
    "fig.set_figheight(15)\n",
    "fig.set_figwidth(15)\n",
    "xp = np.arange(0,1,0.05)\n",
    "yp = np.arange(0,1,0.05)\n",
    "xp,yp = np.meshgrid(xp,yp,sparse=False)\n",
    "xz,yz = np.meshgrid(xp,yp,sparse=True)\n",
    "pd = 9\n",
    "fz = FrankeFunction(xp,yp)\n",
    "for i in range(pd):\n",
    "    axs = fig.add_subplot(3,3,i+1,projection='3d')\n",
    "    Xp = Model(xz,yz,i+1)\n",
    "    zp = Xp@betas[i]\n",
    "    zp.shape=(20,20)\n",
    "    axs.plot_surface(xp,yp,zp,cmap=cm.coolwarm,linewidth=0,antialiased=False)\n",
    "#     axs.plot_surface(xp,yp,fz,cmap=cm.coolwarm,linewidth=0,antialiased=False)\n",
    "    axs.set_xlabel('x')\n",
    "    axs.set_ylabel('y')\n",
    "    axs.set_zlabel('z')\n",
    "    axs.set_title('Polynomial degree = {}'.format(i+1))\n",
    "    axs.set_zlim(-0.10,1.40)\n",
    "    axs.zaxis.set_major_locator(LinearLocator(10))\n",
    "    axs.zaxis.set_major_formatter(FormatStrFormatter('%.02f'))\n",
    "    fig.colorbar(surf,shrink=0.5, aspect=5,pad = 0.1)\n",
    "\n",
    "plt.show()"
   ]
  },
  {
   "cell_type": "code",
   "execution_count": null,
   "metadata": {},
   "outputs": [],
   "source": [
    "fig = plt.figure()\n",
    "fig.set_figheight(15)\n",
    "fig.set_figwidth(15)\n",
    "xp = np.arange(0,1,0.05)\n",
    "yp = np.arange(0,1,0.05)\n",
    "xp,yp = np.meshgrid(xp,yp,sparse=False)\n",
    "xz,yz = np.meshgrid(xp,yp,sparse=True)\n",
    "pd = 9\n",
    "fz = FrankeFunction(xp,yp)\n",
    "for i in range(pd):\n",
    "    axs = fig.add_subplot(3,3,i+1)\n",
    "    Xp = Model(xz,yz,i+1)\n",
    "    zp = Xp@betas[i]\n",
    "    zp.shape=(20,20)\n",
    "#     plo = zp-fz\n",
    "    plo = np.subtract(zp,fz)\n",
    "#     print(\"a\",zp[0],\"b\",fz[0],\"c\",plo[0])\n",
    "    aa = axs.contourf(plo,cmap=cm.coolwarm)\n",
    "#     axs.plot(plo[0],plo[1])\n",
    "#     axs.plot_surface(xp,yp,zp,cmap=cm.coolwarm,linewidth=0,antialiased=False)\n",
    "    axs.set_xlabel('x')\n",
    "    axs.set_ylabel('y')\n",
    "#     axs.addaxes(xp)\n",
    "#     axs.set_zlabel('z')\n",
    "#     axs.set_title('Polynomial degree = {}'.format(i+1))\n",
    "#     axs.set_zlim(-0.10,1.40)\n",
    "#     axs.zaxis.set_major_locator(LinearLocator(10))\n",
    "#     axs.zaxis.set_major_formatter(FormatStrFormatter('%.02f'))\n",
    "    fig.colorbar(aa,shrink=0.5, aspect=5,pad = 0.1)\n",
    "\n",
    "plt.show()"
   ]
  },
  {
   "cell_type": "code",
   "execution_count": null,
   "metadata": {},
   "outputs": [],
   "source": [
    "ols_noise = 8\n",
    "legs = 'MSE','Bias','var','Bias+Var'\n",
    "plt.figure()\n",
    "maxi = 9\n",
    "plt.plot(np.arange(1,maxi+1),NMSE[:maxi],'k')\n",
    "plt.plot(np.arange(1,maxi+1),bias2[:maxi],'g')\n",
    "plt.plot(np.arange(1,maxi+1),var[:maxi],'b')\n",
    "plt.plot(np.arange(1,maxi+1),bias2[:maxi]+var[:maxi],'ro')\n",
    "plt.xlabel('Ploynomial degree')\n",
    "plt.ylabel('MSE')\n",
    "plt.title('MSE and bias as functions of polynomial degree, CV')\n",
    "plt.legend(legs)\n",
    "plt.show()"
   ]
  },
  {
   "cell_type": "code",
   "execution_count": null,
   "metadata": {
    "scrolled": false
   },
   "outputs": [],
   "source": [
    "maxpd = 5\n",
    "for i in range(maxpd):\n",
    "    print(\"Polynomial degree\", i+1)\n",
    "    X = Model(x,y,i+1)\n",
    "#     X = X-np.mean(X,axis=0)\n",
    "#     X[:,0]=1.\n",
    "#     z_n = z_n -np.mean(z_n)\n",
    "    ztilde = kFold(k,X,z_n)[0]\n",
    "    print(\"OLS\")\n",
    "    print(\"beta\",kFold(k,X,z_n)[1])\n",
    "    print(\"pm\",1.96*np.sqrt(abs(VarOLS(z_n, ztilde, i,X))))\n",
    "    print(\"variance\",VarOLS(z_n,ztilde,i,X))\n",
    "    ztilde = kFoldRidge(k,X,z_n,100.1)[0] #just a random lambda value\n",
    "    print(\"Ridge\")\n",
    "    print(\"beta\",kFoldRidge(k,X,z_n,0.1)[1])\n",
    "    print(\"pm\",1.96*np.sqrt(abs(VarOLS(z_n, ztilde, i,X))))\n",
    "#     print(\"variance\",VarOLS(z_n,ztilde,i,X))\n",
    "    print(\"variance\",VarRidge(X,10000.1))\n",
    "    ztilde = kFoldLassoCV(k,X,z_n,[100.001,100.01])\n",
    "    print(\"Lasso\")\n",
    "    print(\"beta\",kFold(k,X,z_n)[1])\n",
    "    print(\"pm\",1.96*np.sqrt(abs(VarOLS(z_n, ztilde, i,X))))\n",
    "    print(\"variance\",VarOLS(z_n,ztilde,i,X))\n",
    "    print(\"-------------------\")\n",
    "    ### ALL VARIANCES ARE THE SAME, WHY?!?!"
   ]
  },
  {
   "cell_type": "markdown",
   "metadata": {},
   "source": [
    "# c"
   ]
  },
  {
   "cell_type": "code",
   "execution_count": null,
   "metadata": {},
   "outputs": [],
   "source": [
    "_lams = np.logspace(-4,0,10)\n",
    "kFoldLassoCV(k,X,z_n,_lams)"
   ]
  },
  {
   "cell_type": "code",
   "execution_count": null,
   "metadata": {},
   "outputs": [],
   "source": [
    "MPD = np.arange(9)+1#np.arange(9)+1\n",
    "MSE_degree = []\n",
    "\n",
    "\n",
    "#shuffle data before doing the kFold\n",
    "# n = len(X[0,:])\n",
    "# combi = np.c_[X,z_n]\n",
    "# np.random.shuffle(combi)\n",
    "# X, z_n = combi[:,:n], combi[:,n]\n",
    "# X_new,z_n_new = Shuffler(X,z_n)\n",
    "for i in MPD:\n",
    "    X = Model(x,y,i)\n",
    "    \n",
    "    z_out = kFold(k,X,z_n)\n",
    "#     dMSE, dR2 = NoResampling(X,z_n,0)\n",
    "#     dMSE,dR2 = kFoldskl(k,X,z_n)\n",
    "#     print(i,dMSE)\n",
    "    MSE_degree.append(MSE(z_out,z_n_sorted))\n",
    "# MS = MSE(MSE_degree,z_n)"
   ]
  },
  {
   "cell_type": "code",
   "execution_count": null,
   "metadata": {},
   "outputs": [],
   "source": [
    "plt.figure()\n",
    "plt.plot(MPD+1,MSE_degree)\n",
    "plt.xlabel('Polynomial degree')\n",
    "plt.ylabel('Mean squared error')\n",
    "plt.show()"
   ]
  },
  {
   "cell_type": "markdown",
   "metadata": {},
   "source": [
    "# d"
   ]
  },
  {
   "cell_type": "code",
   "execution_count": null,
   "metadata": {},
   "outputs": [],
   "source": [
    "_lambda = np.logspace(-4,5,10)\n",
    "\n",
    "RidgeMSE = np.zeros((len(MPD),len(_lambda)))\n",
    "RidgeR2 = np.zeros((len(MPD),len(_lambda)))\n",
    "\n",
    "\n",
    "\n",
    "for i,mpd in enumerate(MPD):\n",
    "    X = Model(x,y,mpd)\n",
    "    for j,lam in enumerate(_lambda):\n",
    "#         rMSE,rR2 = NoResampling(X,z_n,lam)\n",
    "        z_out = kFoldRidge(k,X,z_n,lam)\n",
    "        RidgeMSE[i][j] = MSE(z_out,z_n_sorted)\n",
    "        RidgeR2[i][j] = R2(z_n_sorted,z_out)"
   ]
  },
  {
   "cell_type": "code",
   "execution_count": null,
   "metadata": {},
   "outputs": [],
   "source": [
    "plt.figure()\n",
    "\n",
    "for i in range(len(_lambda)):\n",
    "    plt.semilogy(MPD,RidgeMSE[:,i],label=_lambda[i])\n",
    "plt.xlabel('Polynomial degree')\n",
    "plt.ylabel('Mean Squared Error')\n",
    "plt.legend()\n",
    "plt.show()"
   ]
  },
  {
   "cell_type": "code",
   "execution_count": null,
   "metadata": {},
   "outputs": [],
   "source": [
    "plt.figure()\n",
    "\n",
    "for i in range(len(MPD)):\n",
    "    plt.loglog(_lambda,RidgeMSE[i,:],label=i+1)\n",
    "plt.xlabel('lambda')\n",
    "plt.ylabel('Mean Squared Error')\n",
    "plt.legend()\n",
    "plt.show()"
   ]
  },
  {
   "cell_type": "markdown",
   "metadata": {},
   "source": [
    "# e"
   ]
  },
  {
   "cell_type": "code",
   "execution_count": null,
   "metadata": {
    "scrolled": false
   },
   "outputs": [],
   "source": [
    "# I'll use Scikit-learn as recommended for this\n",
    "_lambda = np.logspace(-4,5,100)\n",
    "beta_store = []\n",
    "X = Model(x,y,5)\n",
    "k=5\n",
    "kFoldLassoCV(k,X,z_n,_lambda)\n",
    "# for i in range(10):\n",
    "#     np.random.seed(i)\n",
    "#     uno,dos,tres = kFoldLassoCV(k,X,z_n,_lambda)\n",
    "#     print(tres)\n",
    "#     beta_store.append(tres)\n",
    "# print(np.shape(tres))"
   ]
  },
  {
   "cell_type": "code",
   "execution_count": null,
   "metadata": {},
   "outputs": [],
   "source": []
  },
  {
   "cell_type": "code",
   "execution_count": null,
   "metadata": {},
   "outputs": [],
   "source": [
    "terrain = imread('SRTM_data_Norway_1.tif')\n",
    "terr_square = terrain[0:100,0:100]\n",
    "print(np.shape(terr_square))"
   ]
  },
  {
   "cell_type": "code",
   "execution_count": null,
   "metadata": {},
   "outputs": [],
   "source": [
    "terra = np.matrix.flatten(terr_square)\n",
    "print(np.shape(terra))\n",
    "# x = np.linspace(0,len(terr_square[0]),100)\n",
    "# y = np.linspace(0,len(terr_square[1]),100)\n",
    "x = np.linspace(0,1,np.sqrt(len(terra)))\n",
    "y=np.linspace(0,1,np.sqrt(len(terra)))\n",
    "x, y = np.meshgrid(x,y,sparse=False)\n"
   ]
  },
  {
   "cell_type": "code",
   "execution_count": null,
   "metadata": {},
   "outputs": [],
   "source": [
    "X = Model(x,y,5)\n",
    "\n",
    "\n",
    "X_c = X-np.mean(X,axis=0)\n",
    "X_c[:,0]=1.\n",
    "terra_c = terra -np.mean(terra)"
   ]
  },
  {
   "cell_type": "code",
   "execution_count": null,
   "metadata": {},
   "outputs": [],
   "source": [
    "NoResampling(X,terra,0.)"
   ]
  },
  {
   "cell_type": "code",
   "execution_count": null,
   "metadata": {},
   "outputs": [],
   "source": [
    "betas=[]\n",
    "mpd = 6\n",
    "for i in range(mpd):\n",
    "        X = Model(xp,yp,i+1)\n",
    "        print(np.shape(X))\n",
    "#         model_values[l,i] = kFoldskl(k,X,z_n)[0]\n",
    "#         model_values[l,i] = kFold(k,X,z_n)[0]\n",
    "#         NMSE_k[l,i] = MSE(model_values[l,i],z_n_sorted)\n",
    "#         if l == 0:\n",
    "        betas.append(kFold(k,X,terra)[1])"
   ]
  },
  {
   "cell_type": "code",
   "execution_count": null,
   "metadata": {},
   "outputs": [],
   "source": [
    "fig = plt.figure()\n",
    "fig.set_figheight(15)\n",
    "fig.set_figwidth(15)\n",
    "# xp = np.arange(0,1,0.05)\n",
    "# yp = np.arange(0,1,0.05)\n",
    "\n",
    "\n",
    "xp = np.linspace(0,1,len(terr_square[0]))\n",
    "yp=np.linspace(0,1,len(terr_square[1]))\n",
    "\n",
    "xp,yp = np.meshgrid(xp,yp,sparse=False)\n",
    "xz,yz = np.meshgrid(xp,yp,sparse=True)\n",
    "pd = 9\n",
    "# fz = FrankeFunction(xp,yp)\n",
    "\n",
    "\n",
    "betas=[]\n",
    "for i in range(pd):\n",
    "        X = Model(xp,yp,i+1)\n",
    "        betas.append(kFold(k,X,terra)[1])\n",
    "\n",
    "for i in range(pd):\n",
    "    axs = fig.add_subplot(3,3,i+1,projection='3d')\n",
    "    Xp = Model(xp,yp,i+1)\n",
    "    zp = Xp@betas[i]\n",
    "    zp.shape=(len(xp),len(yp))\n",
    "    axs.plot_surface(xp,yp,zp,cmap=cm.coolwarm,linewidth=0,antialiased=False)\n",
    "#     axs.plot_surface(xp,yp,terr_square,cmap=cm.coolwarm,linewidth=0,antialiased=False)\n",
    "    axs.set_xlabel('x')\n",
    "    axs.set_ylabel('y')\n",
    "    axs.set_zlabel('z')\n",
    "    axs.set_title('Polynomial degree = {}'.format(i+1))\n",
    "#     axs.set_zlim(-0.10,1.40)\n",
    "    axs.zaxis.set_major_locator(LinearLocator(10))\n",
    "    axs.zaxis.set_major_formatter(FormatStrFormatter('%.02f'))\n",
    "    fig.colorbar(surf,shrink=0.5, aspect=5,pad = 0.1)\n",
    "\n",
    "plt.show()"
   ]
  },
  {
   "cell_type": "code",
   "execution_count": null,
   "metadata": {},
   "outputs": [],
   "source": [
    "fig2 = plt.figure()\n",
    "axers = fig2.gca(projection='3d')\n",
    "\n",
    "for i in range(pd):\n",
    "    surf = axers.plot_surface(xp,yp,terr_square,cmap=cm.coolwarm,linewidth=0,antialiased=False)\n",
    "plt.show()"
   ]
  },
  {
   "cell_type": "code",
   "execution_count": null,
   "metadata": {},
   "outputs": [],
   "source": []
  },
  {
   "cell_type": "code",
   "execution_count": null,
   "metadata": {},
   "outputs": [],
   "source": []
  },
  {
   "cell_type": "code",
   "execution_count": null,
   "metadata": {},
   "outputs": [],
   "source": [
    "pd = 5\n",
    "_lams = np.linspace(0.0,1.,10)\n",
    "X = Model(x,y,pd)\n",
    "fish=[]\n",
    "for i in range(len(_lams)):\n",
    "    fish.append(kFoldRidge(k,X,z_n,i))"
   ]
  },
  {
   "cell_type": "code",
   "execution_count": null,
   "metadata": {},
   "outputs": [],
   "source": []
  },
  {
   "cell_type": "code",
   "execution_count": null,
   "metadata": {},
   "outputs": [],
   "source": []
  },
  {
   "cell_type": "code",
   "execution_count": null,
   "metadata": {},
   "outputs": [],
   "source": [
    "import pandas as pd\n",
    "\n",
    "data = pd.read_csv(\"Oppgave_a.csv\")\n",
    "# row2 = data.iloc[3]\n",
    "# print(row2)"
   ]
  },
  {
   "cell_type": "code",
   "execution_count": null,
   "metadata": {},
   "outputs": [],
   "source": [
    "def LatexPrinter(betas,variances):\n",
    "    for i in range(len(betas)-1):#%.2f\n",
    "        print(\"$\\\\beta_{{{}}}$ & {} & {} \\\\\\ \".format(i,round(betas[i],7),round(variances[i],7)))\n",
    "    print(\"$\\\\beta_{{{}}}$ & {} & {} \\\\\\ \\\\hline\".format(i,round(betas[i],7),round(variances[i],7)))"
   ]
  },
  {
   "cell_type": "code",
   "execution_count": 200,
   "metadata": {},
   "outputs": [
    {
     "data": {
      "image/png": "[encoded data removed]",
      "text/plain": [
       "<Figure size 432x288 with 1 Axes>"
      ]
     },
     "metadata": {
      "needs_background": "light"
     },
     "output_type": "display_data"
    }
   ],
   "source": [
    "\n",
    "\n",
    "\n",
    "\n",
    "\n",
    "\n",
    "\n",
    "\n",
    "\n",
    "\n",
    "\n",
    "\n",
    "\n",
    "\n",
    "\n",
    "terrain = imread('SRTM_data_Norway_1.tif')\n",
    "plt.figure()\n",
    "plt.title('Terrain over Norway 1')\n",
    "plt.imshow(terrain, cmap='gray')\n",
    "plt.xlabel('X')\n",
    "plt.xlabel('Y')\n",
    "plt.show()"
   ]
  },
  {
   "cell_type": "code",
   "execution_count": 204,
   "metadata": {},
   "outputs": [
    {
     "data": {
      "image/png": "[encoded data removed]",
      "text/plain": [
       "<Figure size 432x288 with 1 Axes>"
      ]
     },
     "metadata": {
      "needs_background": "light"
     },
     "output_type": "display_data"
    }
   ],
   "source": [
    "terrain = imread('SRTM_data_Norway_1.tif')\n",
    "terr_square = terrain[0:10,0:10]\n",
    "plt.figure()\n",
    "plt.title('Terrain over Norway 1')\n",
    "plt.imshow(terr_square, cmap='gray')\n",
    "plt.xlabel('X')\n",
    "plt.xlabel('Y')\n",
    "plt.show()\n",
    "terr_flat = np.matrix.flatten(terr_square)"
   ]
  },
  {
   "cell_type": "code",
   "execution_count": 205,
   "metadata": {},
   "outputs": [],
   "source": [
    "x = np.linspace(0,1,10)\n",
    "y = np.linspace(0,1,10)\n",
    "x,y = np.meshgrid(x,y)"
   ]
  },
  {
   "cell_type": "code",
   "execution_count": 206,
   "metadata": {},
   "outputs": [
    {
     "data": {
      "image/png": "[encoded data removed]",
      "text/plain": [
       "<Figure size 432x288 with 1 Axes>"
      ]
     },
     "metadata": {
      "needs_background": "light"
     },
     "output_type": "display_data"
    }
   ],
   "source": [
    "ols_svds = []\n",
    "\n",
    "poly_degrees = np.arange(1,6)\n",
    "for i in poly_degrees:\n",
    "    X = Model(x,y,i)\n",
    "# #     ols_mse.append(NoResampling(X,z_n,0.,'ols')[0])\n",
    "    ols_svds.append(NoResampling(X,terr_flat,0.,'svd')[0])\n",
    "plt.figure()\n",
    "# # plt.plot(poly_degrees,ols_mse,'r',label='OLS')\n",
    "plt.plot(poly_degrees,ols_svds,'b',label='SVD')\n",
    "plt.xlabel(\"Polynomial degree\")\n",
    "plt.ylabel(\"Mean Squared Error\")\n",
    "plt.legend()\n",
    "plt.title(\"MSE for OLS, no resampling\")\n",
    "plt.show()"
   ]
  },
  {
   "cell_type": "code",
   "execution_count": 207,
   "metadata": {},
   "outputs": [
    {
     "data": {
      "image/png": "[encoded data removed]",
      "text/plain": [
       "<Figure size 432x288 with 1 Axes>"
      ]
     },
     "metadata": {
      "needs_background": "light"
     },
     "output_type": "display_data"
    }
   ],
   "source": [
    "ols_k_mse = []\n",
    "ols_k_bias = []\n",
    "ols_k_var = []\n",
    "ols_k_r2 = []\n",
    "ols_k_r2_tr = []\n",
    "ols_k_mse_tr = []\n",
    "_lambda = 0.\n",
    "poly_degrees = np.arange(1,8)\n",
    "for i in poly_degrees:\n",
    "    X = Model(x,y,i)\n",
    "    X_s = X\n",
    "    z_n_s = terr_flat\n",
    "    X_s,z_n_s = Shuffler(X_s,z_n_s)\n",
    "    \n",
    "    mii,bii,vii,til,tes,bet,rr2,msetr, r2tr = kFolds(X_s,z_n_s,10)\n",
    "#     ols_k_mse.append(MSE(til,tes))\n",
    "    ols_k_mse.append(mii)\n",
    "    ols_k_mse_tr.append(msetr)\n",
    "#     ols_k_r2_tr.append(r2tr)\n",
    "#     ols_k_var.append(np.var(til))\n",
    "#     ols_k_bias.append(Bias(tes,til))\n",
    "#     ols_k_r2.append(R2(tes,til))\n",
    "# print(ols_k_mse[4])\n",
    "# print(ols_k_r2[4])\n",
    "# print(ols_k_mse_tr[4])\n",
    "# print(ols_k_r2_tr[4])\n",
    "\n",
    "plt.figure()\n",
    "plt.plot(poly_degrees,ols_k_mse,'r',label='MSE')\n",
    "# plt.plot(poly_degrees,ols_k_bias,'b',label='Bias^2')\n",
    "# plt.plot(poly_degrees,ols_k_var,'y',label='Var')\n",
    "plt.xlabel(\"Polynomial degree\")\n",
    "plt.ylabel(\"Mean Squared Error\")\n",
    "plt.legend()\n",
    "plt.title(\"MSE for OLS, kFold resampling. Method 1\")\n",
    "plt.show()\n",
    "\n",
    "\n",
    "# jols_k_mse = []\n",
    "# jols_k_bias = []\n",
    "# jols_k_var = []\n",
    "# for i in poly_degrees:\n",
    "#     X = Model(x,y,i)\n",
    "#     X_s = X\n",
    "#     z_n_s = z_n\n",
    "#     X_s,z_n_s = Shuffler(X_s,z_n_s)\n",
    "\n",
    "#     mii,bii,vii,til,tes,bet = kFold(X_s,z_n_s,10,0.)\n",
    "#     jols_k_mse.append(np.mean(mii))\n",
    "#     jols_k_var.append(np.mean(vii))\n",
    "#     jols_k_bias.append(np.mean(bii))\n",
    "    \n",
    "# plt.figure()\n",
    "# plt.plot(poly_degrees,jols_k_mse,'r',label='MSE')\n",
    "# # plt.plot(poly_degrees,jols_k_bias,'b',label='Bias^2')\n",
    "# # plt.plot(poly_degrees,jols_k_var,'y',label='Var')\n",
    "# plt.xlabel(\"Polynomial degree\")\n",
    "# plt.ylabel(\"Mean Squared Error\")\n",
    "# plt.legend()\n",
    "# plt.title(\"MSE for OLS, kFold resampling. Method 2\")\n",
    "# plt.show()\n"
   ]
  },
  {
   "cell_type": "code",
   "execution_count": null,
   "metadata": {},
   "outputs": [],
   "source": []
  },
  {
   "cell_type": "code",
   "execution_count": null,
   "metadata": {},
   "outputs": [],
   "source": []
  }
 ],
 "metadata": {
  "kernelspec": {
   "display_name": "Python 3",
   "language": "python",
   "name": "python3"
  },
  "language_info": {
   "codemirror_mode": {
    "name": "ipython",
    "version": 3
   },
   "file_extension": ".py",
   "mimetype": "text/x-python",
   "name": "python",
   "nbconvert_exporter": "python",
   "pygments_lexer": "ipython3",
   "version": "3.7.1"
  }
 },
 "nbformat": 4,
 "nbformat_minor": 2
}
