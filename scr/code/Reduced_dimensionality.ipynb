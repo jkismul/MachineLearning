{
 "cells": [
  {
   "cell_type": "code",
   "execution_count": 2,
   "metadata": {},
   "outputs": [],
   "source": [
    "import numpy as np\n",
    "import matplotlib.pyplot as plt\n",
    "from sklearn.linear_model import LinearRegression, Ridge, Lasso\n",
    "from sklearn.preprocessing import PolynomialFeatures\n",
    "from sklearn.model_selection import train_test_split\n",
    "from sklearn.pipeline import make_pipeline\n",
    "from sklearn.utils import resample\n",
    "from sklearn.model_selection import KFold\n",
    "from sklearn.model_selection import cross_val_score#,metrics.explained_variance_score\n",
    "import sklearn.linear_model as skl\n",
    "import scipy.linalg as scl\n",
    "from sklearn.pipeline import Pipeline\n",
    "from sklearn import model_selection"
   ]
  },
  {
   "cell_type": "code",
   "execution_count": 3,
   "metadata": {},
   "outputs": [],
   "source": [
    "def true_fun(X):\n",
    "    return np.cos(1.5 * np.pi * X)"
   ]
  },
  {
   "cell_type": "markdown",
   "metadata": {},
   "source": [
    "# Bias-Variance using bootstrap"
   ]
  },
  {
   "cell_type": "code",
   "execution_count": null,
   "metadata": {},
   "outputs": [],
   "source": [
    "#initiate stuff\n",
    "np.random.seed(2018)\n",
    "err = []\n",
    "bi=[]\n",
    "vari=[]\n",
    "\n",
    "n = 100\n",
    "n_boostraps = 100\n",
    "\n",
    "noise=0.1\n",
    "x = np.sort(np.random.uniform(0,1,n)).reshape(-1,1)\n",
    "y = true_fun(x).reshape(-1,1) + np.random.randn(len(x)).reshape(-1,1) * noise\n",
    "y_no_noise= true_fun(x)\n",
    "\n",
    "degrees = np.arange(1,16)"
   ]
  },
  {
   "cell_type": "code",
   "execution_count": null,
   "metadata": {},
   "outputs": [],
   "source": [
    "for degree in degrees:\n",
    "    x_train, x_test, y_train, y_test = train_test_split(x, y, test_size=0.2)\n",
    "\n",
    "    model = make_pipeline(PolynomialFeatures(degree=degree), LinearRegression(fit_intercept=False))\n",
    "    y_pred = np.empty((y_test.shape[0], n_boostraps))\n",
    "    for i in range(n_boostraps):\n",
    "        x_, y_ = resample(x_train, y_train)\n",
    "        # Evaluate the new model on the same test data each time.\n",
    "        y_pred[:, i] = model.fit(x_, y_).predict(x_test).ravel()\n",
    "    error = np.mean( np.mean((y_test - y_pred)**2, axis=1, keepdims=True) )\n",
    "    bias = np.mean( (y_test - np.mean(y_pred, axis=1, keepdims=True))**2 )\n",
    "    variance = np.mean( np.var(y_pred, axis=1, keepdims=True) )\n",
    "    err.append(error)\n",
    "    bi.append(bias)\n",
    "    vari.append(variance)"
   ]
  },
  {
   "cell_type": "code",
   "execution_count": null,
   "metadata": {},
   "outputs": [],
   "source": [
    "plt.figure()\n",
    "plt.plot(y)\n",
    "plt.plot(y_no_noise)\n",
    "plt.xlabel('x')\n",
    "plt.ylabel('Franke-value')\n",
    "plt.show()"
   ]
  },
  {
   "cell_type": "code",
   "execution_count": null,
   "metadata": {},
   "outputs": [],
   "source": [
    "max_pd = 12 #max polynomial degree to plot to\n",
    "plt.figure()\n",
    "plt.plot(degrees[:max_pd],err[:max_pd],'k',label='MSE')\n",
    "plt.plot(degrees[:max_pd],bi[:max_pd],'b',label='Bias^2')\n",
    "plt.plot(degrees[:max_pd],vari[:max_pd],'y',label='Var')\n",
    "summ=np.zeros(len(vari))\n",
    "for i in range(len(err)):\n",
    "    summ[i]=vari[i]+bi[i]\n",
    "plt.plot(degrees[:max_pd],summ[:max_pd],'ro',label='sum')\n",
    "\n",
    "plt.xlabel('Polynomial degree')\n",
    "plt.ylabel('MSE')\n",
    "plt.legend()\n",
    "plt.show()"
   ]
  },
  {
   "cell_type": "markdown",
   "metadata": {},
   "source": [
    "# Bias-Variance using kFold CV"
   ]
  },
  {
   "cell_type": "code",
   "execution_count": 4,
   "metadata": {},
   "outputs": [],
   "source": [
    "#initiate stuff again in case data was changed earlier\n",
    "np.random.seed(2018)\n",
    "\n",
    "noise=0.1\n",
    "N=100\n",
    "k=10\n",
    "x = np.sort(np.random.uniform(0,1,N)).reshape(-1,1)\n",
    "y = true_fun(x).reshape(-1,1) + np.random.randn(len(x)).reshape(-1,1) * noise\n",
    "y_no_noise= true_fun(x)\n",
    "\n",
    "degrees = np.arange(1,16)"
   ]
  },
  {
   "cell_type": "code",
   "execution_count": 5,
   "metadata": {
    "scrolled": false
   },
   "outputs": [],
   "source": [
    "kfold = KFold(n_splits = k,shuffle=True,random_state=5)\n",
    "\n",
    "#Two clumsy lines to get the size of y_pred array right\n",
    "X_trainz, X_testz, y_trainz, y_testz = train_test_split(x,y,test_size=1./k)\n",
    "array_size_thingy=len(y_testz)\n",
    "\n",
    "\n",
    "err = []\n",
    "bi=[]\n",
    "vari=[]\n",
    "for deg in degrees:\n",
    "    y_pred = np.empty((array_size_thingy, k))\n",
    "    j=0\n",
    "    model = make_pipeline(PolynomialFeatures(degree=deg),LinearRegression(fit_intercept=False))\n",
    "    for train_inds,test_inds in kfold.split(x):\n",
    "        xtrain = x[train_inds]\n",
    "        ytrain= y[train_inds]\n",
    "        xtest = x[test_inds]\n",
    "        ytest = y[test_inds]\n",
    "        y_pred[:,j] = model.fit(xtrain,ytrain).predict(xtest).ravel()\n",
    "        j+=1\n",
    "    error = np.mean( np.mean((ytest - y_pred)**2, axis=1, keepdims=True) )\n",
    "    bias = np.mean( (ytest - np.mean(y_pred, axis=1, keepdims=True))**2 )\n",
    "    variance = np.mean( np.var(y_pred, axis=1, keepdims=True) )\n",
    "    err.append(error)\n",
    "    bi.append(bias)\n",
    "    vari.append(variance)"
   ]
  },
  {
   "cell_type": "code",
   "execution_count": 6,
   "metadata": {},
   "outputs": [
    {
     "data": {
      "image/png": "[encoded data removed]",
      "text/plain": [
       "<Figure size 432x288 with 1 Axes>"
      ]
     },
     "metadata": {
      "needs_background": "light"
     },
     "output_type": "display_data"
    }
   ],
   "source": [
    "max_pd = 12 #max polynomial degree to plot to\n",
    "plt.figure()\n",
    "plt.plot(degrees[:max_pd],err[:max_pd],'k',label='MSE')\n",
    "plt.plot(degrees[:max_pd],bi[:max_pd],'b',label='Bias^2')\n",
    "plt.plot(degrees[:max_pd],vari[:max_pd],'y',label='Var')\n",
    "summ=np.zeros(len(vari))\n",
    "for i in range(len(err)):\n",
    "    summ[i]=vari[i]+bi[i]\n",
    "plt.plot(degrees[:max_pd],summ[:max_pd],'ro',label='sum')\n",
    "\n",
    "plt.xlabel('Polynomial degree')\n",
    "plt.ylabel('MSE')\n",
    "plt.legend()\n",
    "plt.show()"
   ]
  },
  {
   "cell_type": "markdown",
   "metadata": {},
   "source": [
    "# ISSUE SOLVED, HOORAY!\n",
    "\n",
    "I went over the math and program again and found the issue.\n",
    "I was calculating means of bias mse and var inside each fold, but what we actually take the expectation values of in the Bias-Variance tradeoff is the exp.val over different datasets!\n",
    "\n",
    "Finally done with this!"
   ]
  },
  {
   "cell_type": "code",
   "execution_count": null,
   "metadata": {},
   "outputs": [],
   "source": []
  },
  {
   "cell_type": "code",
   "execution_count": null,
   "metadata": {},
   "outputs": [],
   "source": []
  },
  {
   "cell_type": "code",
   "execution_count": null,
   "metadata": {},
   "outputs": [],
   "source": []
  }
 ],
 "metadata": {
  "kernelspec": {
   "display_name": "Python 3",
   "language": "python",
   "name": "python3"
  },
  "language_info": {
   "codemirror_mode": {
    "name": "ipython",
    "version": 3
   },
   "file_extension": ".py",
   "mimetype": "text/x-python",
   "name": "python",
   "nbconvert_exporter": "python",
   "pygments_lexer": "ipython3",
   "version": "3.7.1"
  }
 },
 "nbformat": 4,
 "nbformat_minor": 2
}
