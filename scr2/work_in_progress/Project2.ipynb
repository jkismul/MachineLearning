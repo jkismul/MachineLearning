{
 "cells": [
  {
   "cell_type": "code",
   "execution_count": 47,
   "metadata": {},
   "outputs": [],
   "source": [
    "#Questions:\n",
    "\"\"\" GERON\n",
    "Note that since instances are picked randomly, some instances may be picked several times per epoch\n",
    "while others may not be picked at all. If you want to be sure that the algorithm goes through every instance\n",
    "at each epoch, another approach is to shuffle the training set, then go through it instance by instance, then\n",
    "shuffle it again, and so on. However, this generally converges more slowly.\n",
    "\n",
    "\"\"\";\n",
    "\n",
    "# stratified train test split\n",
    "\n",
    "#  For LogReg\n",
    "# mix? sgd for a while, then gd? PRØV\n",
    "# regularization is cool i guess? finding the lowest minima = overfitting? japp\n",
    "# could add the svd madness as LR? prøv\n",
    "\n",
    "\n",
    "#network\n",
    "# more lr methods? kanskja Adam, usikker? prøv. også momentum gd\n",
    "# more inits? xavier+kaiming\n",
    "# husk drop out for NN!\n",
    "# markov dropout? husk å dele på drop out sannsynligheten. SB ps sannsynlighets estimat som regularisering.\n",
    "# batch normalization\n",
    "#dropout drop different nodes forward and bacwards? "
   ]
  },
  {
   "cell_type": "code",
   "execution_count": 48,
   "metadata": {},
   "outputs": [],
   "source": [
    "#ToDo:\n",
    "# make more lr and init methods\n",
    "#mix? sgd for a while, then gd?\n",
    "#sgd no shuffle\n",
    "#regularization in optimization!\n",
    "# could add the svd madness as LR?\n",
    "#stratified?"
   ]
  },
  {
   "cell_type": "code",
   "execution_count": 49,
   "metadata": {},
   "outputs": [],
   "source": [
    "#importing packages\n",
    "import pandas as pd\n",
    "import os\n",
    "import numpy as np\n",
    "from sklearn.preprocessing import StandardScaler, OneHotEncoder\n",
    "from sklearn.compose import ColumnTransformer\n",
    "import random\n",
    "from sklearn.model_selection import train_test_split\n",
    "from sklearn.linear_model import LogisticRegression\n",
    "from sklearn.model_selection import GridSearchCV\n",
    "from sklearn.metrics import confusion_matrix, accuracy_score, roc_auc_score\n",
    "from sklearn.linear_model import SGDClassifier\n",
    "import scipy.linalg as scl"
   ]
  },
  {
   "cell_type": "code",
   "execution_count": 2027,
   "metadata": {},
   "outputs": [],
   "source": [
    "def ReadData():\n",
    "    #importing data set(s)\n",
    "    filename = 'default of credit card clients.xls'\n",
    "    nanDict = {} #this does nothing with this data set\n",
    "    #read file\n",
    "    df = pd.read_excel(filename,header=1,skiprows=0,index_col=0,na_values=nanDict) \n",
    "    #rename last column\n",
    "    df.rename(index=str, columns={\"default payment next month\": \"defaultPaymentNextMonth\"}, inplace=True)\n",
    "    #Replace nonsensical values in PAY_i columns with 0\n",
    "    for i in [0,2,3,4,5,6]:\n",
    "        col = 'PAY_{}'.format(i)\n",
    "        df[col].replace(to_replace=-2, value = 0, inplace=True)\n",
    "    #shuffle dataset by row\n",
    "    df.sample(frac=1)\n",
    "    \n",
    "    # Define features and targets \n",
    "    X = df.loc[:, df.columns != 'defaultPaymentNextMonth'].values\n",
    "    y = df.loc[:, df.columns == 'defaultPaymentNextMonth'].values\n",
    "    \n",
    "    # Categorical variables to one-hots, setting nonsensical values to 0\n",
    "    onehotencoder1 = OneHotEncoder(categories='auto')\n",
    "    onehotencoder2 = OneHotEncoder(categories='auto',drop='first')\n",
    "\n",
    "    # sets number of elements in onehot vectors automatically from data.\n",
    "    Xt= ColumnTransformer(\n",
    "        [(\"one\", onehotencoder1, [1]),(\"two\", onehotencoder2, [2,3]),],\n",
    "        remainder=\"passthrough\"\n",
    "    ).fit_transform(X)\n",
    "\n",
    "    # Train-test split\n",
    "    trainingShare = 0.5\n",
    "    seed  = 1\n",
    "    XTrain, XTest, yTrain, yTest=train_test_split(Xt, y, train_size=trainingShare, \\\n",
    "                                                  test_size = 1-trainingShare,\n",
    "                                                 random_state=seed, stratify = y)\n",
    "    \n",
    "    #scale data, except one-hotted\n",
    "    sc = StandardScaler()\n",
    "    XTrain_fitting = XTrain[:,11:]\n",
    "    XTest_fitting = XTest[:,11:]\n",
    "    #removes mean, scales by std\n",
    "    XTrain_scaler = sc.fit_transform(XTrain_fitting)\n",
    "    XTest_scaler = sc.transform(XTest_fitting)\n",
    "    #puts together the complete model matrix again\n",
    "    XTrain_scaled=np.c_[XTrain[:,:11],XTrain_scaler]\n",
    "    XTest_scaled = np.c_[XTest[:,:11],XTest_scaler]\n",
    "\n",
    "\n",
    "    \n",
    "    \n",
    "    return XTrain_scaled,XTest_scaled,yTrain,yTest"
   ]
  },
  {
   "cell_type": "code",
   "execution_count": 51,
   "metadata": {},
   "outputs": [],
   "source": [
    "def sigmoid(s):\n",
    "    return 1./(1.+np.exp(-s))"
   ]
  },
  {
   "cell_type": "code",
   "execution_count": 52,
   "metadata": {},
   "outputs": [],
   "source": [
    "def Gradient(X,theta,y):\n",
    "    return (X.T@(sigmoid(X@theta)-y))"
   ]
  },
  {
   "cell_type": "code",
   "execution_count": 53,
   "metadata": {},
   "outputs": [],
   "source": [
    "def CostFunction(X,theta,y):\n",
    "    y_pred= sigmoid(X@theta)\n",
    "    y_pred_neg = sigmoid(-X@theta)\n",
    "    cost__ = -y*np.log(y_pred)-(1-y)*np.log(y_pred_neg)\n",
    "    cost_ = np.sum(cost__,axis=0)\n",
    "#     print(cost__)\n",
    "    return cost_/len(y)"
   ]
  },
  {
   "cell_type": "code",
   "execution_count": 54,
   "metadata": {},
   "outputs": [],
   "source": [
    "\"\"\"\n",
    "Takes two arrays of equal length and calculates the \"Accuracy score\"\n",
    "\"\"\"\n",
    "def Accuracy(t,y):\n",
    "    assert len(t)==len(y), \"y and y_pred dimensions do not match ({},{}).\".format(len(t),len(y))\n",
    "    s = [1 if i else 0 for i in np.equal(t,y)]\n",
    "    return np.sum(s)/len(t)"
   ]
  },
  {
   "cell_type": "code",
   "execution_count": 55,
   "metadata": {},
   "outputs": [],
   "source": [
    "\"\"\"\n",
    "this function is pretty much stolen from\n",
    "https://stackoverflow.com/questions/38157972/how-to-implement-mini-batch-gradient-descent-in-python\n",
    "users Ash and dsachar\n",
    "\"\"\"\n",
    "def BatchIterator(X,y,batch_size,shuffle=True):\n",
    "    assert X.shape[0]==y.shape[0], \"X and y dimensions do not match ({},{}).\".format(X.shape[0],y.shape[0])\n",
    "    if shuffle:\n",
    "        indices = np.arange(X.shape[0])\n",
    "        np.random.shuffle(indices)\n",
    "    for start_index in range(0,X.shape[0],batch_size):\n",
    "        end_index = min(start_index+batch_size,X.shape[0])\n",
    "        if shuffle:\n",
    "            batch_indices = indices[start_index:end_index]\n",
    "        else:\n",
    "            batch_indices = slice(start_index,end_index)\n",
    "        yield X[batch_indices],y[batch_indices]"
   ]
  },
  {
   "cell_type": "code",
   "execution_count": 56,
   "metadata": {},
   "outputs": [],
   "source": [
    "def simulated_annealing(t):# simulated annealing?\n",
    "        t0,t1 = 5,50\n",
    "        return t0/(t+t1)"
   ]
  },
  {
   "cell_type": "code",
   "execution_count": 57,
   "metadata": {},
   "outputs": [],
   "source": [
    "def ols_svd(X:np.ndarray)->np.ndarray:\n",
    "    u, s, v = scl.svd(X)\n",
    "    return np.dot(v.transpose(),np.dot(np.diag(s**-1),u.transpose()))"
   ]
  },
  {
   "cell_type": "code",
   "execution_count": 60,
   "metadata": {},
   "outputs": [],
   "source": [
    "def SGD(XTrain,yTrain,XTest,yTest,gd_method='GD',lr_method='const',init_method='rand',tol=1e-4,\n",
    "        max_iters=200,eta=0.00001,N_epochs=200,N_batches=100,Shuffle=True,seed=None):\n",
    "   \n",
    "    #INIT METHODS\n",
    "    if seed != None:\n",
    "        np.random.seed(seed)\n",
    "    theta = np.random.randn(XTrain.shape[1],1) #if function is convex, start point wont matter, and this is fine\n",
    "    \n",
    "    #LR METHODS\n",
    "    #     u,s,v = np.linalg.svd(XTrain_scaled.T@XTrain_scaled)\n",
    "    #     eta = 2/np.max(s) # learning rate must be smaller than this in order to converge!  \n",
    "    #evt svd igjen for max gamma\n",
    "\n",
    "    ce_prev = 1e6\n",
    "    ce=1e6+1\n",
    "    \n",
    "    #GD METHODS    \n",
    "    if gd_method=='NR': #Newton-Raphson\n",
    "        c=0\n",
    "        theta=np.zeros((XTrain.shape[1],1))\n",
    "        while abs(ce-ce_prev)>tol and c<max_iters:\n",
    "            ce_prev=ce\n",
    "            probs = sigmoid(XTrain@theta)\n",
    "            W = np.zeros(yTrain.shape[0])\n",
    "            for i in range(yTrain.shape[0]):\n",
    "                W[i] = probs[i]*(1-probs[i])\n",
    "            H = XTrain.T@np.diagflat(W)@XTrain\n",
    "            Hinv=np.linalg.inv(H)          \n",
    "            gradient = Gradient(XTrain,theta,yTrain)\n",
    "            theta -= Hinv@gradient\n",
    "            ce = CostFunction(XTrain,theta,yTrain) #used for convergence check\n",
    "            c +=1\n",
    "    if gd_method=='GD': #Gradient Descent\n",
    "        c = 0\n",
    "        while abs(ce-ce_prev)>tol and c<max_iters:\n",
    "            ce_prev=ce\n",
    "            gradient = Gradient(XTrain,theta,yTrain)\n",
    "            theta -= eta*gradient*0.9999\n",
    "            ce = CostFunction(XTrain,theta,yTrain) #used for convergence check\n",
    "            c+=1\n",
    "\n",
    "    if gd_method=='SGD': #Stochastic Gradient Descent\n",
    "        for epoch in range(N_epochs):\n",
    "            for i in range(XTrain.shape[0]):\n",
    "                random_index = np.random.randint(XTrain.shape[0])\n",
    "                xi = XTrain[random_index:random_index+1]\n",
    "                yi = yTrain[random_index:random_index+1]\n",
    "                gradient = Gradient(xi,theta,yi)\n",
    "                eta=simulated_annealing(epoch*N_batches+i)\n",
    "                theta -=eta*gradient\n",
    "\n",
    "    if gd_method =='SGDmb': #Stochastic Gradient Descent with minibatches\n",
    "        for epoch in range(N_epochs):\n",
    "            for batch in BatchIterator(XTrain,yTrain,int(XTrain.shape[0]/N_batches)+1,shuffle=Shuffle):\n",
    "                X_batch,y_batch = batch\n",
    "                gradient = Gradient(X_batch,theta,y_batch)\n",
    "                theta -= eta*gradient\n",
    "            eta=simulated_annealing(epoch) #eller noe?\n",
    "\n",
    "    if gd_method == 'skl': #scikit learn gradient descent\n",
    "        sgd_clf = SGDClassifier(random_state=1,loss='log',tol=1e-5,max_iter=500,penalty='none',alpha=0.,eta0=eta,learning_rate='constant',fit_intercept=False)\n",
    "        sgd_clf.fit(XTrain,yTrain.ravel());\n",
    "        theta = sgd_clf.coef_[0,:].reshape(-1,1)\n",
    "\n",
    "    #CALC AND OUTPUT ACCURACY\n",
    "    y_pred_ = sigmoid(XTest@theta)\n",
    "    y_out = sigmoid(XTest@theta)\n",
    "    y_pred_[y_pred_>=0.5]=1\n",
    "    y_pred_[y_pred_<0.5]=0\n",
    "\n",
    "    forvirring = sklearn.metrics.confusion_matrix(yTest, y_pred_, labels=None, sample_weight=None)\n",
    "    print(forvirring.T)\n",
    "    strings = [\"Accuracy baseline: \",\"Accuracy of {} method: \".format(gd_method)]\n",
    "    print(\"{:26s}   {:5f}\".format(strings[0],Accuracy(yTest,np.zeros((yTest.shape)))))\n",
    "    print(\"{:26s}   {:5f}\".format(strings[1],Accuracy(yTest,y_pred_)))\n",
    "    print(\"---------------------------------------\")\n",
    "    return y_out"
   ]
  },
  {
   "cell_type": "code",
   "execution_count": 61,
   "metadata": {},
   "outputs": [
    {
     "name": "stdout",
     "output_type": "stream",
     "text": [
      "[[11235  2454]\n",
      " [  402   909]]\n",
      "Accuracy baseline:           0.775800\n",
      "Accuracy of NR method:       0.809600\n",
      "---------------------------------------\n",
      "[[11229  2511]\n",
      " [  408   852]]\n",
      "Accuracy baseline:           0.775800\n",
      "Accuracy of skl method:      0.805400\n",
      "---------------------------------------\n"
     ]
    }
   ],
   "source": [
    "XTrain,XTest,yTrain,yTest = ReadData()\n",
    "y_thing_self = SGD(XTrain,yTrain,XTest,yTest,gd_method='NR')\n",
    "y_thing = SGD(XTrain,yTrain,XTest,yTest,gd_method='skl')"
   ]
  },
  {
   "cell_type": "code",
   "execution_count": 65,
   "metadata": {
    "scrolled": false
   },
   "outputs": [
    {
     "data": {
      "text/plain": [
       "<Figure size 432x288 with 0 Axes>"
      ]
     },
     "metadata": {},
     "output_type": "display_data"
    },
    {
     "data": {
      "image/png": "[encoded data removed]",
      "text/plain": [
       "<Figure size 432x288 with 1 Axes>"
      ]
     },
     "metadata": {
      "needs_background": "light"
     },
     "output_type": "display_data"
    },
    {
     "name": "stdout",
     "output_type": "stream",
     "text": [
      "0.7295325023123027\n"
     ]
    },
    {
     "data": {
      "text/plain": [
       "<Figure size 432x288 with 0 Axes>"
      ]
     },
     "metadata": {},
     "output_type": "display_data"
    },
    {
     "data": {
      "image/png": "[encoded data removed]",
      "text/plain": [
       "<Figure size 432x288 with 1 Axes>"
      ]
     },
     "metadata": {
      "needs_background": "light"
     },
     "output_type": "display_data"
    },
    {
     "name": "stdout",
     "output_type": "stream",
     "text": [
      "0.7250088545535862\n"
     ]
    }
   ],
   "source": [
    "defaults = sum(yTest == 1)\n",
    "total = len(yTest)\n",
    "defaultRate = defaults/total\n",
    "\n",
    "def bestCurve(defaults, total, defaultRate):\n",
    "    x = np.linspace(0, 1, total)\n",
    "    \n",
    "    y1 = np.linspace(0, 1, defaults)\n",
    "    y2 = np.ones(total-defaults)\n",
    "    y3 = np.concatenate([y1,y2])\n",
    "    return x, y3\n",
    "\n",
    "\n",
    "\n",
    "\n",
    "cumul = np.zeros(len(y_thing)+1)\n",
    "y_two = np.zeros(len(y_thing))\n",
    "for i in range(len(y_thing)):\n",
    "    y_two[i] = 1-y_thing[i]\n",
    "y_T = np.c_[y_two,y_thing]\n",
    "\n",
    "y_two2 = np.zeros(len(y_thing_self))\n",
    "for i in range(len(y_thing_self)):\n",
    "    y_two2[i] = 1-y_thing_self[i]\n",
    "y_T2 = np.c_[y_two2,y_thing_self]\n",
    "#     if y_thing[i] == 1:\n",
    "#         cumul[i+1] = cumul[i]+1\n",
    "#     else:\n",
    "#         cumul[i+1] = cumul[i]\n",
    "# c = 0\n",
    "# for i  in range(len(yTest)):\n",
    "#     if yTest[i]==1:\n",
    "#         c+=1\n",
    "# print(c)\n",
    "\n",
    "# c = 0\n",
    "# for i  in range(len(yTest)):\n",
    "#     if y_thing[i]==1:\n",
    "#         c+=1\n",
    "# print(c)\n",
    "import scikitplot as skplt\n",
    "# print(np.shape(yTest.ravel()),np.shape(y_thing))\n",
    "y_t = y_thing.reshape(len(y_thing))\n",
    "# print(np.shape(y_t))\n",
    "import matplotlib.pyplot as plt\n",
    "\n",
    "plt.figure()\n",
    "skplt.metrics.plot_cumulative_gain(yTest.ravel(), y_T2)\n",
    "x, best = bestCurve(defaults=defaults, total=total, defaultRate=defaultRate)  \n",
    "# plt.figure()\n",
    "plt.plot(x, best)    \n",
    "plt.ylim(top=1.1)\n",
    "plt.show()\n",
    "print(sklearn.metrics.roc_auc_score(yTest, y_thing_self))\n",
    "plt.figure()\n",
    "skplt.metrics.plot_cumulative_gain(yTest.ravel(), y_T)\n",
    "\n",
    "# plt.plot(cumul)\n",
    "\n",
    "\n",
    "\n",
    "x, best = bestCurve(defaults=defaults, total=total, defaultRate=defaultRate)  \n",
    "# plt.figure()\n",
    "plt.plot(x, best)    \n",
    "plt.ylim(top=1.1)\n",
    "plt.show()\n",
    "\n",
    "print(sklearn.metrics.roc_auc_score(yTest, y_thing))"
   ]
  },
  {
   "cell_type": "code",
   "execution_count": null,
   "metadata": {},
   "outputs": [],
   "source": [
    "#Read data and define methods and initialization seeds to run over\n",
    "XTrain,XTest,yTrain,yTest = ReadData()\n",
    "methods = ['NR','GD','SGD','SGDmb','skl']\n",
    "seeds = [77,9865,75,34,875]\n",
    "seeds = [858,8]"
   ]
  },
  {
   "cell_type": "code",
   "execution_count": null,
   "metadata": {
    "scrolled": false
   },
   "outputs": [],
   "source": [
    "#run regressions\n",
    "for seed in seeds:\n",
    "    print(\"Seed is {}.\".format(seed))\n",
    "    for method in methods:\n",
    "        SGD(XTrain,yTrain,XTest,yTest,gd_method=method,seed=seed)"
   ]
  },
  {
   "cell_type": "code",
   "execution_count": null,
   "metadata": {},
   "outputs": [],
   "source": [
    "# conf matrix!"
   ]
  },
  {
   "cell_type": "code",
   "execution_count": null,
   "metadata": {},
   "outputs": [],
   "source": [
    " sklearn.metrics.confusion_matrix(y_true, y_pred, labels=None, sample_weight=None)"
   ]
  },
  {
   "cell_type": "code",
   "execution_count": 13,
   "metadata": {},
   "outputs": [],
   "source": [
    "import sklearn"
   ]
  },
  {
   "cell_type": "markdown",
   "metadata": {},
   "source": [
    "# NN"
   ]
  },
  {
   "cell_type": "code",
   "execution_count": 938,
   "metadata": {},
   "outputs": [],
   "source": [
    "## start NN fun\n",
    "XTrain,XTest,yTrain,yTest = ReadData()"
   ]
  },
  {
   "cell_type": "code",
   "execution_count": 939,
   "metadata": {},
   "outputs": [],
   "source": [
    "layers = np.arange(1,5)\n",
    "np.random.seed(8)\n",
    "n_nodes_l = np.random.randint(10,100,size=len(layers)-1)\n",
    "\n",
    "n_nodes_in = np.array([XTrain.shape[1]])\n",
    "n_nodes_out = np.array([1])\n",
    "n_nodes = np.c_[[n_nodes_in],[n_nodes_l],[n_nodes_out]]\n",
    "n_nodes = n_nodes.reshape((n_nodes.shape[1],))\n",
    "\n",
    "#create matrix to store a-values\n",
    "a_matrix=[]\n",
    "# initialize\n",
    "a_matrix.append(XTrain)\n",
    "\n",
    "#create random start weights\n",
    "w_matrix = []\n",
    "w_out = np.random.randn(n_nodes[-2],2)\n",
    "#initial weights and biases\n",
    "for i in range(len(layers)): #xavier, he,\n",
    "    np.random.seed(6)\n",
    "    w_matrix.append(np.random.randn(n_nodes[i],n_nodes[i+1]))\n",
    "    a_matrix.append(np.zeros((XTrain.shape[0],n_nodes[i+1])))\n",
    "\n",
    "#create random biases\n",
    "b = np.random.randn(len(layers))"
   ]
  },
  {
   "cell_type": "code",
   "execution_count": 940,
   "metadata": {},
   "outputs": [],
   "source": [
    "# FEED FORWARD\n",
    "for l in range(len(layers)):#burde ikke trenge oppdelingen\n",
    "    if l==len(layers)-1:\n",
    "        z = a_matrix[l]@w_out\n",
    "        a_matrix[l+1] = sigmoid(z)\n",
    "    else:\n",
    "        z = a_matrix[l]@w_matrix[l] + b[l]\n",
    "        a_matrix[l+1] = sigmoid(z)"
   ]
  },
  {
   "cell_type": "code",
   "execution_count": null,
   "metadata": {},
   "outputs": [],
   "source": [
    "class NN:\n",
    "    def __init__(XTrain,yTrain,XTest,yTest):\n",
    "        self.XTest = XTest\n",
    "        self.yTest = yTest\n",
    "        self.XTrain = XTrain\n",
    "        self.yTrain = Train"
   ]
  },
  {
   "cell_type": "code",
   "execution_count": 941,
   "metadata": {},
   "outputs": [],
   "source": [
    "#calculate error\n",
    "\n",
    "# err = (-yTrain*np.log(a_matrix[len(layers)])-(1-yTrain)*np.log(1-a_matrix[len(layers)]))\n",
    "\n",
    "\n",
    "\n",
    "def to_categorical_numpy(integer_vector):\n",
    "    n_inputs = len(integer_vector)\n",
    "    n_categories = np.max(integer_vector) + 1\n",
    "    onehot_vector = np.zeros((n_inputs, n_categories))\n",
    "    onehot_vector[range(n_inputs), integer_vector] = 1\n",
    "    \n",
    "    return onehot_vector\n",
    "\n",
    "#Y_train_onehot, Y_test_onehot = to_categorical(Y_train), to_categorical(Y_test)\n",
    "Y_train_onehot, Y_test_onehot = to_categorical_numpy(yTrain), to_categorical_numpy(yTest)\n"
   ]
  },
  {
   "cell_type": "code",
   "execution_count": 946,
   "metadata": {},
   "outputs": [],
   "source": [
    "#backpropagating\n",
    "probs=a_matrix[len(layers)]\n",
    "\n",
    "for i in reversed(range(len(layers))):\n",
    "    errout= probs-Y_train_onehot\n",
    "    if  i==3:\n",
    "        errhid=(errout@w_out.T)@a_matrix[i].T@(1-a_matrix[i])\n",
    "    else:\n",
    "        errhid = (errhid@w_matrix[i].T)@a_matrix[i].T@(1-a_matrix[i])"
   ]
  },
  {
   "cell_type": "code",
   "execution_count": 944,
   "metadata": {},
   "outputs": [
    {
     "name": "stdout",
     "output_type": "stream",
     "text": [
      "(77, 2) (15000, 2)\n"
     ]
    }
   ],
   "source": [
    "# #calculate gradients\n",
    "out_w_grad = a_matrix[1].T@errout\n",
    "print(np.shape(out_w_grad),np.shape(Y_train_onehot))\n",
    "# jippi, ser riktig ut..."
   ]
  },
  {
   "cell_type": "markdown",
   "metadata": {},
   "source": [
    "# trying classes below"
   ]
  },
  {
   "cell_type": "code",
   "execution_count": 998,
   "metadata": {},
   "outputs": [
    {
     "name": "stdout",
     "output_type": "stream",
     "text": [
      "[ 1.07368134 -0.37550472  0.39636757 -0.47144628  2.33660781  1.50278553\n",
      " -0.59545972  0.52834106  0.9398248   0.42628539 -0.75815703 -0.16236698\n",
      "  0.72680996  0.44408297 -0.85682264  0.44692842 -1.01464799 -2.1323234\n",
      "  0.17386307  0.95120126  0.44189739  1.46901739  1.74951635  0.35353062\n",
      " -0.64333729 -0.04723705 -1.44903979 -0.03618977 -0.09084699  0.17629034\n",
      "  1.09462041]\n",
      "[0.86477354]\n"
     ]
    }
   ],
   "source": [
    "class Node:\n",
    "    def __init__(self,\n",
    "                 weights,\n",
    "                 bias\n",
    "                ):\n",
    "        self.weights = weights\n",
    "        self.bias = bias\n",
    "        \n",
    "    def FeedForward(self,\n",
    "                    in_matrix\n",
    "                   ):\n",
    "        output=[]\n",
    "        for row in range(in_matrix.shape[0]):\n",
    "            y_pred = in_matrix[row]@self.weights+self.bias\n",
    "            output.append(sigmoid(y_pred))\n",
    "        return output\n",
    "    \n",
    "weights=np.random.randn(XTrain.shape[1])\n",
    "print(weights)\n",
    "bias = np.random.randn(1)\n",
    "x=XTrain\n",
    "noddy = Node(w_,bias)\n",
    "print(noddy.FeedForward(x)[0])\n"
   ]
  },
  {
   "cell_type": "code",
   "execution_count": 1006,
   "metadata": {},
   "outputs": [
    {
     "name": "stdout",
     "output_type": "stream",
     "text": [
      "<__main__.Node object at 0x7f1602acf650>\n"
     ]
    }
   ],
   "source": [
    "class Layer:\n",
    "    def __init__(self,\n",
    "                 weights,\n",
    "                 bias,\n",
    "                 nodes\n",
    "                ):\n",
    "        self.weights = weights\n",
    "        self.bias=bias\n",
    "        self.nodes = nodes\n",
    "        \n",
    "        \n",
    "        self.nods = []\n",
    "        for i in range(nodes):\n",
    "            self.nods.append(Node(weights,bias))\n",
    "#         lay = {nodes : Node(weights=weights,bias=bias) for node in range(nodes)}\n",
    "#         print(i for i in np.arange(nodes))\n",
    "#         print()\n",
    "#         print(lay.keys())\n",
    "#         print(lay)\n",
    "#         for key in lay.keys():\n",
    "#             print(key)\n",
    "#         print(lay[12])\n",
    "# print(np.shape(weights))\n",
    "lugg = Layer(weights,bias,12)\n",
    "# print(lugg.weights)\n",
    "print(lugg.nods[0])\n",
    "# "
   ]
  },
  {
   "cell_type": "code",
   "execution_count": 679,
   "metadata": {},
   "outputs": [
    {
     "name": "stdout",
     "output_type": "stream",
     "text": [
      "<__main__.Node object at 0x7f1602a46c50>\n"
     ]
    }
   ],
   "source": [
    "\n",
    "class Network:\n",
    "    def __init__(self):\n",
    "        hidden_layer=np.zeros(4)\n",
    "        next_layer=np.zeros(2)\n",
    "        weights=np.random.randn(XTrain.shape[1])\n",
    "        bias = np.random.randn(1) \n",
    "        h=[]\n",
    "        o=[]\n",
    "        for node in range(len(hidden_layer)):\n",
    "            self.node = Node(weights,bias)\n",
    "#             h.append(Node(weights,bias))\n",
    "#         for node in range(len(next_layer)):\n",
    "#             o.append(Node(weights,bias))\n",
    "            #         self.in = Node(Weights,bias)\n",
    "#         self.out = Node(weights,bias)\n",
    "        print(self.node)\n",
    "#     def FeedForward(self, x):\n",
    "\n",
    "#         out_h1 = self.h1.FeedForward(x)\n",
    "#         out_h2 = self.h2.FeedForward(x)\n",
    "\n",
    "#         # The inputs for o1 are the outputs from h1 and h2\n",
    "#         out_o1 = self.o1.FeedForward(np.array([out_h1, out_h2]))\n",
    "\n",
    "#         return out_o1\n",
    "\n",
    "network = Network()\n",
    "x = XTrain\n",
    "# print(network.FeedForward(x)) # 0.7216325609518421"
   ]
  },
  {
   "cell_type": "code",
   "execution_count": 697,
   "metadata": {},
   "outputs": [],
   "source": [
    "def z_l(W,a,b):\n",
    "    return W@a.T#+b"
   ]
  },
  {
   "cell_type": "code",
   "execution_count": 707,
   "metadata": {},
   "outputs": [
    {
     "ename": "TypeError",
     "evalue": "'tuple' object cannot be interpreted as an integer",
     "output_type": "error",
     "traceback": [
      "\u001b[0;31m---------------------------------------------------------------------------\u001b[0m",
      "\u001b[0;31mTypeError\u001b[0m                                 Traceback (most recent call last)",
      "\u001b[0;32m<ipython-input-707-d63fbc1f4c68>\u001b[0m in \u001b[0;36m<module>\u001b[0;34m\u001b[0m\n\u001b[0;32m----> 1\u001b[0;31m \u001b[0mw1\u001b[0m \u001b[0;34m=\u001b[0m \u001b[0mnp\u001b[0m\u001b[0;34m.\u001b[0m\u001b[0mrandom\u001b[0m\u001b[0;34m.\u001b[0m\u001b[0mrandn\u001b[0m\u001b[0;34m(\u001b[0m\u001b[0;34m(\u001b[0m\u001b[0;36m31\u001b[0m\u001b[0;34m,\u001b[0m\u001b[0;36m10\u001b[0m\u001b[0;34m)\u001b[0m\u001b[0;34m)\u001b[0m\u001b[0;34m\u001b[0m\u001b[0;34m\u001b[0m\u001b[0m\n\u001b[0m\u001b[1;32m      2\u001b[0m \u001b[0mb\u001b[0m\u001b[0;34m=\u001b[0m\u001b[0mnp\u001b[0m\u001b[0;34m.\u001b[0m\u001b[0mrandom\u001b[0m\u001b[0;34m.\u001b[0m\u001b[0mrandn\u001b[0m\u001b[0;34m(\u001b[0m\u001b[0;36m1\u001b[0m\u001b[0;34m)\u001b[0m\u001b[0;34m\u001b[0m\u001b[0;34m\u001b[0m\u001b[0m\n\u001b[1;32m      3\u001b[0m \u001b[0mz\u001b[0m \u001b[0;34m=\u001b[0m \u001b[0mnp\u001b[0m\u001b[0;34m.\u001b[0m\u001b[0mzeros\u001b[0m\u001b[0;34m(\u001b[0m\u001b[0mXTrain\u001b[0m\u001b[0;34m.\u001b[0m\u001b[0mshape\u001b[0m\u001b[0;34m[\u001b[0m\u001b[0;36m0\u001b[0m\u001b[0;34m]\u001b[0m\u001b[0;34m)\u001b[0m\u001b[0;34m\u001b[0m\u001b[0;34m\u001b[0m\u001b[0m\n\u001b[1;32m      4\u001b[0m \u001b[0;34m\u001b[0m\u001b[0m\n\u001b[1;32m      5\u001b[0m \u001b[0mz\u001b[0m \u001b[0;34m=\u001b[0m \u001b[0mw1\u001b[0m\u001b[0;34m@\u001b[0m\u001b[0mXTrain\u001b[0m\u001b[0;34m.\u001b[0m\u001b[0mT\u001b[0m\u001b[0;34m+\u001b[0m\u001b[0mb\u001b[0m\u001b[0;34m\u001b[0m\u001b[0;34m\u001b[0m\u001b[0m\n",
      "\u001b[0;32mmtrand.pyx\u001b[0m in \u001b[0;36mnumpy.random.mtrand.RandomState.randn\u001b[0;34m()\u001b[0m\n",
      "\u001b[0;32mmtrand.pyx\u001b[0m in \u001b[0;36mnumpy.random.mtrand.RandomState.standard_normal\u001b[0;34m()\u001b[0m\n",
      "\u001b[0;32mcommon.pyx\u001b[0m in \u001b[0;36mnumpy.random.common.cont\u001b[0;34m()\u001b[0m\n",
      "\u001b[0;31mTypeError\u001b[0m: 'tuple' object cannot be interpreted as an integer"
     ]
    }
   ],
   "source": [
    "w1 = np.random.randn((31,10))\n",
    "b=np.random.randn(1)\n",
    "z = np.zeros(XTrain.shape[0])\n",
    "\n",
    "z = w1@XTrain.T+b\n",
    "a = sigmoid(z)\n",
    "\n"
   ]
  },
  {
   "cell_type": "code",
   "execution_count": 1052,
   "metadata": {},
   "outputs": [],
   "source": [
    "class Network:\n",
    "    def __init__(\n",
    "            self,\n",
    "            XTrain,\n",
    "            yTrain,\n",
    "            XTest,\n",
    "            yTest,\n",
    "            n_layers,\n",
    "            n_neurons, #per layer\n",
    "            activations, #per layer\n",
    "            batch_size,\n",
    "            n_categories = 2,\n",
    "            epochs = 10,\n",
    "            eta=0.1,\n",
    "            lambda_ = 0.0\n",
    "        ):\n",
    "        her=1\n",
    "#         self.XTrain = XTrain\n",
    "#         self.yTrain = yTrain\n",
    "#         self.XTest  = XTest\n",
    "#         self.yTest  = yTest\n",
    "\n",
    "#DEFINERE DISSE UTENFOR?\n",
    "#     def sigmoid(s): #definere forskjelige slike her under activations\n",
    "#         return 1./(1.+np.exp(-s))\n",
    "    \n",
    "    def ForwardPropagation(\n",
    "            self,\n",
    "            XTrain,\n",
    "            yTrain,\n",
    "            weights,\n",
    "            bias,\n",
    "            activation = 'sigmoid'\n",
    "        ):\n",
    "        z = weights@XTrain.T+bias #kanskje? slang på T litt tilfeldig.\n",
    "        a = sigmoid(z)\n",
    "        return a\n",
    "    \n",
    "#     def CostFunction(\n",
    "    \n",
    "#         ):\n",
    "#         def CostFunction(X,theta,y):\n",
    "#     y_pred= sigmoid(X@theta)\n",
    "#     y_pred_neg = sigmoid(-X@theta)\n",
    "#     cost__ = -y*np.log(y_pred)-(1-y)*np.log(y_pred_neg)\n",
    "#     cost_ = np.sum(cost__,axis=0)\n",
    "# #     print(cost__)\n",
    "#     return cost_/len(y)"
   ]
  },
  {
   "cell_type": "code",
   "execution_count": 1053,
   "metadata": {},
   "outputs": [],
   "source": [
    "net = Network(XTrain,yTrain,XTest,yTest,len(layers),layers,'sigmoid',len(XTrain))"
   ]
  },
  {
   "cell_type": "code",
   "execution_count": 1054,
   "metadata": {},
   "outputs": [],
   "source": [
    "forw = net.ForwardPropagation(XTrain,yTrain,weights,bias)"
   ]
  },
  {
   "cell_type": "code",
   "execution_count": 1055,
   "metadata": {},
   "outputs": [
    {
     "name": "stdout",
     "output_type": "stream",
     "text": [
      "[0.00153019 0.96626006 0.99996153 ... 0.06279218 0.5956789  0.14297028]\n"
     ]
    }
   ],
   "source": [
    "print(forw)"
   ]
  },
  {
   "cell_type": "code",
   "execution_count": null,
   "metadata": {},
   "outputs": [],
   "source": []
  },
  {
   "cell_type": "code",
   "execution_count": 1671,
   "metadata": {},
   "outputs": [],
   "source": [
    "#simplest version first i guess\n",
    "\n",
    "class simple:\n",
    "    def __init__(\n",
    "            self,\n",
    "            XTrain,\n",
    "            yTrain,\n",
    "            XTest,\n",
    "            yTest,\n",
    "            weights,\n",
    "            bias,\n",
    "            n_layers\n",
    "        ):\n",
    "        self.XTrain = XTrain\n",
    "        self.yTrain = yTrain\n",
    "        self.XTest  = XTest\n",
    "        self.yTest  = yTest\n",
    "\n",
    "        a = []\n",
    "        self.a = a\n",
    "        self.a.append(XTrain)\n",
    "        batch_size=len(XTrain)\n",
    "        z = []\n",
    "        self.z = z\n",
    "\n",
    "    def run(self):\n",
    "        batch_size = len(XTrain)\n",
    "        a = []\n",
    "        self.a = a\n",
    "        self.a.append(XTrain)\n",
    "        batch_size=len(XTrain)\n",
    "        z = []\n",
    "        self.z = z\n",
    "        for j in range(1000):\n",
    "#             print(j)\n",
    "\n",
    "    #         forward\n",
    "            for i in range(n_layers):\n",
    "                test = self.a[i]@weights[i]+bias[i]\n",
    "                self.z.append(test)\n",
    "                testa = sigmoid(test)\n",
    "                self.a.append(testa)\n",
    "                \n",
    "            exp_term = np.exp(a[n_layers])\n",
    "            probabilities = exp_term / np.sum(exp_term, axis=1, keepdims=True)\n",
    "\n",
    "#             error = CostFunction(XTrain,weights[0],yTrain)\n",
    "    #         backwards\n",
    "    #         for i in reversed(range(n_layers+1)):\n",
    "            for i in reversed(range(n_layers)):\n",
    "                if i==n_layers-1:\n",
    "#                     dz = self.a[i]-yTrain #error output\n",
    "                    dz = probabilities - self.yTrain\n",
    "                else:\n",
    "#                     print(np.shape(dz),np.shape(weights[i+1]),np.shape(self.z[i]*(1-self.z[i])))\n",
    "    #                 dz = dz@weights[i].T*self.z[i-1]*(1-self.z[i-1]) #error hidden\n",
    "                    dz = dz@weights[i+1]*self.z[i]*(1-self.z[i]) #error hidden\n",
    "#                 print(np.shape(dz),np.shape(a[i]))\n",
    "                dW = (1./batch_size)*dz.T@self.a[i] #weights gradient\n",
    "                weights[i] -= 0.01*dW.T\n",
    "#                 print(np.shape(dW))\n",
    "#                 print(\"-------\")\n",
    "#                 print(np.shape(dz))\n",
    "                db = (1./batch_size)*np.sum(dz.T,axis=1,keepdims=True)#bias gradient\n",
    "#                 print(np.shape(db))\n",
    "                bias[i] -= 0.01*np.mean(db) #GIRDETTE MENING?\n",
    "#                 print(db)\n",
    "#                 bias[i] -= 0.01*db.T\n",
    "#             weights = weights - 0.01*dW\n",
    "            a = []\n",
    "            self.a = a\n",
    "            self.a.append(XTrain)\n",
    "            batch_size=len(XTrain)\n",
    "            z = []\n",
    "            self.z = z\n",
    "        for i in range(n_layers):\n",
    "                test = self.a[i]@weights[i]+bias[i]\n",
    "                self.z.append(test)\n",
    "                testa = sigmoid(test)\n",
    "                self.a.append(testa)\n",
    "                \n",
    "        exp_term = np.exp(a[n_layers])\n",
    "        probabilities = exp_term / np.sum(exp_term, axis=1, keepdims=True)\n",
    "        preds = np.zeros(XTrain.shape[0])\n",
    "        for i in range(probabilities.shape[0]):\n",
    "            for j in range(2):\n",
    "                if probabilities[i][j] >=0.5:\n",
    "                    preds[i] = 1\n",
    "                else:\n",
    "                    preds[i] = 0\n",
    "                \n",
    "#         print(np.shape(probabilities),np.shape(yTrain))\n",
    "#         print(yTrain)\n",
    "#         print(np.shape(Y_train_onehot))\n",
    "#         pred = np.zeros(XTrain.shape[0])\n",
    "#         for i in range(batch_size):\n",
    "#             if probabilities[i][1]>probabilities[i][0]:\n",
    "#                 pred[i] = 1\n",
    "#                 error = CostFunction(XTrain,weights[0],yTrain)\n",
    "        print(Accuracy(preds,yTrain.reshape(yTrain.shape[0])))\n",
    "        print(Accuracy(np.zeros(15000),yTrain.reshape(yTrain.shape[0])))"
   ]
  },
  {
   "cell_type": "code",
   "execution_count": 2304,
   "metadata": {},
   "outputs": [
    {
     "name": "stderr",
     "output_type": "stream",
     "text": [
      "/home/janfki/anaconda3/lib/python3.7/site-packages/ipykernel_launcher.py:57: RuntimeWarning: overflow encountered in multiply\n"
     ]
    },
    {
     "name": "stdout",
     "output_type": "stream",
     "text": [
      "0.7788\n",
      "0.7788\n"
     ]
    }
   ],
   "source": [
    "weights_i=np.random.randn(XTrain.shape[1],2)\n",
    "# print(weights)\n",
    "bias_i = np.random.randn(1)\n",
    "weights_o=np.random.randn(2,2)\n",
    "# print(weights)\n",
    "bias_o = np.random.randn(1)\n",
    "# print(bias)\n",
    "n_layers=2\n",
    "weights = []\n",
    "weights.append(weights_i)\n",
    "weights.append(weights_o)\n",
    "bias = []\n",
    "bias.append(bias_i)\n",
    "bias.append(bias_o)\n",
    "\n",
    "def to_categorical_numpy(integer_vector):\n",
    "    n_inputs = len(integer_vector)\n",
    "    n_categories = np.max(integer_vector) + 1\n",
    "    onehot_vector = np.zeros((n_inputs, n_categories))\n",
    "    onehot_vector[range(n_inputs), integer_vector] = 1\n",
    "    \n",
    "    return onehot_vector\n",
    "\n",
    "#Y_train_onehot, Y_test_onehot = to_categorical(Y_train), to_categorical(Y_test)\n",
    "Y_train_onehot, Y_test_onehot = to_categorical_numpy(yTrain), to_categorical_numpy(yTest)\n",
    "\n",
    "\n",
    "XTrainz=XTrain[:1500,11:]\n",
    "# print(XTrainz)\n",
    "# print(np.shape(Y_train_onehot))\n",
    "simp = simple(XTrainz,Y_train_onehot,XTest,yTest,weights,bias,n_layers)\n",
    "# simp = simple(XTrain,yTrain,XTest,yTest,weights,bias,n_layers)\n",
    "\n",
    "# simp.forw(XTrain)\n",
    "# print(np.shape(weights[0]))\n",
    "simp.run()\n",
    "# print(np.shape(weights[1]),\"h\",np.shape(weights[0]))\n",
    "# print(bias)"
   ]
  },
  {
   "cell_type": "code",
   "execution_count": 1587,
   "metadata": {},
   "outputs": [],
   "source": [
    "#finner en dz, dw og db, så trenger alle disse å endre på. z = matrix(batch_size,1)?"
   ]
  },
  {
   "cell_type": "code",
   "execution_count": 1712,
   "metadata": {},
   "outputs": [],
   "source": [
    "weights_i=np.random.randn(XTrain.shape[1],2)\n",
    "# print(weights)\n",
    "bias_i = np.random.randn(1)\n",
    "weights_o=np.random.randn(2,2)\n",
    "# print(weights)\n",
    "bias_o = np.random.randn(1)\n",
    "# print(bias)\n",
    "n_layers=2\n",
    "weights = []\n",
    "weights.append(weights_i)\n",
    "weights.append(weights_o)\n",
    "bias = []\n",
    "bias.append(bias_i)\n",
    "bias.append(bias_o)"
   ]
  },
  {
   "cell_type": "code",
   "execution_count": 1713,
   "metadata": {},
   "outputs": [],
   "source": [
    "def FF(X,w,b):\n",
    "    z = []\n",
    "    a = []\n",
    "    a.append(X)\n",
    "    for i in range(n_layers):\n",
    "        z.append(a[i]@w[i]+b[i])\n",
    "        a.append(sigmoid(z[i]))\n",
    "    exp_term = np.exp(z[n_layers-1])\n",
    "    probabilities = exp_term / np.sum(exp_term, axis=1, keepdims=True)\n",
    "    return a,probabilities"
   ]
  },
  {
   "cell_type": "code",
   "execution_count": 1744,
   "metadata": {},
   "outputs": [],
   "source": [
    "def BP(X,Y):\n",
    "    a, probabilities = FF(XTrain,weights,bias)\n",
    "    err = probabilities - Y\n",
    "    for i in reversed(range(n_layers)):\n",
    "        print(i,np.shape(err),np.shape(weights[i]))\n",
    "        err_hidd  = err@weights[i]*a[i]*(1-a[i])\n",
    "        print(np.shape(err_hid),np.shape(a[i-1]))\n",
    "        print(\"----\")\n",
    "#         err = err_hid"
   ]
  },
  {
   "cell_type": "code",
   "execution_count": 1745,
   "metadata": {},
   "outputs": [
    {
     "name": "stdout",
     "output_type": "stream",
     "text": [
      "1 (15000, 2) (2, 2)\n",
      "(15000, 77) (15000, 31)\n",
      "----\n",
      "0 (15000, 2) (31, 2)\n"
     ]
    },
    {
     "ename": "ValueError",
     "evalue": "matmul: Input operand 1 has a mismatch in its core dimension 0, with gufunc signature (n?,k),(k,m?)->(n?,m?) (size 31 is different from 2)",
     "output_type": "error",
     "traceback": [
      "\u001b[0;31m---------------------------------------------------------------------------\u001b[0m",
      "\u001b[0;31mValueError\u001b[0m                                Traceback (most recent call last)",
      "\u001b[0;32m<ipython-input-1745-41431b81e2d0>\u001b[0m in \u001b[0;36m<module>\u001b[0;34m\u001b[0m\n\u001b[1;32m      1\u001b[0m \u001b[0;32mfor\u001b[0m \u001b[0mi\u001b[0m \u001b[0;32min\u001b[0m \u001b[0mrange\u001b[0m\u001b[0;34m(\u001b[0m\u001b[0;36m10\u001b[0m\u001b[0;34m)\u001b[0m\u001b[0;34m:\u001b[0m\u001b[0;34m\u001b[0m\u001b[0;34m\u001b[0m\u001b[0m\n\u001b[0;32m----> 2\u001b[0;31m     \u001b[0mBP\u001b[0m\u001b[0;34m(\u001b[0m\u001b[0mXTrain\u001b[0m\u001b[0;34m,\u001b[0m\u001b[0mY_train_onehot\u001b[0m\u001b[0;34m)\u001b[0m\u001b[0;34m\u001b[0m\u001b[0;34m\u001b[0m\u001b[0m\n\u001b[0m",
      "\u001b[0;32m<ipython-input-1744-21f632c7918d>\u001b[0m in \u001b[0;36mBP\u001b[0;34m(X, Y)\u001b[0m\n\u001b[1;32m      4\u001b[0m     \u001b[0;32mfor\u001b[0m \u001b[0mi\u001b[0m \u001b[0;32min\u001b[0m \u001b[0mreversed\u001b[0m\u001b[0;34m(\u001b[0m\u001b[0mrange\u001b[0m\u001b[0;34m(\u001b[0m\u001b[0mn_layers\u001b[0m\u001b[0;34m)\u001b[0m\u001b[0;34m)\u001b[0m\u001b[0;34m:\u001b[0m\u001b[0;34m\u001b[0m\u001b[0;34m\u001b[0m\u001b[0m\n\u001b[1;32m      5\u001b[0m         \u001b[0mprint\u001b[0m\u001b[0;34m(\u001b[0m\u001b[0mi\u001b[0m\u001b[0;34m,\u001b[0m\u001b[0mnp\u001b[0m\u001b[0;34m.\u001b[0m\u001b[0mshape\u001b[0m\u001b[0;34m(\u001b[0m\u001b[0merr\u001b[0m\u001b[0;34m)\u001b[0m\u001b[0;34m,\u001b[0m\u001b[0mnp\u001b[0m\u001b[0;34m.\u001b[0m\u001b[0mshape\u001b[0m\u001b[0;34m(\u001b[0m\u001b[0mweights\u001b[0m\u001b[0;34m[\u001b[0m\u001b[0mi\u001b[0m\u001b[0;34m]\u001b[0m\u001b[0;34m)\u001b[0m\u001b[0;34m)\u001b[0m\u001b[0;34m\u001b[0m\u001b[0;34m\u001b[0m\u001b[0m\n\u001b[0;32m----> 6\u001b[0;31m         \u001b[0merr_hidd\u001b[0m  \u001b[0;34m=\u001b[0m \u001b[0merr\u001b[0m\u001b[0;34m@\u001b[0m\u001b[0mweights\u001b[0m\u001b[0;34m[\u001b[0m\u001b[0mi\u001b[0m\u001b[0;34m]\u001b[0m\u001b[0;34m*\u001b[0m\u001b[0ma\u001b[0m\u001b[0;34m[\u001b[0m\u001b[0mi\u001b[0m\u001b[0;34m]\u001b[0m\u001b[0;34m*\u001b[0m\u001b[0;34m(\u001b[0m\u001b[0;36m1\u001b[0m\u001b[0;34m-\u001b[0m\u001b[0ma\u001b[0m\u001b[0;34m[\u001b[0m\u001b[0mi\u001b[0m\u001b[0;34m]\u001b[0m\u001b[0;34m)\u001b[0m\u001b[0;34m\u001b[0m\u001b[0;34m\u001b[0m\u001b[0m\n\u001b[0m\u001b[1;32m      7\u001b[0m         \u001b[0mprint\u001b[0m\u001b[0;34m(\u001b[0m\u001b[0mnp\u001b[0m\u001b[0;34m.\u001b[0m\u001b[0mshape\u001b[0m\u001b[0;34m(\u001b[0m\u001b[0merr_hid\u001b[0m\u001b[0;34m)\u001b[0m\u001b[0;34m,\u001b[0m\u001b[0mnp\u001b[0m\u001b[0;34m.\u001b[0m\u001b[0mshape\u001b[0m\u001b[0;34m(\u001b[0m\u001b[0ma\u001b[0m\u001b[0;34m[\u001b[0m\u001b[0mi\u001b[0m\u001b[0;34m-\u001b[0m\u001b[0;36m1\u001b[0m\u001b[0;34m]\u001b[0m\u001b[0;34m)\u001b[0m\u001b[0;34m)\u001b[0m\u001b[0;34m\u001b[0m\u001b[0;34m\u001b[0m\u001b[0m\n\u001b[1;32m      8\u001b[0m         \u001b[0mprint\u001b[0m\u001b[0;34m(\u001b[0m\u001b[0;34m\"----\"\u001b[0m\u001b[0;34m)\u001b[0m\u001b[0;34m\u001b[0m\u001b[0;34m\u001b[0m\u001b[0m\n",
      "\u001b[0;31mValueError\u001b[0m: matmul: Input operand 1 has a mismatch in its core dimension 0, with gufunc signature (n?,k),(k,m?)->(n?,m?) (size 31 is different from 2)"
     ]
    }
   ],
   "source": [
    "for i in range(10):\n",
    "    BP(XTrain,Y_train_onehot)"
   ]
  },
  {
   "cell_type": "code",
   "execution_count": null,
   "metadata": {},
   "outputs": [],
   "source": []
  },
  {
   "cell_type": "code",
   "execution_count": null,
   "metadata": {},
   "outputs": [],
   "source": []
  },
  {
   "cell_type": "code",
   "execution_count": 2433,
   "metadata": {},
   "outputs": [
    {
     "name": "stdout",
     "output_type": "stream",
     "text": [
      "(1797, 8, 8)\n",
      "inputs = (n_inputs, pixel_width, pixel_height) = (1797, 8, 8)\n",
      "labels = (n_inputs) = (1797,)\n"
     ]
    }
   ],
   "source": [
    "# import necessary packages\n",
    "import numpy as np\n",
    "import matplotlib.pyplot as plt\n",
    "from sklearn import datasets\n",
    "\n",
    "\n",
    "# ensure the same random numbers appear every time\n",
    "np.random.seed(0)\n",
    "\n",
    "# display images in notebook\n",
    "%matplotlib inline\n",
    "plt.rcParams['figure.figsize'] = (12,12)\n",
    "\n",
    "\n",
    "# download MNIST dataset\n",
    "digits = datasets.load_digits()\n",
    "\n",
    "# define inputs and labels\n",
    "inputs = digits.images\n",
    "labels = digits.target\n",
    "\n",
    "print(np.shape(inputs))\n",
    "print(\"inputs = (n_inputs, pixel_width, pixel_height) = \" + str(inputs.shape))\n",
    "print(\"labels = (n_inputs) = \" + str(labels.shape))\n",
    "\n",
    "\n",
    "# flatten the image\n",
    "# the value -1 means dimension is inferred from the remaining dimensions: 8x8 = 64\n",
    "n_inputs = len(inputs)\n",
    "inputs = inputs.reshape(n_inputs, -1)\n",
    "from sklearn.model_selection import train_test_split\n",
    "\n",
    "# one-liner from scikit-learn library\n",
    "train_size = 0.8\n",
    "test_size = 1 - train_size\n",
    "X_train, X_test, Y_train, Y_test = train_test_split(inputs, labels, train_size=train_size,\n",
    "                                                    test_size=test_size)\n",
    "\n",
    "\n",
    "# building our neural network\n",
    "\n",
    "n_inputs, n_features = X_train.shape\n",
    "n_hidden_neurons = 50\n",
    "n_categories = 10\n",
    "\n",
    "# we make the weights normally distributed using numpy.random.randn\n",
    "\n",
    "# weights and bias in the hidden layer\n",
    "hidden_weights = np.random.randn(n_features, n_hidden_neurons)\n",
    "hidden_bias = np.zeros(n_hidden_neurons) + 0.01\n",
    "\n",
    "# weights and bias in the output layer\n",
    "output_weights = np.random.randn(n_hidden_neurons, n_categories)\n",
    "output_bias = np.zeros(n_categories) + 0.01\n",
    "def to_categorical_numpy(integer_vector):\n",
    "    n_inputs = len(integer_vector)\n",
    "    n_categories = np.max(integer_vector) + 1\n",
    "    onehot_vector = np.zeros((n_inputs, n_categories))\n",
    "    onehot_vector[range(n_inputs), integer_vector] = 1\n",
    "    \n",
    "    return onehot_vector\n",
    "from keras.utils import to_categorical\n",
    "\n",
    "Y_train_onehot, Y_test_onehot = to_categorical(Y_train), to_categorical(Y_test)\n",
    "\n"
   ]
  },
  {
   "cell_type": "code",
   "execution_count": null,
   "metadata": {},
   "outputs": [],
   "source": []
  },
  {
   "cell_type": "markdown",
   "metadata": {},
   "source": [
    "# PROGRAM USING FUNCTIONS!"
   ]
  },
  {
   "cell_type": "code",
   "execution_count": 2605,
   "metadata": {},
   "outputs": [],
   "source": [
    "nn_architecture = [\n",
    "    {\"input_dim\": 31, \"output_dim\": 4, \"activation\": \"relu\"},\n",
    "    {\"input_dim\": 4, \"output_dim\": 6, \"activation\": \"relu\"},\n",
    "    {\"input_dim\": 6, \"output_dim\": 6, \"activation\": \"relu\"},\n",
    "    {\"input_dim\": 6, \"output_dim\": 4, \"activation\": \"relu\"},\n",
    "    {\"input_dim\": 4, \"output_dim\": 1, \"activation\": \"sigmoid\"},\n",
    "\n",
    "]"
   ]
  },
  {
   "cell_type": "code",
   "execution_count": 2606,
   "metadata": {},
   "outputs": [],
   "source": [
    "def init_layers(nn_architecture, seed = 99):\n",
    "    np.random.seed(seed)\n",
    "    number_of_layers = len(nn_architecture)\n",
    "    params_values = {}\n",
    "\n",
    "    for idx, layer in enumerate(nn_architecture):\n",
    "        layer_idx = idx + 1\n",
    "        layer_input_size = layer[\"input_dim\"]\n",
    "        layer_output_size = layer[\"output_dim\"]\n",
    "        \n",
    "        params_values['W' + str(layer_idx)] = np.random.randn(\n",
    "            layer_output_size, layer_input_size) * 0.1\n",
    "        params_values['b' + str(layer_idx)] = np.random.randn(\n",
    "            layer_output_size, 1) * 0.1\n",
    "        \n",
    "    return params_values"
   ]
  },
  {
   "cell_type": "code",
   "execution_count": 2607,
   "metadata": {},
   "outputs": [],
   "source": [
    "def sigmoid(Z):\n",
    "    return 1/(1+np.exp(-Z))\n",
    "\n",
    "def relu(Z):\n",
    "    return np.maximum(0,Z)\n",
    "\n",
    "def sigmoid_backward(dA, Z):\n",
    "    sig = sigmoid(Z)\n",
    "    return dA * sig * (1 - sig)\n",
    "\n",
    "def relu_backward(dA, Z):\n",
    "    dZ = np.array(dA, copy = True)\n",
    "    dZ[Z <= 0] = 0;\n",
    "    return dZ;"
   ]
  },
  {
   "cell_type": "code",
   "execution_count": 2608,
   "metadata": {},
   "outputs": [],
   "source": [
    "def single_layer_forward_propagation(A_prev, W_curr, b_curr, activation=\"relu\"):\n",
    "    Z_curr = np.dot(W_curr, A_prev) + b_curr\n",
    "    \n",
    "    if activation is \"relu\":\n",
    "        activation_func = relu\n",
    "    elif activation is \"sigmoid\":\n",
    "        activation_func = sigmoid\n",
    "    else:\n",
    "        raise Exception('Non-supported activation function')\n",
    "        \n",
    "    return activation_func(Z_curr), Z_curr"
   ]
  },
  {
   "cell_type": "code",
   "execution_count": 2609,
   "metadata": {},
   "outputs": [],
   "source": [
    "def full_forward_propagation(X, params_values, nn_architecture):\n",
    "    memory = {}\n",
    "    A_curr = X\n",
    "    \n",
    "    for idx, layer in enumerate(nn_architecture):\n",
    "        layer_idx = idx + 1\n",
    "        A_prev = A_curr\n",
    "        \n",
    "        activ_function_curr = layer[\"activation\"]\n",
    "        W_curr = params_values[\"W\" + str(layer_idx)]\n",
    "        b_curr = params_values[\"b\" + str(layer_idx)]\n",
    "        A_curr, Z_curr = single_layer_forward_propagation(A_prev, W_curr, b_curr, activ_function_curr)\n",
    "        \n",
    "        memory[\"A\" + str(idx)] = A_prev\n",
    "        memory[\"Z\" + str(layer_idx)] = Z_curr\n",
    "       \n",
    "    return A_curr, memory"
   ]
  },
  {
   "cell_type": "code",
   "execution_count": 2547,
   "metadata": {},
   "outputs": [],
   "source": [
    "def get_cost_value(Y_hat, Y):\n",
    "    m = Y_hat.shape[1]\n",
    "    cost = -1 / m * (np.dot(Y, np.log(Y_hat).T) + np.dot(1 - Y, np.log(1 - Y_hat).T))\n",
    "    return np.squeeze(cost)\n",
    "    \n",
    "def convert_prob_into_class(probs):\n",
    "                    probs_ = np.copy(probs)\n",
    "                    probs_[probs_ > 0.5] = 1\n",
    "                    probs_[probs_ <= 0.5] = 0\n",
    "                    return probs_\n",
    "                \n",
    "def get_accuracy_value(Y_hat, Y):\n",
    "    Y_hat_ = convert_prob_into_class(Y_hat)\n",
    "    return (Y_hat_ == Y).all(axis=0).mean()"
   ]
  },
  {
   "cell_type": "code",
   "execution_count": 2610,
   "metadata": {},
   "outputs": [],
   "source": [
    "def single_layer_backward_propagation(dA_curr, W_curr, b_curr, Z_curr, A_prev, activation=\"relu\"):\n",
    "    m = A_prev.shape[1]\n",
    "    \n",
    "    if activation is \"relu\":\n",
    "        backward_activation_func = relu_backward\n",
    "    elif activation is \"sigmoid\":\n",
    "        backward_activation_func = sigmoid_backward\n",
    "    else:\n",
    "        raise Exception('Non-supported activation function')\n",
    "    \n",
    "    dZ_curr = backward_activation_func(dA_curr, Z_curr)\n",
    "    dW_curr = np.dot(dZ_curr, A_prev.T) / m\n",
    "    db_curr = np.sum(dZ_curr, axis=1, keepdims=True) / m\n",
    "    dA_prev = np.dot(W_curr.T, dZ_curr)\n",
    "\n",
    "    return dA_prev, dW_curr, db_curr"
   ]
  },
  {
   "cell_type": "code",
   "execution_count": 2549,
   "metadata": {},
   "outputs": [],
   "source": [
    "def full_backward_propagation(Y_hat, Y, memory, params_values, nn_architecture):\n",
    "    grads_values = {}\n",
    "    m = Y.shape[1]\n",
    "    Y = Y.reshape(Y_hat.shape)\n",
    "   \n",
    "    dA_prev = - (np.divide(Y, Y_hat) - np.divide(1 - Y, 1 - Y_hat));\n",
    "    \n",
    "    for layer_idx_prev, layer in reversed(list(enumerate(nn_architecture))):\n",
    "        layer_idx_curr = layer_idx_prev + 1\n",
    "        activ_function_curr = layer[\"activation\"]\n",
    "        \n",
    "        dA_curr = dA_prev\n",
    "        \n",
    "        A_prev = memory[\"A\" + str(layer_idx_prev)]\n",
    "        Z_curr = memory[\"Z\" + str(layer_idx_curr)]\n",
    "        W_curr = params_values[\"W\" + str(layer_idx_curr)]\n",
    "        b_curr = params_values[\"b\" + str(layer_idx_curr)]\n",
    "        \n",
    "        dA_prev, dW_curr, db_curr = single_layer_backward_propagation(\n",
    "            dA_curr, W_curr, b_curr, Z_curr, A_prev, activ_function_curr)\n",
    "        \n",
    "        grads_values[\"dW\" + str(layer_idx_curr)] = dW_curr\n",
    "        grads_values[\"db\" + str(layer_idx_curr)] = db_curr\n",
    "    \n",
    "    return grads_values"
   ]
  },
  {
   "cell_type": "code",
   "execution_count": 2601,
   "metadata": {},
   "outputs": [],
   "source": [
    "def update(params_values, grads_values, nn_architecture, learning_rate):\n",
    "    for layer_idx, layer in enumerate(nn_architecture,1):\n",
    "        params_values[\"W\" + str(layer_idx)] -= learning_rate * grads_values[\"dW\" + str(layer_idx)]        \n",
    "        params_values[\"b\" + str(layer_idx)] -= learning_rate * grads_values[\"db\" + str(layer_idx)]\n",
    "\n",
    "    return params_values;"
   ]
  },
  {
   "cell_type": "code",
   "execution_count": 2611,
   "metadata": {},
   "outputs": [],
   "source": [
    "def train(X, Y, nn_architecture, epochs, learning_rate):\n",
    "    params_values = init_layers(nn_architecture, 2)\n",
    "    cost_history = []\n",
    "    accuracy_history = []\n",
    "    y_things=[]\n",
    "    for i in range(epochs):\n",
    "        Y_hat, cashe = full_forward_propagation(X, params_values, nn_architecture)\n",
    "        cost = get_cost_value(Y_hat, Y)\n",
    "        cost_history.append(cost)\n",
    "        accuracy = get_accuracy_value(Y_hat, Y)\n",
    "        accuracy_history.append(accuracy)\n",
    "        y_things.append(Y_hat)\n",
    "        grads_values = full_backward_propagation(Y_hat, Y, cashe, params_values, nn_architecture)\n",
    "        params_values = update(params_values, grads_values, nn_architecture, learning_rate)\n",
    "    return params_values, cost_history, accuracy_history,y_things"
   ]
  },
  {
   "cell_type": "code",
   "execution_count": 2669,
   "metadata": {
    "scrolled": false
   },
   "outputs": [],
   "source": []
  },
  {
   "cell_type": "code",
   "execution_count": 2749,
   "metadata": {},
   "outputs": [
    {
     "name": "stdout",
     "output_type": "stream",
     "text": [
      "Test set accuracy: 0.82 \n",
      "Zero set accuracy: 0.78 \n"
     ]
    }
   ],
   "source": [
    "XTrain,XTest,yTrain,yTest=ReadData()\n",
    "Y_train_onehot, Y_test_onehot = to_categorical(yTrain), to_categorical(yTest)\n",
    "\n",
    "nn_architecture = [\n",
    "    {\"input_dim\": 31, \"output_dim\": 100, \"activation\": \"relu\"},\n",
    "    {\"input_dim\": 100, \"output_dim\": 50, \"activation\": \"relu\"},\n",
    "    {\"input_dim\": 50, \"output_dim\": 1, \"activation\": \"sigmoid\"},\n",
    "]\n",
    "\n",
    "para,cos,acc,y = train(XTrain.T,yTrain.T, nn_architecture,1000,1.e-01)\n",
    "Y_test_hat,_ = full_forward_propagation(XTest.T,para,nn_architecture)\n",
    "# acc_test = get_accuracy_value(predd.T,yTest.T)\n",
    "# print(\"Test set accuracy: \",acc_test)\n",
    "# zeroses = np.zeros((1,15000))\n",
    "# acc_test = get_accuracy_value(yTest.T,zeroses.T)\n",
    "# print(\"Zero set accuracy: \",acc_test)\n",
    "\n",
    "# Accuracy achieved on the test set\n",
    "acc_test = get_accuracy_value(Y_test_hat, np.transpose(yTest.reshape((yTest.shape[0], 1))))\n",
    "print(\"Test set accuracy: {:.2f} \".format(acc_test))\n",
    "zerot = np.zeros(yTest.shape[0])\n",
    "acc_test = get_accuracy_value(np.transpose(yTest.reshape((yTest.shape[0], 1))), np.transpose(zerot.reshape((zerot.shape[0], 1))))\n",
    "print(\"Zero set accuracy: {:.2f} \".format(acc_test))\n"
   ]
  },
  {
   "cell_type": "code",
   "execution_count": 2733,
   "metadata": {},
   "outputs": [
    {
     "name": "stdout",
     "output_type": "stream",
     "text": [
      "0.2211996523360696\n",
      "[[6644 5038]\n",
      " [1809 1509]]\n",
      "(15000,) (15000,)\n",
      "0.5435333333333333\n",
      "0.7788\n"
     ]
    }
   ],
   "source": [
    "# print(yTest)\n",
    "# print(Y_test_hat)\n",
    "print(np.mean(Y_test_hat))\n",
    "def convert_prob_into_class2(probs):\n",
    "                    probs_ = np.copy(probs)\n",
    "                    p=0.221199\n",
    "                    probs_[probs_ > p] = 1\n",
    "                    probs_[probs_ <= p] = 0\n",
    "                    return probs_\n",
    "Y_test_binaried = convert_prob_into_class2(Y_test_hat)\n",
    "Y_test_binaried = Y_test_binaried.reshape(Y_test_binaried.shape[1])\n",
    "yTest = yTest.reshape(yTest.shape[0])\n",
    "# print(np.shape(Y_test_binaried),np.shape(yTest))\n",
    "forvirring = sklearn.metrics.confusion_matrix(yTest, Y_test_binaried, labels=None, sample_weight=None)\n",
    "print(forvirring)\n",
    "print(np.shape(Y_test_binaried),np.shape(yTest))\n",
    "# print(get_accuracy_value2(yTest.T,Y_test_hat.T))\n",
    "print(Accuracy(yTest,Y_test_binaried))\n",
    "print(Accuracy(yTest,zerot))"
   ]
  },
  {
   "cell_type": "code",
   "execution_count": 2653,
   "metadata": {},
   "outputs": [
    {
     "name": "stdout",
     "output_type": "stream",
     "text": [
      "Test set accuracy: 0.98 \n",
      "Zero set accuracy: 0.54 \n"
     ]
    }
   ],
   "source": [
    "\n",
    "\n",
    "NN_ARCHITECTURE = [\n",
    "    {\"input_dim\": 2, \"output_dim\": 25, \"activation\": \"relu\"},\n",
    "    {\"input_dim\": 25, \"output_dim\": 50, \"activation\": \"relu\"},\n",
    "    {\"input_dim\": 50, \"output_dim\": 50, \"activation\": \"relu\"},\n",
    "    {\"input_dim\": 50, \"output_dim\": 25, \"activation\": \"relu\"},\n",
    "    {\"input_dim\": 25, \"output_dim\": 1, \"activation\": \"sigmoid\"},\n",
    "]\n",
    "\n",
    "\n",
    "\n",
    "# number of samples in the data set\n",
    "N_SAMPLES = 1000\n",
    "# ratio between training and test sets\n",
    "TEST_SIZE = 0.1\n",
    "from sklearn.datasets import make_moons\n",
    "\n",
    "\n",
    "X, y = make_moons(n_samples = N_SAMPLES, noise=0.2, random_state=100)\n",
    "X_train, X_test, y_train, y_test = train_test_split(X, y, test_size=TEST_SIZE, random_state=42)\n",
    "\n",
    "\n",
    "\n",
    "# Training\n",
    "params_values = train(np.transpose(X_train), np.transpose(y_train.reshape((y_train.shape[0], 1))), NN_ARCHITECTURE, 10000, 0.01)[0]\n",
    "# Prediction\n",
    "Y_test_hat, _ = full_forward_propagation(np.transpose(X_test), params_values, NN_ARCHITECTURE)\n",
    "# acc_test = get_accuracy_value(params_values,y_test.T)\n",
    "\n",
    "# Accuracy achieved on the test set\n",
    "acc_test = get_accuracy_value(Y_test_hat, np.transpose(y_test.reshape((y_test.shape[0], 1))))\n",
    "print(\"Test set accuracy: {:.2f} \".format(acc_test))\n",
    "zerot = np.zeros(y_test.shape[0])\n",
    "acc_test = get_accuracy_value(np.transpose(y_test.reshape((y_test.shape[0], 1))), np.transpose(zerot.reshape((zerot.shape[0], 1))))\n",
    "print(\"Zero set accuracy: {:.2f} \".format(acc_test))"
   ]
  },
  {
   "cell_type": "code",
   "execution_count": 2647,
   "metadata": {},
   "outputs": [
    {
     "name": "stdout",
     "output_type": "stream",
     "text": [
      "<class 'numpy.ndarray'> (1, 100)\n",
      "<class 'numpy.ndarray'> (100,)\n",
      "0.9998952362783228\n"
     ]
    }
   ],
   "source": [
    "print(type(Y_test_hat),np.shape(Y_test_hat))\n",
    "print(type(y_test),np.shape(y_test))\n",
    "print(np.max(Y_test_hat))"
   ]
  },
  {
   "cell_type": "code",
   "execution_count": 2658,
   "metadata": {},
   "outputs": [
    {
     "name": "stdout",
     "output_type": "stream",
     "text": [
      "(100,)\n",
      "Test set accuracy: 0.68 \n",
      "Zero set accuracy: 0.46 \n"
     ]
    }
   ],
   "source": [
    "\n",
    "\n",
    "NN_ARCHITECTURE = [\n",
    "    {\"input_dim\": 2, \"output_dim\": 25, \"activation\": \"relu\"},\n",
    "    {\"input_dim\": 25, \"output_dim\": 50, \"activation\": \"relu\"},\n",
    "    {\"input_dim\": 50, \"output_dim\": 50, \"activation\": \"relu\"},\n",
    "    {\"input_dim\": 50, \"output_dim\": 25, \"activation\": \"relu\"},\n",
    "    {\"input_dim\": 25, \"output_dim\": 1, \"activation\": \"sigmoid\"},\n",
    "]\n",
    "\n",
    "\n",
    "\n",
    "# number of samples in the data set\n",
    "N_SAMPLES = 1000\n",
    "# ratio between training and test sets\n",
    "TEST_SIZE = 0.1\n",
    "from sklearn.datasets import make_circles\n",
    "\n",
    "\n",
    "X, y = make_circles(n_samples = N_SAMPLES, noise=0.2, random_state=100)\n",
    "X_train, X_test, y_train, y_test = train_test_split(X, y, test_size=TEST_SIZE, random_state=42)\n",
    "print(np.shape(y_test))\n",
    "\n",
    "# Training\n",
    "params_values = train(np.transpose(X_train), np.transpose(y_train.reshape((y_train.shape[0], 1))), NN_ARCHITECTURE, 10000, 0.1)[0]\n",
    "# Prediction\n",
    "Y_test_hat, _ = full_forward_propagation(np.transpose(X_test), params_values, NN_ARCHITECTURE)\n",
    "# acc_test = get_accuracy_value(params_values,y_test.T)\n",
    "\n",
    "# Accuracy achieved on the test set\n",
    "acc_test = get_accuracy_value(Y_test_hat, np.transpose(y_test.reshape((y_test.shape[0], 1))))\n",
    "print(\"Test set accuracy: {:.2f} \".format(acc_test))\n",
    "zerot = np.ones(y_test.shape[0])\n",
    "acc_test = get_accuracy_value(np.transpose(y_test.reshape((y_test.shape[0], 1))), np.transpose(zerot.reshape((zerot.shape[0], 1))))\n",
    "print(\"Zero set accuracy: {:.2f} \".format(acc_test))"
   ]
  },
  {
   "cell_type": "code",
   "execution_count": 1791,
   "metadata": {},
   "outputs": [
    {
     "data": {
      "text/plain": [
       "<Figure size 432x288 with 0 Axes>"
      ]
     },
     "metadata": {},
     "output_type": "display_data"
    },
    {
     "data": {
      "image/png": "[encoded data removed]",
      "text/plain": [
       "<Figure size 432x288 with 1 Axes>"
      ]
     },
     "metadata": {
      "needs_background": "light"
     },
     "output_type": "display_data"
    },
    {
     "name": "stdout",
     "output_type": "stream",
     "text": [
      "0.7295325023123027\n"
     ]
    },
    {
     "data": {
      "text/plain": [
       "<Figure size 432x288 with 0 Axes>"
      ]
     },
     "metadata": {},
     "output_type": "display_data"
    },
    {
     "data": {
      "image/png": "[encoded data removed]",
      "text/plain": [
       "<Figure size 432x288 with 1 Axes>"
      ]
     },
     "metadata": {
      "needs_background": "light"
     },
     "output_type": "display_data"
    },
    {
     "name": "stdout",
     "output_type": "stream",
     "text": [
      "0.5\n"
     ]
    }
   ],
   "source": [
    "defaults = sum(yTest == 1)\n",
    "total = len(yTest)\n",
    "defaultRate = defaults/total\n",
    "\n",
    "def bestCurve(defaults, total, defaultRate):\n",
    "    x = np.linspace(0, 1, total)\n",
    "    \n",
    "    y1 = np.linspace(0, 1, defaults)\n",
    "    y2 = np.ones(total-defaults)\n",
    "    y3 = np.concatenate([y1,y2])\n",
    "    return x, y3\n",
    "\n",
    "\n",
    "\n",
    "\n",
    "cumul = np.zeros(len(y_thing)+1)\n",
    "y_two = np.zeros(len(y_thing))\n",
    "for i in range(len(y_thing)):\n",
    "    y_two[i] = 1-y_thing[i]\n",
    "y_T = np.c_[y_two,y_thing]\n",
    "\n",
    "y_two2 = np.zeros(len(y_thing_self))\n",
    "for i in range(len(y_thing_self)):\n",
    "    y_two2[i] = 1-y_thing_self[i]\n",
    "y_T2 = np.c_[y_two2,y_thing_self]\n",
    "#     if y_thing[i] == 1:\n",
    "#         cumul[i+1] = cumul[i]+1\n",
    "#     else:\n",
    "#         cumul[i+1] = cumul[i]\n",
    "# c = 0\n",
    "# for i  in range(len(yTest)):\n",
    "#     if yTest[i]==1:\n",
    "#         c+=1\n",
    "# print(c)\n",
    "\n",
    "# c = 0\n",
    "# for i  in range(len(yTest)):\n",
    "#     if y_thing[i]==1:\n",
    "#         c+=1\n",
    "# print(c)\n",
    "import scikitplot as skplt\n",
    "# print(np.shape(yTest.ravel()),np.shape(y_thing))\n",
    "y_t = y_thing.reshape(len(y_thing))\n",
    "# print(np.shape(y_t))\n",
    "import matplotlib.pyplot as plt\n",
    "\n",
    "plt.figure()\n",
    "skplt.metrics.plot_cumulative_gain(yTest.ravel(), y_T2)\n",
    "x, best = bestCurve(defaults=defaults, total=total, defaultRate=defaultRate)  \n",
    "# plt.figure()\n",
    "plt.plot(x, best)    \n",
    "plt.ylim(top=1.1)\n",
    "plt.show()\n",
    "print(sklearn.metrics.roc_auc_score(yTest, y_thing_self))\n",
    "plt.figure()\n",
    "skplt.metrics.plot_cumulative_gain(yTest.ravel(), y_T)\n",
    "\n",
    "# plt.plot(cumul)\n",
    "\n",
    "\n",
    "\n",
    "x, best = bestCurve(defaults=defaults, total=total, defaultRate=defaultRate)  \n",
    "# plt.figure()\n",
    "plt.plot(x, best)    \n",
    "plt.ylim(top=1.1)\n",
    "plt.show()\n",
    "\n",
    "print(sklearn.metrics.roc_auc_score(yTest, y_thing))"
   ]
  },
  {
   "cell_type": "code",
   "execution_count": null,
   "metadata": {},
   "outputs": [],
   "source": []
  },
  {
   "cell_type": "code",
   "execution_count": null,
   "metadata": {},
   "outputs": [],
   "source": []
  },
  {
   "cell_type": "code",
   "execution_count": null,
   "metadata": {},
   "outputs": [],
   "source": []
  },
  {
   "cell_type": "code",
   "execution_count": null,
   "metadata": {},
   "outputs": [],
   "source": []
  },
  {
   "cell_type": "markdown",
   "metadata": {},
   "source": [
    "# MORTEN TENSOR FLOW"
   ]
  },
  {
   "cell_type": "code",
   "execution_count": 1824,
   "metadata": {},
   "outputs": [],
   "source": [
    "import tensorflow as tf\n",
    "class NeuralNetworkTensorflow:\n",
    "    def __init__(\n",
    "            self,\n",
    "            X_train,\n",
    "            Y_train,\n",
    "            X_test,\n",
    "            Y_test,\n",
    "            n_neurons_layer1=100,\n",
    "            n_neurons_layer2=50,\n",
    "            n_categories=2,\n",
    "            epochs=10,\n",
    "            batch_size=100,\n",
    "            eta=0.1,\n",
    "            lmbd=0.0):\n",
    "        \n",
    "        # keep track of number of steps\n",
    "        self.global_step = tf.Variable(0, dtype=tf.int32, trainable=False, name='global_step')\n",
    "        \n",
    "        self.X_train = X_train\n",
    "        self.Y_train = Y_train\n",
    "        self.X_test = X_test\n",
    "        self.Y_test = Y_test\n",
    "        \n",
    "        self.n_inputs = X_train.shape[0]\n",
    "        self.n_features = X_train.shape[1]\n",
    "        self.n_neurons_layer1 = n_neurons_layer1\n",
    "        self.n_neurons_layer2 = n_neurons_layer2\n",
    "        self.n_categories = n_categories\n",
    "        \n",
    "        self.epochs = epochs\n",
    "        self.batch_size = batch_size\n",
    "        self.iterations = self.n_inputs // self.batch_size\n",
    "        self.eta = eta\n",
    "        self.lmbd = lmbd\n",
    "        \n",
    "        # build network piece by piece\n",
    "        # name scopes (with) are used to enforce creation of new variables\n",
    "        # https://www.tensorflow.org/guide/variables\n",
    "        self.create_placeholders()\n",
    "        self.create_DNN()\n",
    "        self.create_loss()\n",
    "        self.create_optimiser()\n",
    "        self.create_accuracy()\n",
    "    \n",
    "    def create_placeholders(self):\n",
    "        # placeholders are fine here, but \"Datasets\" are the preferred method\n",
    "        # of streaming data into a model\n",
    "        with tf.compat.v1.name_scope('data'):\n",
    "#             tf.compat.v1.placeholder\n",
    "            self.X = tf.compat.v1.placeholder(tf.float32, shape=(None, self.n_features), name='X_data')\n",
    "            self.Y = tf.compat.v1.placeholder(tf.float32, shape=(None, self.n_categories), name='Y_data')\n",
    "#             self.X = tf.compat.v1.placeholder(tf.float32, shape=(None, self.n_features), name='X_data')\n",
    "#             self.Y = tf.compat.v1.placeholder(tf.float32, shape=(None, self.n_categories), name='Y_data')\n",
    "    \n",
    "    def create_DNN(self):\n",
    "        with tf.compat.v1.name_scope('DNN'):\n",
    "            # the weights are stored to calculate regularization loss later\n",
    "            \n",
    "            # Fully connected layer 1\n",
    "            self.W_fc1 = self.weight_variable([self.n_features, self.n_neurons_layer1], name='fc1', dtype=tf.float32)\n",
    "            b_fc1 = self.bias_variable([self.n_neurons_layer1], name='fc1', dtype=tf.float32)\n",
    "            a_fc1 = tf.nn.sigmoid(tf.matmul(self.X, self.W_fc1) + b_fc1)\n",
    "            \n",
    "            # Fully connected layer 2\n",
    "            self.W_fc2 = self.weight_variable([self.n_neurons_layer1, self.n_neurons_layer2], name='fc2', dtype=tf.float32)\n",
    "            b_fc2 = self.bias_variable([self.n_neurons_layer2], name='fc2', dtype=tf.float32)\n",
    "            a_fc2 = tf.nn.sigmoid(tf.matmul(a_fc1, self.W_fc2) + b_fc2)\n",
    "            \n",
    "            # Output layer\n",
    "            self.W_out = self.weight_variable([self.n_neurons_layer2, self.n_categories], name='out', dtype=tf.float32)\n",
    "            b_out = self.bias_variable([self.n_categories], name='out', dtype=tf.float32)\n",
    "            self.z_out = tf.matmul(a_fc2, self.W_out) + b_out\n",
    "    \n",
    "    def create_loss(self):\n",
    "        with tf.compat.v1.name_scope('loss'):\n",
    "            softmax_loss = tf.reduce_mean(input_tensor=tf.nn.softmax_cross_entropy_with_logits(labels=self.Y, logits=self.z_out))\n",
    "            \n",
    "            regularizer_loss_fc1 = tf.nn.l2_loss(self.W_fc1)\n",
    "            regularizer_loss_fc2 = tf.nn.l2_loss(self.W_fc2)\n",
    "            regularizer_loss_out = tf.nn.l2_loss(self.W_out)\n",
    "            regularizer_loss = self.lmbd*(regularizer_loss_fc1 + regularizer_loss_fc2 + regularizer_loss_out)\n",
    "            \n",
    "            self.loss = softmax_loss + regularizer_loss\n",
    "\n",
    "    def create_accuracy(self):\n",
    "        with tf.compat.v1.name_scope('accuracy'):\n",
    "            probabilities = tf.nn.softmax(self.z_out)\n",
    "            predictions = tf.argmax(input=probabilities, axis=1)\n",
    "            labels = tf.argmax(input=self.Y, axis=1)\n",
    "            \n",
    "            correct_predictions = tf.equal(predictions, labels)\n",
    "            correct_predictions = tf.cast(correct_predictions, tf.float32)\n",
    "            self.accuracy = tf.reduce_mean(input_tensor=correct_predictions)\n",
    "    \n",
    "    def create_optimiser(self):\n",
    "        with tf.compat.v1.name_scope('optimizer'):\n",
    "            self.optimizer = tf.compat.v1.train.GradientDescentOptimizer(learning_rate=self.eta).minimize(self.loss, global_step=self.global_step)\n",
    "            \n",
    "    def weight_variable(self, shape, name='', dtype=tf.float32):\n",
    "        initial = tf.random.truncated_normal(shape, stddev=0.1)\n",
    "        return tf.Variable(initial, name=name, dtype=dtype)\n",
    "    \n",
    "    def bias_variable(self, shape, name='', dtype=tf.float32):\n",
    "        initial = tf.constant(0.1, shape=shape)\n",
    "        return tf.Variable(initial, name=name, dtype=dtype)\n",
    "    \n",
    "    def fit(self):\n",
    "        data_indices = np.arange(self.n_inputs)\n",
    "\n",
    "        with tf.compat.v1.Session() as sess:\n",
    "            sess.run(tf.compat.v1.global_variables_initializer())\n",
    "            for i in range(self.epochs):\n",
    "                for j in range(self.iterations):\n",
    "                    chosen_datapoints = np.random.choice(data_indices, size=self.batch_size, replace=False)\n",
    "                    batch_X, batch_Y = self.X_train[chosen_datapoints], self.Y_train[chosen_datapoints]\n",
    "                    sess.run([DNN.loss, DNN.optimizer],\n",
    "                        feed_dict={DNN.X: batch_X,\n",
    "                                   DNN.Y: batch_Y})\n",
    "                    accuracy = sess.run(DNN.accuracy,\n",
    "                        feed_dict={DNN.X: batch_X,\n",
    "                                   DNN.Y: batch_Y=})\n",
    "                    step = sess.run(DNN.global_step)\n",
    "    \n",
    "            self.train_loss, self.train_accuracy = sess.run([DNN.loss, DNN.accuracy],\n",
    "                feed_dict={DNN.X: self.X_train,\n",
    "                           DNN.Y: self.Y_train})\n",
    "        \n",
    "            self.test_loss, self.test_accuracy = sess.run([DNN.loss, DNN.accuracy],\n",
    "                feed_dict={DNN.X: self.X_test,\n",
    "                           DNN.Y: self.Y_test})"
   ]
  },
  {
   "cell_type": "code",
   "execution_count": 2743,
   "metadata": {},
   "outputs": [
    {
     "name": "stdout",
     "output_type": "stream",
     "text": [
      "[1.e-05 1.e-04 1.e-03 1.e-02 1.e-01 1.e+00 1.e+01]\n"
     ]
    }
   ],
   "source": [
    "epochs = 100\n",
    "batch_size = 100\n",
    "n_neurons_layer1 = 100\n",
    "n_neurons_layer2 = 50\n",
    "n_categories = 2\n",
    "eta_vals = np.logspace(-5, 1, 7)\n",
    "lmbd_vals = np.logspace(-4, 1, 6)\n",
    "lmbd_vals = np.hstack((0,lmbd_vals))\n",
    "print(eta_vals)"
   ]
  },
  {
   "cell_type": "code",
   "execution_count": 2741,
   "metadata": {
    "scrolled": false
   },
   "outputs": [
    {
     "name": "stdout",
     "output_type": "stream",
     "text": [
      "Learning rate =  1e-05\n",
      "Lambda =  0.0\n",
      "Test accuracy: 0.779\n",
      "\n",
      "Learning rate =  1e-05\n",
      "Lambda =  0.0001\n",
      "Test accuracy: 0.779\n",
      "\n",
      "Learning rate =  1e-05\n",
      "Lambda =  0.001\n",
      "Test accuracy: 0.779\n",
      "\n",
      "Learning rate =  1e-05\n",
      "Lambda =  0.01\n",
      "Test accuracy: 0.779\n",
      "\n",
      "Learning rate =  1e-05\n",
      "Lambda =  0.1\n",
      "Test accuracy: 0.779\n",
      "\n",
      "Learning rate =  1e-05\n",
      "Lambda =  1.0\n",
      "Test accuracy: 0.779\n",
      "\n",
      "Learning rate =  1e-05\n",
      "Lambda =  10.0\n",
      "Test accuracy: 0.779\n",
      "\n",
      "Learning rate =  0.0001\n",
      "Lambda =  0.0\n",
      "Test accuracy: 0.779\n",
      "\n",
      "Learning rate =  0.0001\n",
      "Lambda =  0.0001\n",
      "Test accuracy: 0.779\n",
      "\n",
      "Learning rate =  0.0001\n",
      "Lambda =  0.001\n",
      "Test accuracy: 0.779\n",
      "\n",
      "Learning rate =  0.0001\n",
      "Lambda =  0.01\n",
      "Test accuracy: 0.779\n",
      "\n",
      "Learning rate =  0.0001\n",
      "Lambda =  0.1\n",
      "Test accuracy: 0.779\n",
      "\n",
      "Learning rate =  0.0001\n",
      "Lambda =  1.0\n",
      "Test accuracy: 0.779\n",
      "\n",
      "Learning rate =  0.0001\n",
      "Lambda =  10.0\n",
      "Test accuracy: 0.779\n",
      "\n",
      "Learning rate =  0.001\n",
      "Lambda =  0.0\n",
      "Test accuracy: 0.779\n",
      "\n",
      "Learning rate =  0.001\n",
      "Lambda =  0.0001\n",
      "Test accuracy: 0.779\n",
      "\n",
      "Learning rate =  0.001\n",
      "Lambda =  0.001\n",
      "Test accuracy: 0.779\n",
      "\n",
      "Learning rate =  0.001\n",
      "Lambda =  0.01\n",
      "Test accuracy: 0.779\n",
      "\n",
      "Learning rate =  0.001\n",
      "Lambda =  0.1\n",
      "Test accuracy: 0.779\n",
      "\n",
      "Learning rate =  0.001\n",
      "Lambda =  1.0\n",
      "Test accuracy: 0.779\n",
      "\n",
      "Learning rate =  0.001\n",
      "Lambda =  10.0\n",
      "Test accuracy: 0.779\n",
      "\n",
      "Learning rate =  0.01\n",
      "Lambda =  0.0\n",
      "Test accuracy: 0.808\n",
      "\n",
      "Learning rate =  0.01\n",
      "Lambda =  0.0001\n",
      "Test accuracy: 0.809\n",
      "\n",
      "Learning rate =  0.01\n",
      "Lambda =  0.001\n",
      "Test accuracy: 0.809\n",
      "\n",
      "Learning rate =  0.01\n",
      "Lambda =  0.01\n",
      "Test accuracy: 0.800\n",
      "\n",
      "Learning rate =  0.01\n",
      "Lambda =  0.1\n",
      "Test accuracy: 0.779\n",
      "\n",
      "Learning rate =  0.01\n",
      "Lambda =  1.0\n",
      "Test accuracy: 0.779\n",
      "\n",
      "Learning rate =  0.01\n",
      "Lambda =  10.0\n",
      "Test accuracy: 0.779\n",
      "\n",
      "Learning rate =  0.1\n",
      "Lambda =  0.0\n",
      "Test accuracy: 0.820\n",
      "\n",
      "Learning rate =  0.1\n",
      "Lambda =  0.0001\n",
      "Test accuracy: 0.821\n",
      "\n",
      "Learning rate =  0.1\n",
      "Lambda =  0.001\n",
      "Test accuracy: 0.816\n",
      "\n",
      "Learning rate =  0.1\n",
      "Lambda =  0.01\n",
      "Test accuracy: 0.805\n",
      "\n",
      "Learning rate =  0.1\n",
      "Lambda =  0.1\n",
      "Test accuracy: 0.779\n",
      "\n",
      "Learning rate =  0.1\n",
      "Lambda =  1.0\n",
      "Test accuracy: 0.779\n",
      "\n",
      "Learning rate =  0.1\n",
      "Lambda =  10.0\n",
      "Test accuracy: 0.779\n",
      "\n",
      "Learning rate =  1.0\n",
      "Lambda =  0.0\n",
      "Test accuracy: 0.821\n",
      "\n",
      "Learning rate =  1.0\n",
      "Lambda =  0.0001\n",
      "Test accuracy: 0.819\n",
      "\n",
      "Learning rate =  1.0\n",
      "Lambda =  0.001\n",
      "Test accuracy: 0.819\n",
      "\n",
      "Learning rate =  1.0\n",
      "Lambda =  0.01\n",
      "Test accuracy: 0.782\n",
      "\n",
      "Learning rate =  1.0\n",
      "Lambda =  0.1\n",
      "Test accuracy: 0.779\n",
      "\n",
      "Learning rate =  1.0\n",
      "Lambda =  1.0\n",
      "Test accuracy: 0.779\n",
      "\n",
      "Learning rate =  1.0\n",
      "Lambda =  10.0\n",
      "Test accuracy: 0.779\n",
      "\n",
      "Learning rate =  10.0\n",
      "Lambda =  0.0\n",
      "Test accuracy: 0.757\n",
      "\n",
      "Learning rate =  10.0\n",
      "Lambda =  0.0001\n",
      "Test accuracy: 0.816\n",
      "\n",
      "Learning rate =  10.0\n",
      "Lambda =  0.001\n",
      "Test accuracy: 0.813\n",
      "\n",
      "Learning rate =  10.0\n",
      "Lambda =  0.01\n",
      "Test accuracy: 0.779\n",
      "\n",
      "Learning rate =  10.0\n",
      "Lambda =  0.1\n",
      "Test accuracy: 0.779\n",
      "\n",
      "Learning rate =  10.0\n",
      "Lambda =  1.0\n",
      "Test accuracy: 0.779\n",
      "\n",
      "Learning rate =  10.0\n",
      "Lambda =  10.0\n",
      "Test accuracy: 0.779\n",
      "\n"
     ]
    }
   ],
   "source": [
    "DNN_tf = np.zeros((len(eta_vals), len(lmbd_vals)), dtype=object)\n",
    "# import tensorflow.compat.v1 as tf\n",
    "# tf.disable_v2_behavior()\n",
    "\n",
    "# XTrain,yTrain,XTest,yTest = ReadData()\n",
    "# Y_train_onehot, Y_test_onehot = to_categorical(yTrain), to_categorical(yTest)\n",
    "# Y_train_onehot, Y_test_onehot\n",
    "\n",
    "for i, eta in enumerate(eta_vals):\n",
    "    for j, lmbd in enumerate(lmbd_vals):\n",
    "        DNN = NeuralNetworkTensorflow(XTrain, Y_train_onehot, XTest, Y_test_onehot,\n",
    "                                      n_neurons_layer1, n_neurons_layer2, n_categories,\n",
    "                                      epochs=epochs, batch_size=batch_size, eta=eta, lmbd=lmbd)\n",
    "        DNN.fit()\n",
    "        \n",
    "        DNN_tf[i][j] = DNN\n",
    "        \n",
    "        print(\"Learning rate = \", eta)\n",
    "        print(\"Lambda = \", lmbd)\n",
    "        print(\"Test accuracy: %.3f\" % DNN.test_accuracy)\n",
    "        print()"
   ]
  },
  {
   "cell_type": "code",
   "execution_count": 2742,
   "metadata": {},
   "outputs": [
    {
     "data": {
      "image/png": "[encoded data removed]",
      "text/plain": [
       "<Figure size 720x720 with 2 Axes>"
      ]
     },
     "metadata": {},
     "output_type": "display_data"
    },
    {
     "data": {
      "image/png": "[encoded data removed]",
      "text/plain": [
       "<Figure size 720x720 with 2 Axes>"
      ]
     },
     "metadata": {},
     "output_type": "display_data"
    }
   ],
   "source": [
    "# optional\n",
    "# visual representation of grid search\n",
    "# uses seaborn heatmap, could probably do this in matplotlib\n",
    "import seaborn as sns\n",
    "\n",
    "sns.set()\n",
    "\n",
    "train_accuracy = np.zeros((len(eta_vals), len(lmbd_vals)))\n",
    "test_accuracy = np.zeros((len(eta_vals), len(lmbd_vals)))\n",
    "\n",
    "for i in range(len(eta_vals)):\n",
    "    for j in range(len(lmbd_vals)):\n",
    "        DNN = DNN_tf[i][j]\n",
    "\n",
    "        train_accuracy[i][j] = DNN.train_accuracy\n",
    "        test_accuracy[i][j] = DNN.test_accuracy\n",
    "\n",
    "        \n",
    "fig, ax = plt.subplots(figsize = (10, 10))\n",
    "sns.heatmap(train_accuracy, annot=True, ax=ax, cmap=\"viridis\")\n",
    "ax.set_title(\"Training Accuracy\")\n",
    "ax.set_ylabel(\"$\\eta$\")\n",
    "ax.set_xlabel(\"$\\lambda$\")\n",
    "plt.show()\n",
    "\n",
    "fig, ax = plt.subplots(figsize = (10, 10))\n",
    "sns.heatmap(test_accuracy, annot=True, ax=ax, cmap=\"viridis\")\n",
    "ax.set_title(\"Test Accuracy\")\n",
    "ax.set_ylabel(\"$\\eta$\")\n",
    "ax.set_xlabel(\"$\\lambda$\")\n",
    "plt.show()"
   ]
  },
  {
   "cell_type": "code",
   "execution_count": 2372,
   "metadata": {},
   "outputs": [
    {
     "name": "stdout",
     "output_type": "stream",
     "text": [
      "(15000, 31) (15000,) (15000, 2)\n"
     ]
    }
   ],
   "source": [
    "XTrain,XTest,yTrain,yTest = ReadData()\n",
    "yTrain=np.squeeze(yTrain)\n",
    "from sklearn.metrics import accuracy_score\n",
    "def to_categorical_numpy(integer_vector):\n",
    "    n_inputs = len(integer_vector)\n",
    "    n_categories = np.max(integer_vector) + 1\n",
    "    onehot_vector = np.zeros((n_inputs, n_categories))\n",
    "    onehot_vector[range(n_inputs), integer_vector] = 1\n",
    "    \n",
    "    return onehot_vector\n",
    "from keras.utils import to_categorical\n",
    "\n",
    "#Y_train_onehot, Y_test_onehot = to_categorical(Y_train), to_categorical(Y_test)\n",
    "# Y_train_onehot, Y_test_onehot = to_categorical_numpy(yTrain), to_categorical_numpy(yTest)\n",
    "Y_train_onehot, Y_test_onehot = to_categorical(yTrain), to_categorical(yTest)\n",
    "# print(np.min(Y_train_onehot))\n",
    "print(np.shape(XTrain),np.shape(yTrain),np.shape(Y_train_onehot))\n",
    "\n",
    "# def sigmoid(x):\n",
    "#     return np.where(x >= 0, \n",
    "#                     1 / (1 + np.exp(-x)), \n",
    "#                     np.exp(x) / (1 + np.exp(x)))\n",
    "def sigmoid(x):\n",
    "    return np.where(x >= 1e-10,\n",
    "                    1 / (1 + np.exp(-x)), \n",
    "                    0)"
   ]
  },
  {
   "cell_type": "code",
   "execution_count": 2429,
   "metadata": {},
   "outputs": [],
   "source": [
    "class NeuralNetwork:\n",
    "    def __init__(\n",
    "            self,\n",
    "            X_data,\n",
    "            Y_data,\n",
    "            n_hidden_neurons=50,\n",
    "            n_categories=2,\n",
    "            epochs=10,\n",
    "            batch_size=100,\n",
    "            eta=0.001,\n",
    "            lmbd=0.0):\n",
    "\n",
    "        self.X_data_full = X_data\n",
    "        self.Y_data_full = Y_data\n",
    "        self.n_inputs = X_data.shape[0]\n",
    "        self.n_features = X_data.shape[1]\n",
    "        self.n_hidden_neurons = n_hidden_neurons\n",
    "        self.n_categories = n_categories\n",
    "\n",
    "        self.epochs = epochs\n",
    "        self.batch_size = batch_size\n",
    "        self.iterations = self.n_inputs // self.batch_size\n",
    "        print(self.iterations)\n",
    "        self.eta = eta\n",
    "        self.lmbd = lmbd\n",
    "\n",
    "        self.create_biases_and_weights()\n",
    "#         print(self.hidden_weights)\n",
    "#         print(self.output_weights)\n",
    "\n",
    "    def create_biases_and_weights(self):\n",
    "        self.hidden_weights = np.random.randn(self.n_features, self.n_hidden_neurons)\n",
    "        self.hidden_bias = np.zeros(self.n_hidden_neurons) + 0.01\n",
    "\n",
    "        self.output_weights = np.random.randn(self.n_hidden_neurons, self.n_categories)\n",
    "        self.output_bias = np.zeros(self.n_categories) + 0.01\n",
    "\n",
    "    def feed_forward(self):\n",
    "        # feed-forward for training\n",
    "        self.z_h = np.matmul(self.X_data, self.hidden_weights) + self.hidden_bias\n",
    "#         print(\"----------ZH--------------\")\n",
    "#         print(self.z_h)\n",
    "#         print(\"-----------------AH----------------------------\")\n",
    "        self.a_h = sigmoid(self.z_h)\n",
    "#         print(self.a_h)\n",
    "        self.z_o = np.matmul(self.a_h, self.output_weights) + self.output_bias\n",
    "#         print(self.z_o)\n",
    "        exp_term = np.exp(self.z_o)\n",
    "#         print(exp_term)\n",
    "        self.probabilities = exp_term / np.sum(exp_term, axis=1, keepdims=True)\n",
    "#         print(np.sum(exp_term, axis=1, keepdims=True))\n",
    "\n",
    "    def feed_forward_out(self, X):\n",
    "        # feed-forward for output\n",
    "        z_h = np.matmul(X, self.hidden_weights) + self.hidden_bias\n",
    "        a_h = sigmoid(z_h)     \n",
    "        z_o = np.matmul(a_h, self.output_weights) + self.output_bias\n",
    "        exp_term = np.exp(z_o)\n",
    "        probabilities = exp_term / np.sum(exp_term, axis=1, keepdims=True)\n",
    "        return probabilities\n",
    "\n",
    "    def backpropagation(self):\n",
    "        error_output = self.probabilities - self.Y_data\n",
    "#         print(np.shape(error_output),np.shape(self.probabilities),np.shape(self.Y_data))\n",
    "        error_hidden = np.matmul(error_output, self.output_weights.T) * self.a_h * (1 - self.a_h)\n",
    "#         print(np.shape(error_hidden),np.shape(error_output),np.shape(self.output_weights.T),np.shape(self.a_h))\n",
    "\n",
    "#         print(self.probabilities)\n",
    "#         print(np.shape(self.a_h.T[:,:]))\n",
    "#         print(np.shape(error_output[:,:]))\n",
    "#         print(\"--------------------\")\n",
    "        self.output_weights_gradient = np.matmul(self.a_h.T, error_output)\n",
    "#         print(self.output_weights_gradient)\n",
    "        self.output_bias_gradient = np.sum(error_output, axis=0)\n",
    "\n",
    "        self.hidden_weights_gradient = np.matmul(self.X_data.T, error_hidden)\n",
    "        self.hidden_bias_gradient = np.sum(error_hidden, axis=0)\n",
    "\n",
    "#         if self.lmbd > 0.0:\n",
    "#             self.output_weights_gradient += self.lmbd * self.output_weights\n",
    "#             self.hidden_weights_gradient += self.lmbd * self.hidden_weights\n",
    "#         print(self.output_weights,self.eta*self.output_weights_gradient)\n",
    "#             print(np.max(self.output_weights_gradient))\n",
    "#         tresh = 10 #THIS CLIPPING STUFF SLOWS IT DOWN HORRIBLY\n",
    "#         if np.linalg.norm(self.output_weights_gradient)>tresh:\n",
    "#             self.output_weights_gradient = (tresh/np.linalg.norm(self.output_weights_gradient))*self.output_weights_gradient\n",
    "        self.output_weights -= self.eta * self.output_weights_gradient\n",
    "# #         print(self.output_weights)\n",
    "        self.output_bias -= self.eta * self.output_bias_gradient\n",
    "        self.hidden_weights -= self.eta * self.hidden_weights_gradient\n",
    "        self.hidden_bias -= self.eta * self.hidden_bias_gradient\n",
    "\n",
    "    def predict(self, X):\n",
    "        probabilities = self.feed_forward_out(X)\n",
    "        return np.argmax(probabilities, axis=1)\n",
    "\n",
    "    def predict_probabilities(self, X):\n",
    "        probabilities = self.feed_forward_out(X)\n",
    "        return probabilities\n",
    "\n",
    "    def train(self):\n",
    "#         print(self.hidden_weights)\n",
    "\n",
    "        data_indices = np.arange(self.n_inputs)\n",
    "\n",
    "        for i in range(self.epochs):\n",
    "#             print(i,\"---------------------------------------------------\")\n",
    "            for j in range(self.iterations):\n",
    "#                 print(j,\"************************************************\")\n",
    "#                 print(self.hidden_weights)\n",
    "#                 print(\"xxxxxxxxxxxxxxxxxxxxxxxxxxxxxxxxxxxxxxxxxxxxxxxxxxx\")\n",
    "#                 if self.output_weights.any == 'nan':\n",
    "#                     print(self.hidden_weights)\n",
    "#                 print(self.hidden_weights)\n",
    "                if np.isnan(self.hidden_weights).any():\n",
    "                    print(\"hidden w\",i,j)\n",
    "#                     break\n",
    "                if np.isnan(self.output_weights).any():\n",
    "                    print(\"output w\",i,j)\n",
    "#                     break\n",
    "                if np.isnan(self.hidden_bias).any():\n",
    "                    print(\"hidden b\",i,j)\n",
    "#                     break\n",
    "                if np.isnan(self.output_bias).any():\n",
    "                    print(\"output b\",i,j)\n",
    "#                     break\n",
    "                # pick datapoints with replacement\n",
    "                chosen_datapoints = np.random.choice(\n",
    "                    data_indices, size=self.batch_size, replace=False\n",
    "                )\n",
    "                # minibatch training data\n",
    "                self.X_data = self.X_data_full[chosen_datapoints]\n",
    "                self.Y_data = self.Y_data_full[chosen_datapoints]\n",
    "                self.feed_forward()\n",
    "                if np.isnan(self.probabilities).any():\n",
    "                    print(\"probs\",i,j)\n",
    "                self.backpropagation()"
   ]
  },
  {
   "cell_type": "code",
   "execution_count": 2430,
   "metadata": {
    "scrolled": true
   },
   "outputs": [
    {
     "name": "stdout",
     "output_type": "stream",
     "text": [
      "60.136061897853054\n",
      "1500\n"
     ]
    },
    {
     "name": "stderr",
     "output_type": "stream",
     "text": [
      "/home/janfki/anaconda3/lib/python3.7/site-packages/ipykernel_launcher.py:25: RuntimeWarning: overflow encountered in exp\n"
     ]
    }
   ],
   "source": [
    "epochs = 10\n",
    "# batch_size = int(XTrain.shape[0]/10)\n",
    "batch_size=10\n",
    "n_hidden_neurons=5\n",
    "\n",
    "def to_categorical_numpy(integer_vector):\n",
    "    n_inputs = len(integer_vector)\n",
    "    n_categories = np.max(integer_vector) + 1\n",
    "    onehot_vector = np.zeros((n_inputs, n_categories))\n",
    "    onehot_vector[range(n_inputs), integer_vector] = 1\n",
    "    \n",
    "    return onehot_vector\n",
    "\n",
    "#Y_train_onehot, Y_test_onehot = to_categorical(Y_train), to_categorical(Y_test)\n",
    "Y_train_onehot, Y_test_onehot = to_categorical_numpy(yTrain), to_categorical_numpy(yTest)\n",
    "\n",
    "\n",
    "\n",
    "XTrainz=XTrain[:,11:]\n",
    "print(np.max(XTrainz))\n",
    "dnn = NeuralNetwork(XTrainz, Y_train_onehot, eta=eta, lmbd=lmbd, epochs=epochs, batch_size=batch_size,\n",
    "                    n_hidden_neurons=n_hidden_neurons, n_categories=n_categories)\n",
    "dnn.train()\n",
    "# test_predict = dnn.predict(XTest)\n",
    "# #TEST PREDICT ALLTID 0! WHY?!??!?!?!?!?!?!?!?!?!!?!?!?!??!?!\n",
    "# # accuracy score from scikit library\n",
    "# print(\"Accuracy score on test set: \", accuracy_score(yTest, test_predict))\n",
    "\n",
    "# # equivalent in numpy\n",
    "# def accuracy_score_numpy(yTest, Y_pred):\n",
    "#     return np.sum(yTest == Y_pred) / len(yTest)\n",
    "# print(\"Accuracy on zeros: \",accuracy_score(np.zeros(len(test_predict)),yTest))\n",
    "# #print(\"Accuracy score on test set: \", accuracy_score_numpy(Y_test, test_predict))"
   ]
  },
  {
   "cell_type": "code",
   "execution_count": null,
   "metadata": {},
   "outputs": [],
   "source": []
  },
  {
   "cell_type": "code",
   "execution_count": null,
   "metadata": {},
   "outputs": [],
   "source": []
  }
 ],
 "metadata": {
  "kernelspec": {
   "display_name": "Python 3",
   "language": "python",
   "name": "python3"
  },
  "language_info": {
   "codemirror_mode": {
    "name": "ipython",
    "version": 3
   },
   "file_extension": ".py",
   "mimetype": "text/x-python",
   "name": "python",
   "nbconvert_exporter": "python",
   "pygments_lexer": "ipython3",
   "version": "3.7.4"
  }
 },
 "nbformat": 4,
 "nbformat_minor": 2
}
