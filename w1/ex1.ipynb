{
 "cells": [
  {
   "cell_type": "code",
   "execution_count": 82,
   "metadata": {},
   "outputs": [],
   "source": [
    "import numpy as np\n",
    "import matplotlib.pyplot as plt\n",
    "\n",
    "# \"Dataset\"\n",
    "x = np.random.rand(100)\n",
    "y = 5*x*x+1.0*np.random.rand(100)"
   ]
  },
  {
   "cell_type": "code",
   "execution_count": 83,
   "metadata": {},
   "outputs": [],
   "source": [
    "# Design matrix\n",
    "X = np.zeros((len(x),3))\n",
    "X[:,0] = 1\n",
    "X[:,1] = x\n",
    "X[:,2] = x*x\n",
    "\n",
    "# find parameters\n",
    "beta = np.linalg.inv(X.T.dot(X)).dot(X.T).dot(y)\n",
    "\n",
    "# make prediction\n",
    "ytilde = X @ beta"
   ]
  },
  {
   "cell_type": "code",
   "execution_count": 84,
   "metadata": {},
   "outputs": [
    {
     "name": "stdout",
     "output_type": "stream",
     "text": [
      "beta0: 0.3679592083011269\n",
      "beta1: 0.361791598963332\n",
      "beta2: 4.81746816905434\n"
     ]
    },
    {
     "data": {
      "image/png": "[encoded data removed]",
      "text/plain": [
       "<Figure size 432x288 with 1 Axes>"
      ]
     },
     "metadata": {
      "needs_background": "light"
     },
     "output_type": "display_data"
    }
   ],
   "source": [
    "#sort data\n",
    "order = np.argsort(x)\n",
    "xs = np.array(x)[order]\n",
    "ytildes = np.array(ytilde)[order]\n",
    "\n",
    "print('beta0:', beta[0])\n",
    "print('beta1:', beta[1])\n",
    "print('beta2:', beta[2])\n",
    "\n",
    "# Make plots to compare\n",
    "fig,ax = plt.subplots()\n",
    "ax.plot(xs,ytildes,label='Fit')\n",
    "ax.scatter(x,y,c='r',label='Data')\n",
    "ax.legend()\n",
    "plt.show()"
   ]
  },
  {
   "cell_type": "markdown",
   "metadata": {},
   "source": [
    "# 2"
   ]
  },
  {
   "cell_type": "code",
   "execution_count": 85,
   "metadata": {},
   "outputs": [],
   "source": [
    "from sklearn.preprocessing import PolynomialFeatures\n",
    "from sklearn.linear_model import LinearRegression"
   ]
  },
  {
   "cell_type": "code",
   "execution_count": 86,
   "metadata": {},
   "outputs": [],
   "source": [
    "poly2 = PolynomialFeatures(degree=2)\n",
    "Xskl = poly2.fit_transform(x[:,np.newaxis])\n",
    "clf2 = LinearRegression()\n",
    "clf2.fit(Xskl,y) #does this mess up y?\n",
    "ypredict = clf2.predict(Xskl)"
   ]
  },
  {
   "cell_type": "code",
   "execution_count": 87,
   "metadata": {},
   "outputs": [
    {
     "name": "stdout",
     "output_type": "stream",
     "text": [
      "beta0: 0.36795920830113027\n",
      "beta1: 0.36179159896333124\n",
      "beta2: 4.817468169054312\n"
     ]
    },
    {
     "data": {
      "image/png": "[encoded data removed]",
      "text/plain": [
       "<Figure size 432x288 with 1 Axes>"
      ]
     },
     "metadata": {
      "needs_background": "light"
     },
     "output_type": "display_data"
    }
   ],
   "source": [
    "print('beta0:', clf2.intercept_)\n",
    "print('beta1:', clf2.coef_[1])\n",
    "print('beta2:', clf2.coef_[2])\n",
    "\n",
    "# Make plots to compare\n",
    "fig,ax = plt.subplots()\n",
    "poly2_plot = plt.plot(xs, ypredict[order], label='skl-Fit')\n",
    "ax.scatter(x,y,c='r',label='Data')\n",
    "ax.legend()\n",
    "plt.show()"
   ]
  },
  {
   "cell_type": "code",
   "execution_count": 88,
   "metadata": {},
   "outputs": [
    {
     "name": "stdout",
     "output_type": "stream",
     "text": [
      "beta0: -3.3861802251067274e-15\n",
      "beta0: 7.771561172376096e-16\n",
      "beta0: 2.842170943040401e-14\n"
     ]
    }
   ],
   "source": [
    "#differences\n",
    "print('beta0:', beta[0]-clf2.intercept_)\n",
    "print('beta0:', beta[1]-clf2.coef_[1])\n",
    "print('beta0:', beta[2]-clf2.coef_[2])"
   ]
  },
  {
   "cell_type": "markdown",
   "metadata": {},
   "source": [
    "# 3"
   ]
  },
  {
   "cell_type": "code",
   "execution_count": 89,
   "metadata": {},
   "outputs": [],
   "source": [
    "from sklearn.metrics import mean_squared_error, r2_score"
   ]
  },
  {
   "cell_type": "code",
   "execution_count": 90,
   "metadata": {},
   "outputs": [],
   "source": [
    "def R2(y_data, y_model):\n",
    "    return 1 - np.sum((y_data - y_model) ** 2) / np.sum((y_data - np.mean(y_model)) ** 2)"
   ]
  },
  {
   "cell_type": "code",
   "execution_count": 91,
   "metadata": {},
   "outputs": [],
   "source": [
    "def MSE(y_data,y_model):\n",
    "    n = np.size(y_model)\n",
    "    return np.sum((y_data-y_model)**2)/n"
   ]
  },
  {
   "cell_type": "code",
   "execution_count": 92,
   "metadata": {},
   "outputs": [
    {
     "name": "stdout",
     "output_type": "stream",
     "text": [
      "Mean squared error (skl): 0.08\n",
      "Mean squared error (slf): 0.08\n",
      "Variance score (skl): 0.97\n",
      "Variance score (slf): 0.97\n"
     ]
    }
   ],
   "source": [
    "# The mean squared error                               \n",
    "print(\"Mean squared error (skl): %.2f\" % mean_squared_error(y, ypredict))\n",
    "print(\"Mean squared error (slf): %.2f\" % MSE(y, ytilde))\n",
    "\n",
    "# Explained variance score: 1 is perfect prediction                                 \n",
    "print('Variance score (skl): %.2f' % r2_score(y, ypredict))\n",
    "print('Variance score (slf): %.2f' %R2(y, ytilde))"
   ]
  },
  {
   "cell_type": "code",
   "execution_count": null,
   "metadata": {},
   "outputs": [],
   "source": []
  }
 ],
 "metadata": {
  "kernelspec": {
   "display_name": "Python 3",
   "language": "python",
   "name": "python3"
  },
  "language_info": {
   "codemirror_mode": {
    "name": "ipython",
    "version": 3
   },
   "file_extension": ".py",
   "mimetype": "text/x-python",
   "name": "python",
   "nbconvert_exporter": "python",
   "pygments_lexer": "ipython3",
   "version": "3.7.1"
  }
 },
 "nbformat": 4,
 "nbformat_minor": 2
}
